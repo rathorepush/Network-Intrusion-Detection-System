{
 "cells": [
  {
   "cell_type": "markdown",
   "metadata": {},
   "source": [
    "# BUSINESS PROBLEM:"
   ]
  },
  {
   "cell_type": "markdown",
   "metadata": {},
   "source": [
    "### To build Network Intrusion Detection System to detect anomalies and attacks in the network"
   ]
  },
  {
   "cell_type": "code",
   "execution_count": 1,
   "metadata": {},
   "outputs": [],
   "source": [
    "import numpy as np\n",
    "import pandas as pd\n",
    "import matplotlib.pyplot as plt\n",
    "import seaborn as sns\n",
    "%matplotlib inline\n",
    "\n",
    "from sklearn.model_selection import train_test_split, GridSearchCV, cross_val_score, StratifiedKFold\n",
    "from sklearn import metrics\n",
    "from sklearn.metrics import (confusion_matrix, accuracy_score, roc_auc_score, precision_score, recall_score, f1_score,\n",
    "                             roc_curve, auc, classification_report, mean_squared_error, mean_absolute_error, log_loss)\n",
    "\n",
    "# Warnings filter\n",
    "import warnings\n",
    "warnings.filterwarnings('ignore')"
   ]
  },
  {
   "cell_type": "markdown",
   "metadata": {},
   "source": [
    "####  UDFs"
   ]
  },
  {
   "cell_type": "code",
   "execution_count": 2,
   "metadata": {},
   "outputs": [],
   "source": [
    "# Create Data audit Report for continuous variables\n",
    "def continuous_summary(x):\n",
    "    return pd.Series([x.count(), x.isnull().sum(), x.sum(), x.mean(), x.median(),  \n",
    "                        x.std(), x.var(), x.min(), x.quantile(0.01), x.quantile(0.05),\n",
    "                          x.quantile(0.10),x.quantile(0.25),x.quantile(0.50),x.quantile(0.75), \n",
    "                              x.quantile(0.90),x.quantile(0.95), x.quantile(0.99),x.max()], \n",
    "                  index = ['N', 'NMISS', 'SUM', 'MEAN','MEDIAN', 'STD', 'VAR', 'MIN', 'P1', \n",
    "                               'P5' ,'P10' ,'P25' ,'P50' ,'P75' ,'P90' ,'P95' ,'P99' ,'MAX'])"
   ]
  },
  {
   "cell_type": "code",
   "execution_count": 3,
   "metadata": {},
   "outputs": [],
   "source": [
    "# Create Data audit Report for categorical variables\n",
    "def categorical_summary(x):\n",
    "    Mode = x.value_counts().sort_values(ascending = False).reset_index()[0:1]\n",
    "    return pd.Series([x.count(), x.isnull().sum(), Mode.iloc[0, 0], Mode.iloc[0, 1], \n",
    "                          round(Mode.iloc[0, 1] * 100/x.count(), 2)], \n",
    "                  index = ['N', 'NMISS', 'MODE', 'FREQ', 'PERCENT'])"
   ]
  },
  {
   "cell_type": "code",
   "execution_count": 4,
   "metadata": {},
   "outputs": [],
   "source": [
    "# Missing value imputation for categorical and continuous variables\n",
    "def missing_imputation(x, stats = 'mean'):\n",
    "    if (x.dtypes == 'float64') | (x.dtypes == 'int64'):\n",
    "        x = x.fillna(x.mean()) if stats == 'mean' else x.fillna(x.median())\n",
    "    else:\n",
    "        x = x.fillna(x.mode().iloc[0])\n",
    "    return x"
   ]
  },
  {
   "cell_type": "code",
   "execution_count": 5,
   "metadata": {},
   "outputs": [],
   "source": [
    "#Function for creating dummy variables\n",
    "def dummy_var(df, col):\n",
    "    dummies = pd.get_dummies(df[col], prefix = col, drop_first = True)\n",
    "    df = pd.concat([df, dummies], axis = 1)\n",
    "    df.drop(col, axis = 1, inplace = True )\n",
    "    return df"
   ]
  },
  {
   "cell_type": "code",
   "execution_count": 6,
   "metadata": {},
   "outputs": [],
   "source": [
    "#Outlier treatment function\n",
    "def outlier_capping(x):\n",
    "    x = x.clip(lower = x.quantile(0.01),upper = x.quantile(0.99))\n",
    "    return x"
   ]
  },
  {
   "cell_type": "markdown",
   "metadata": {},
   "source": [
    "#### importing dataset"
   ]
  },
  {
   "cell_type": "code",
   "execution_count": 7,
   "metadata": {},
   "outputs": [],
   "source": [
    "columns_name = ['duration', 'protocol_type', 'service', 'flag', 'src_bytes', 'dst_bytes', 'land', 'wrong_fragment',\n",
    "                 'urgent', 'hot', 'num_failed_logins', 'logged_in', 'num_compromised', 'root_shell', 'su_attempted', \n",
    "                 'num_root', 'num_file_creations', 'num_shells', 'num_access_files', 'num_outbound_cmds', \n",
    "                 'is_host_login', 'is_guest_login', 'count', 'srv_count', 'serror_rate', 'srv_serror_rate',\n",
    "                 'rerror_rate', 'srv_rerror_rate', 'same_srv_rate', 'diff_srv_rate', 'srv_diff_host_rate',\n",
    "                 'dst_host_count', 'dst_host_srv_count', 'dst_host_same_srv_rate', 'dst_host_diff_srv_rate',\n",
    "                 'dst_host_same_src_port_rate', 'dst_host_srv_diff_host_rate', 'dst_host_serror_rate',\n",
    "                 'dst_host_srv_serror_rate', 'dst_host_rerror_rate', 'dst_host_srv_rerror_rate', 'attack','last_flag']"
   ]
  },
  {
   "cell_type": "code",
   "execution_count": 8,
   "metadata": {},
   "outputs": [],
   "source": [
    "# Training dataset\n",
    "train = pd.read_csv('NSL_Dataset\\\\Train.txt', sep = ',', header = None, names = columns_name)\n",
    "\n",
    "# Testing dataset\n",
    "test = pd.read_csv('NSL_Dataset\\\\Test.txt', sep = ',', header = None, names = columns_name)"
   ]
  },
  {
   "cell_type": "code",
   "execution_count": 9,
   "metadata": {
    "scrolled": false
   },
   "outputs": [
    {
     "data": {
      "text/html": [
       "<div>\n",
       "<style scoped>\n",
       "    .dataframe tbody tr th:only-of-type {\n",
       "        vertical-align: middle;\n",
       "    }\n",
       "\n",
       "    .dataframe tbody tr th {\n",
       "        vertical-align: top;\n",
       "    }\n",
       "\n",
       "    .dataframe thead th {\n",
       "        text-align: right;\n",
       "    }\n",
       "</style>\n",
       "<table border=\"1\" class=\"dataframe\">\n",
       "  <thead>\n",
       "    <tr style=\"text-align: right;\">\n",
       "      <th></th>\n",
       "      <th>duration</th>\n",
       "      <th>protocol_type</th>\n",
       "      <th>service</th>\n",
       "      <th>flag</th>\n",
       "      <th>src_bytes</th>\n",
       "      <th>dst_bytes</th>\n",
       "      <th>land</th>\n",
       "      <th>wrong_fragment</th>\n",
       "      <th>urgent</th>\n",
       "      <th>hot</th>\n",
       "      <th>...</th>\n",
       "      <th>dst_host_same_srv_rate</th>\n",
       "      <th>dst_host_diff_srv_rate</th>\n",
       "      <th>dst_host_same_src_port_rate</th>\n",
       "      <th>dst_host_srv_diff_host_rate</th>\n",
       "      <th>dst_host_serror_rate</th>\n",
       "      <th>dst_host_srv_serror_rate</th>\n",
       "      <th>dst_host_rerror_rate</th>\n",
       "      <th>dst_host_srv_rerror_rate</th>\n",
       "      <th>attack</th>\n",
       "      <th>last_flag</th>\n",
       "    </tr>\n",
       "  </thead>\n",
       "  <tbody>\n",
       "    <tr>\n",
       "      <th>0</th>\n",
       "      <td>0</td>\n",
       "      <td>tcp</td>\n",
       "      <td>ftp_data</td>\n",
       "      <td>SF</td>\n",
       "      <td>491</td>\n",
       "      <td>0</td>\n",
       "      <td>0</td>\n",
       "      <td>0</td>\n",
       "      <td>0</td>\n",
       "      <td>0</td>\n",
       "      <td>...</td>\n",
       "      <td>0.17</td>\n",
       "      <td>0.03</td>\n",
       "      <td>0.17</td>\n",
       "      <td>0.0</td>\n",
       "      <td>0.0</td>\n",
       "      <td>0.0</td>\n",
       "      <td>0.05</td>\n",
       "      <td>0.0</td>\n",
       "      <td>normal</td>\n",
       "      <td>20</td>\n",
       "    </tr>\n",
       "    <tr>\n",
       "      <th>1</th>\n",
       "      <td>0</td>\n",
       "      <td>udp</td>\n",
       "      <td>other</td>\n",
       "      <td>SF</td>\n",
       "      <td>146</td>\n",
       "      <td>0</td>\n",
       "      <td>0</td>\n",
       "      <td>0</td>\n",
       "      <td>0</td>\n",
       "      <td>0</td>\n",
       "      <td>...</td>\n",
       "      <td>0.00</td>\n",
       "      <td>0.60</td>\n",
       "      <td>0.88</td>\n",
       "      <td>0.0</td>\n",
       "      <td>0.0</td>\n",
       "      <td>0.0</td>\n",
       "      <td>0.00</td>\n",
       "      <td>0.0</td>\n",
       "      <td>normal</td>\n",
       "      <td>15</td>\n",
       "    </tr>\n",
       "  </tbody>\n",
       "</table>\n",
       "<p>2 rows × 43 columns</p>\n",
       "</div>"
      ],
      "text/plain": [
       "   duration protocol_type   service flag  src_bytes  dst_bytes  land  \\\n",
       "0         0           tcp  ftp_data   SF        491          0     0   \n",
       "1         0           udp     other   SF        146          0     0   \n",
       "\n",
       "   wrong_fragment  urgent  hot  ...  dst_host_same_srv_rate  \\\n",
       "0               0       0    0  ...                    0.17   \n",
       "1               0       0    0  ...                    0.00   \n",
       "\n",
       "   dst_host_diff_srv_rate  dst_host_same_src_port_rate  \\\n",
       "0                    0.03                         0.17   \n",
       "1                    0.60                         0.88   \n",
       "\n",
       "   dst_host_srv_diff_host_rate  dst_host_serror_rate  \\\n",
       "0                          0.0                   0.0   \n",
       "1                          0.0                   0.0   \n",
       "\n",
       "   dst_host_srv_serror_rate  dst_host_rerror_rate  dst_host_srv_rerror_rate  \\\n",
       "0                       0.0                  0.05                       0.0   \n",
       "1                       0.0                  0.00                       0.0   \n",
       "\n",
       "   attack  last_flag  \n",
       "0  normal         20  \n",
       "1  normal         15  \n",
       "\n",
       "[2 rows x 43 columns]"
      ]
     },
     "execution_count": 9,
     "metadata": {},
     "output_type": "execute_result"
    }
   ],
   "source": [
    "train.head(2)"
   ]
  },
  {
   "cell_type": "code",
   "execution_count": 10,
   "metadata": {},
   "outputs": [
    {
     "name": "stdout",
     "output_type": "stream",
     "text": [
      "<class 'pandas.core.frame.DataFrame'>\n",
      "RangeIndex: 125973 entries, 0 to 125972\n",
      "Data columns (total 43 columns):\n",
      " #   Column                       Non-Null Count   Dtype  \n",
      "---  ------                       --------------   -----  \n",
      " 0   duration                     125973 non-null  int64  \n",
      " 1   protocol_type                125973 non-null  object \n",
      " 2   service                      125973 non-null  object \n",
      " 3   flag                         125973 non-null  object \n",
      " 4   src_bytes                    125973 non-null  int64  \n",
      " 5   dst_bytes                    125973 non-null  int64  \n",
      " 6   land                         125973 non-null  int64  \n",
      " 7   wrong_fragment               125973 non-null  int64  \n",
      " 8   urgent                       125973 non-null  int64  \n",
      " 9   hot                          125973 non-null  int64  \n",
      " 10  num_failed_logins            125973 non-null  int64  \n",
      " 11  logged_in                    125973 non-null  int64  \n",
      " 12  num_compromised              125973 non-null  int64  \n",
      " 13  root_shell                   125973 non-null  int64  \n",
      " 14  su_attempted                 125973 non-null  int64  \n",
      " 15  num_root                     125973 non-null  int64  \n",
      " 16  num_file_creations           125973 non-null  int64  \n",
      " 17  num_shells                   125973 non-null  int64  \n",
      " 18  num_access_files             125973 non-null  int64  \n",
      " 19  num_outbound_cmds            125973 non-null  int64  \n",
      " 20  is_host_login                125973 non-null  int64  \n",
      " 21  is_guest_login               125973 non-null  int64  \n",
      " 22  count                        125973 non-null  int64  \n",
      " 23  srv_count                    125973 non-null  int64  \n",
      " 24  serror_rate                  125973 non-null  float64\n",
      " 25  srv_serror_rate              125973 non-null  float64\n",
      " 26  rerror_rate                  125973 non-null  float64\n",
      " 27  srv_rerror_rate              125973 non-null  float64\n",
      " 28  same_srv_rate                125973 non-null  float64\n",
      " 29  diff_srv_rate                125973 non-null  float64\n",
      " 30  srv_diff_host_rate           125973 non-null  float64\n",
      " 31  dst_host_count               125973 non-null  int64  \n",
      " 32  dst_host_srv_count           125973 non-null  int64  \n",
      " 33  dst_host_same_srv_rate       125973 non-null  float64\n",
      " 34  dst_host_diff_srv_rate       125973 non-null  float64\n",
      " 35  dst_host_same_src_port_rate  125973 non-null  float64\n",
      " 36  dst_host_srv_diff_host_rate  125973 non-null  float64\n",
      " 37  dst_host_serror_rate         125973 non-null  float64\n",
      " 38  dst_host_srv_serror_rate     125973 non-null  float64\n",
      " 39  dst_host_rerror_rate         125973 non-null  float64\n",
      " 40  dst_host_srv_rerror_rate     125973 non-null  float64\n",
      " 41  attack                       125973 non-null  object \n",
      " 42  last_flag                    125973 non-null  int64  \n",
      "dtypes: float64(15), int64(24), object(4)\n",
      "memory usage: 41.3+ MB\n"
     ]
    }
   ],
   "source": [
    "train.info()"
   ]
  },
  {
   "cell_type": "markdown",
   "metadata": {},
   "source": [
    "#### Data Pre-Processing \n",
    " \n",
    "NSL-KDD dataset has 42 attributes for each connection record including class label containing attack types. The attack types are categorized into four attack classes \n",
    "\n",
    "1. **Denial of Service (DoS)**: is an attack in which an adversary directed a deluge of traffic requests to a system in order to make the computing or memory resource too busy or too full to handle legitimate requests and in the process, denies legitimate users access to a machine.\n",
    "2. **Probing Attack (Probe)**: probing network of computers to gather information to be used to compromise its security controls. \n",
    "3. **User to Root Attack (U2R)**: a class of exploit in which the adversary starts out with access to a normal user account on the system (gained either by sniffing passwords, a dictionary attack, or social engineering) and is able to exploit some vulnerability to gain root access to the system. \n",
    "4. **Remote to Local Attack (R2L)**: occurs when an attacker who has the ability to send packets to a machine over a network but who does not have an account on that machine exploits some vulnerability to gain local access as a user of that machine. "
   ]
  },
  {
   "cell_type": "code",
   "execution_count": 11,
   "metadata": {},
   "outputs": [],
   "source": [
    "# mapping the attacks\n",
    "\n",
    "dos = ['back', 'land', 'neptune', 'pod', 'smurf', 'teardrop', 'apache2', 'udpstorm', 'processtable', 'worm']\n",
    "\n",
    "probe = ['satan', 'ipsweep', 'nmap', 'portsweep', 'mscan', 'saint']\n",
    "\n",
    "r2l = ['guess_passwd','ftp_write', 'imap', 'phf', 'multihop', 'warezmaster', 'warezclient', 'spy', 'xlock', \n",
    "       'xsnoop', 'snmpguess', 'snmpgetattack', 'httptunnel', 'sendmail', 'named' ]\n",
    "\n",
    "u2r = ['buffer_overflow', 'loadmodule' , 'rootkit', 'perl', 'sqlattack', 'xterm', 'ps']\n",
    "\n",
    "normal = ['normal']"
   ]
  },
  {
   "cell_type": "markdown",
   "metadata": {},
   "source": [
    "#### Multinomial Classification"
   ]
  },
  {
   "cell_type": "code",
   "execution_count": 12,
   "metadata": {},
   "outputs": [],
   "source": [
    "train['attack_class'] = np.where(train.attack.isin(dos),'DoS',\n",
    "                                     np.where(train.attack.isin(probe),'Probe',\n",
    "                                             np.where(train.attack.isin(r2l),'R2L',\n",
    "                                                     np.where(train.attack.isin(u2r),'U2R','Normal'))))\n",
    "\n",
    "test['attack_class'] = np.where(test.attack.isin(dos),'DoS',\n",
    "                                     np.where(test.attack.isin(probe),'Probe',\n",
    "                                             np.where(test.attack.isin(r2l),'R2L',\n",
    "                                                     np.where(test.attack.isin(u2r),'U2R','Normal'))))"
   ]
  },
  {
   "cell_type": "markdown",
   "metadata": {},
   "source": [
    "#### Binomial Classification"
   ]
  },
  {
   "cell_type": "code",
   "execution_count": 13,
   "metadata": {
    "scrolled": true
   },
   "outputs": [],
   "source": [
    "train['attack'] = np.where(train.attack.isin(normal), 0, 1)\n",
    "test['attack'] = np.where(test.attack.isin(normal), 0, 1)"
   ]
  },
  {
   "cell_type": "code",
   "execution_count": 14,
   "metadata": {},
   "outputs": [
    {
     "data": {
      "text/html": [
       "<div>\n",
       "<style scoped>\n",
       "    .dataframe tbody tr th:only-of-type {\n",
       "        vertical-align: middle;\n",
       "    }\n",
       "\n",
       "    .dataframe tbody tr th {\n",
       "        vertical-align: top;\n",
       "    }\n",
       "\n",
       "    .dataframe thead th {\n",
       "        text-align: right;\n",
       "    }\n",
       "</style>\n",
       "<table border=\"1\" class=\"dataframe\">\n",
       "  <thead>\n",
       "    <tr style=\"text-align: right;\">\n",
       "      <th></th>\n",
       "      <th>duration</th>\n",
       "      <th>protocol_type</th>\n",
       "      <th>service</th>\n",
       "      <th>flag</th>\n",
       "      <th>src_bytes</th>\n",
       "      <th>dst_bytes</th>\n",
       "      <th>land</th>\n",
       "      <th>wrong_fragment</th>\n",
       "      <th>urgent</th>\n",
       "      <th>hot</th>\n",
       "      <th>...</th>\n",
       "      <th>dst_host_diff_srv_rate</th>\n",
       "      <th>dst_host_same_src_port_rate</th>\n",
       "      <th>dst_host_srv_diff_host_rate</th>\n",
       "      <th>dst_host_serror_rate</th>\n",
       "      <th>dst_host_srv_serror_rate</th>\n",
       "      <th>dst_host_rerror_rate</th>\n",
       "      <th>dst_host_srv_rerror_rate</th>\n",
       "      <th>attack</th>\n",
       "      <th>last_flag</th>\n",
       "      <th>attack_class</th>\n",
       "    </tr>\n",
       "  </thead>\n",
       "  <tbody>\n",
       "    <tr>\n",
       "      <th>0</th>\n",
       "      <td>0</td>\n",
       "      <td>tcp</td>\n",
       "      <td>ftp_data</td>\n",
       "      <td>SF</td>\n",
       "      <td>491</td>\n",
       "      <td>0</td>\n",
       "      <td>0</td>\n",
       "      <td>0</td>\n",
       "      <td>0</td>\n",
       "      <td>0</td>\n",
       "      <td>...</td>\n",
       "      <td>0.03</td>\n",
       "      <td>0.17</td>\n",
       "      <td>0.0</td>\n",
       "      <td>0.0</td>\n",
       "      <td>0.0</td>\n",
       "      <td>0.05</td>\n",
       "      <td>0.0</td>\n",
       "      <td>0</td>\n",
       "      <td>20</td>\n",
       "      <td>Normal</td>\n",
       "    </tr>\n",
       "    <tr>\n",
       "      <th>1</th>\n",
       "      <td>0</td>\n",
       "      <td>udp</td>\n",
       "      <td>other</td>\n",
       "      <td>SF</td>\n",
       "      <td>146</td>\n",
       "      <td>0</td>\n",
       "      <td>0</td>\n",
       "      <td>0</td>\n",
       "      <td>0</td>\n",
       "      <td>0</td>\n",
       "      <td>...</td>\n",
       "      <td>0.60</td>\n",
       "      <td>0.88</td>\n",
       "      <td>0.0</td>\n",
       "      <td>0.0</td>\n",
       "      <td>0.0</td>\n",
       "      <td>0.00</td>\n",
       "      <td>0.0</td>\n",
       "      <td>0</td>\n",
       "      <td>15</td>\n",
       "      <td>Normal</td>\n",
       "    </tr>\n",
       "  </tbody>\n",
       "</table>\n",
       "<p>2 rows × 44 columns</p>\n",
       "</div>"
      ],
      "text/plain": [
       "   duration protocol_type   service flag  src_bytes  dst_bytes  land  \\\n",
       "0         0           tcp  ftp_data   SF        491          0     0   \n",
       "1         0           udp     other   SF        146          0     0   \n",
       "\n",
       "   wrong_fragment  urgent  hot  ...  dst_host_diff_srv_rate  \\\n",
       "0               0       0    0  ...                    0.03   \n",
       "1               0       0    0  ...                    0.60   \n",
       "\n",
       "   dst_host_same_src_port_rate  dst_host_srv_diff_host_rate  \\\n",
       "0                         0.17                          0.0   \n",
       "1                         0.88                          0.0   \n",
       "\n",
       "   dst_host_serror_rate  dst_host_srv_serror_rate  dst_host_rerror_rate  \\\n",
       "0                   0.0                       0.0                  0.05   \n",
       "1                   0.0                       0.0                  0.00   \n",
       "\n",
       "   dst_host_srv_rerror_rate  attack  last_flag  attack_class  \n",
       "0                       0.0       0         20        Normal  \n",
       "1                       0.0       0         15        Normal  \n",
       "\n",
       "[2 rows x 44 columns]"
      ]
     },
     "execution_count": 14,
     "metadata": {},
     "output_type": "execute_result"
    }
   ],
   "source": [
    "train.head(2)"
   ]
  },
  {
   "cell_type": "markdown",
   "metadata": {},
   "source": [
    "## visualization"
   ]
  },
  {
   "cell_type": "code",
   "execution_count": 15,
   "metadata": {
    "scrolled": true
   },
   "outputs": [
    {
     "data": {
      "image/png": "[encoded data removed]",
      "text/plain": [
       "<Figure size 432x288 with 1 Axes>"
      ]
     },
     "metadata": {
      "needs_background": "light"
     },
     "output_type": "display_data"
    }
   ],
   "source": [
    "# Attack percentage in train and test datasets\n",
    "pd.concat([(train.attack.value_counts()/train.shape[0])*100,\n",
    "           (test.attack.value_counts()/test.shape[0])*100], axis = 1).plot(kind = 'bar')\n",
    "plt.legend(['Train','Test'])\n",
    "plt.xlabel('Attack')\n",
    "plt.xticks(ticks = (0,1), rotation = 0, labels = ('Normal', 'Attack'))\n",
    "plt.ylabel('Frequency Percentage')\n",
    "plt.show()"
   ]
  },
  {
   "cell_type": "code",
   "execution_count": 16,
   "metadata": {},
   "outputs": [
    {
     "data": {
      "image/png": "[encoded data removed]",
      "text/plain": [
       "<Figure size 432x288 with 1 Axes>"
      ]
     },
     "metadata": {
      "needs_background": "light"
     },
     "output_type": "display_data"
    }
   ],
   "source": [
    "# Attack Classes percentage in train and test datasets\n",
    "pd.concat([(train.attack_class.value_counts()/train.shape[0])*100,\n",
    "           (test.attack_class.value_counts()/test.shape[0])*100], axis = 1).plot(kind = 'bar')\n",
    "plt.legend(['Train','Test'])\n",
    "plt.xticks(rotation = 0)\n",
    "plt.xlabel('Attack Class')\n",
    "plt.ylabel('Frequency Percentage')\n",
    "plt.show()"
   ]
  },
  {
   "cell_type": "code",
   "execution_count": 17,
   "metadata": {},
   "outputs": [],
   "source": [
    "# Getting Categorical and Continuous Features\n",
    "\n",
    "cat_cols = ['protocol_type', 'service', 'flag', 'land', 'logged_in', 'root_shell','is_host_login', \n",
    "            'is_guest_login', 'su_attempted', 'attack', 'attack_class']\n",
    "\n",
    "nominal =  ['protocol_type', 'service', 'flag']\n",
    " \n",
    "binary = ['land', 'logged_in', 'root_shell', 'su_attempted', 'is_host_login', 'is_guest_login']\n",
    " \n",
    "cont_cols = ['duration', 'src_bytes', 'dst_bytes', 'wrong_fragment', 'urgent', 'hot', 'num_failed_logins', 'num_compromised', \n",
    "           'num_root', 'num_file_creations', 'num_shells', 'num_access_files', 'num_outbound_cmds', 'count', 'srv_count', \n",
    "           'serror_rate', 'srv_serror_rate', 'rerror_rate', 'srv_rerror_rate', 'same_srv_rate', 'diff_srv_rate', \n",
    "           'srv_diff_host_rate', 'dst_host_count', 'dst_host_srv_count', 'dst_host_same_srv_rate', 'dst_host_diff_srv_rate', \n",
    "           'dst_host_same_src_port_rate', 'dst_host_srv_diff_host_rate', 'dst_host_serror_rate', 'dst_host_srv_serror_rate', \n",
    "           'dst_host_rerror_rate', 'dst_host_srv_rerror_rate']"
   ]
  },
  {
   "cell_type": "code",
   "execution_count": 18,
   "metadata": {},
   "outputs": [
    {
     "data": {
      "image/png": "[encoded data removed]",
      "text/plain": [
       "<Figure size 1080x720 with 8 Axes>"
      ]
     },
     "metadata": {
      "needs_background": "light"
     },
     "output_type": "display_data"
    }
   ],
   "source": [
    "# Attack class across different categorical features\n",
    "plt.figure(figsize = (15,10))\n",
    "for a, b in enumerate(set(cat_cols).difference(['attack_class', 'service', 'flag'])):\n",
    "    plt.subplot(3, 3, a+1)\n",
    "    plt.subplots_adjust(hspace = 1)\n",
    "    sns.countplot(x = b, data = train, hue = 'attack_class')\n",
    "    plt.xticks(rotation = 90)\n",
    "    plt.tight_layout()\n",
    "plt.show()"
   ]
  },
  {
   "cell_type": "markdown",
   "metadata": {},
   "source": [
    "#### Analysis:-\n",
    "- root_shell =  the Dos attack is high when root_shell is not obtained.\n",
    "- land = when source and destination IP addresses and port numbers are not equal then, Dos attack is higher\n",
    "- is_host_login = Dos attcks are higher when the host is not logged in.\n",
    "- protocol_type  = In TCP protocol , Dos Attacks are higher.\n",
    "- is_guest_login = when the guest is not logged in the Dos attacks are high.\n",
    "- activity = dos attacks are higher\n",
    "- su_attempted = when suroot command is used, then Dos attcks are high\n"
   ]
  },
  {
   "cell_type": "code",
   "execution_count": 19,
   "metadata": {},
   "outputs": [
    {
     "data": {
      "image/png": "[encoded data removed]",
      "text/plain": [
       "<Figure size 1080x576 with 2 Axes>"
      ]
     },
     "metadata": {
      "needs_background": "light"
     },
     "output_type": "display_data"
    }
   ],
   "source": [
    "# Attack class across different service and flag\n",
    "plt.figure(figsize = (15,8))\n",
    "for a, b in enumerate(['flag', 'service']):\n",
    "    plt.subplot(2, 1, a+1)\n",
    "    plt.subplots_adjust(hspace = 1)\n",
    "    sns.countplot(x = b, data = train, hue = 'attack_class')\n",
    "    plt.xticks(rotation = 90)\n",
    "    plt.tight_layout()\n",
    "plt.show()"
   ]
  },
  {
   "cell_type": "code",
   "execution_count": 20,
   "metadata": {},
   "outputs": [
    {
     "data": {
      "text/html": [
       "<div>\n",
       "<style scoped>\n",
       "    .dataframe tbody tr th:only-of-type {\n",
       "        vertical-align: middle;\n",
       "    }\n",
       "\n",
       "    .dataframe tbody tr th {\n",
       "        vertical-align: top;\n",
       "    }\n",
       "\n",
       "    .dataframe thead th {\n",
       "        text-align: right;\n",
       "    }\n",
       "</style>\n",
       "<table border=\"1\" class=\"dataframe\">\n",
       "  <thead>\n",
       "    <tr style=\"text-align: right;\">\n",
       "      <th></th>\n",
       "      <th>attack_class</th>\n",
       "      <th>duration</th>\n",
       "      <th>src_bytes</th>\n",
       "      <th>dst_bytes</th>\n",
       "      <th>land</th>\n",
       "      <th>wrong_fragment</th>\n",
       "      <th>urgent</th>\n",
       "      <th>hot</th>\n",
       "      <th>num_failed_logins</th>\n",
       "      <th>logged_in</th>\n",
       "      <th>...</th>\n",
       "      <th>dst_host_same_srv_rate</th>\n",
       "      <th>dst_host_diff_srv_rate</th>\n",
       "      <th>dst_host_same_src_port_rate</th>\n",
       "      <th>dst_host_srv_diff_host_rate</th>\n",
       "      <th>dst_host_serror_rate</th>\n",
       "      <th>dst_host_srv_serror_rate</th>\n",
       "      <th>dst_host_rerror_rate</th>\n",
       "      <th>dst_host_srv_rerror_rate</th>\n",
       "      <th>attack</th>\n",
       "      <th>last_flag</th>\n",
       "    </tr>\n",
       "  </thead>\n",
       "  <tbody>\n",
       "    <tr>\n",
       "      <th>0</th>\n",
       "      <td>DoS</td>\n",
       "      <td>0.0</td>\n",
       "      <td>1176.0</td>\n",
       "      <td>169.0</td>\n",
       "      <td>0.0</td>\n",
       "      <td>0.0</td>\n",
       "      <td>0.0</td>\n",
       "      <td>0.0</td>\n",
       "      <td>0.0</td>\n",
       "      <td>0.0</td>\n",
       "      <td>...</td>\n",
       "      <td>0.0</td>\n",
       "      <td>0.0</td>\n",
       "      <td>0.0</td>\n",
       "      <td>0.0</td>\n",
       "      <td>1.0</td>\n",
       "      <td>1.0</td>\n",
       "      <td>0.0</td>\n",
       "      <td>0.0</td>\n",
       "      <td>1</td>\n",
       "      <td>19.0</td>\n",
       "    </tr>\n",
       "    <tr>\n",
       "      <th>1</th>\n",
       "      <td>Normal</td>\n",
       "      <td>169.0</td>\n",
       "      <td>13133.0</td>\n",
       "      <td>4330.0</td>\n",
       "      <td>0.0</td>\n",
       "      <td>0.0</td>\n",
       "      <td>0.0</td>\n",
       "      <td>0.0</td>\n",
       "      <td>0.0</td>\n",
       "      <td>1.0</td>\n",
       "      <td>...</td>\n",
       "      <td>1.0</td>\n",
       "      <td>0.0</td>\n",
       "      <td>0.0</td>\n",
       "      <td>0.0</td>\n",
       "      <td>0.0</td>\n",
       "      <td>0.0</td>\n",
       "      <td>0.0</td>\n",
       "      <td>0.0</td>\n",
       "      <td>0</td>\n",
       "      <td>20.0</td>\n",
       "    </tr>\n",
       "    <tr>\n",
       "      <th>2</th>\n",
       "      <td>Probe</td>\n",
       "      <td>2075.0</td>\n",
       "      <td>385680.0</td>\n",
       "      <td>181075.0</td>\n",
       "      <td>0.0</td>\n",
       "      <td>0.0</td>\n",
       "      <td>0.0</td>\n",
       "      <td>0.0</td>\n",
       "      <td>0.0</td>\n",
       "      <td>0.0</td>\n",
       "      <td>...</td>\n",
       "      <td>0.0</td>\n",
       "      <td>0.0</td>\n",
       "      <td>1.0</td>\n",
       "      <td>0.0</td>\n",
       "      <td>0.0</td>\n",
       "      <td>0.0</td>\n",
       "      <td>0.0</td>\n",
       "      <td>0.0</td>\n",
       "      <td>1</td>\n",
       "      <td>16.0</td>\n",
       "    </tr>\n",
       "    <tr>\n",
       "      <th>3</th>\n",
       "      <td>R2L</td>\n",
       "      <td>633.0</td>\n",
       "      <td>307727.0</td>\n",
       "      <td>81822.0</td>\n",
       "      <td>0.0</td>\n",
       "      <td>0.0</td>\n",
       "      <td>0.0</td>\n",
       "      <td>8.0</td>\n",
       "      <td>0.0</td>\n",
       "      <td>1.0</td>\n",
       "      <td>...</td>\n",
       "      <td>1.0</td>\n",
       "      <td>0.0</td>\n",
       "      <td>1.0</td>\n",
       "      <td>0.0</td>\n",
       "      <td>0.0</td>\n",
       "      <td>0.0</td>\n",
       "      <td>0.0</td>\n",
       "      <td>0.0</td>\n",
       "      <td>1</td>\n",
       "      <td>10.0</td>\n",
       "    </tr>\n",
       "    <tr>\n",
       "      <th>4</th>\n",
       "      <td>U2R</td>\n",
       "      <td>81.0</td>\n",
       "      <td>906.0</td>\n",
       "      <td>5142.0</td>\n",
       "      <td>0.0</td>\n",
       "      <td>0.0</td>\n",
       "      <td>0.0</td>\n",
       "      <td>1.0</td>\n",
       "      <td>0.0</td>\n",
       "      <td>1.0</td>\n",
       "      <td>...</td>\n",
       "      <td>1.0</td>\n",
       "      <td>0.0</td>\n",
       "      <td>1.0</td>\n",
       "      <td>0.0</td>\n",
       "      <td>0.0</td>\n",
       "      <td>0.0</td>\n",
       "      <td>0.0</td>\n",
       "      <td>0.0</td>\n",
       "      <td>1</td>\n",
       "      <td>4.0</td>\n",
       "    </tr>\n",
       "  </tbody>\n",
       "</table>\n",
       "<p>5 rows × 41 columns</p>\n",
       "</div>"
      ],
      "text/plain": [
       "  attack_class  duration  src_bytes  dst_bytes  land  wrong_fragment  urgent  \\\n",
       "0          DoS       0.0     1176.0      169.0   0.0             0.0     0.0   \n",
       "1       Normal     169.0    13133.0     4330.0   0.0             0.0     0.0   \n",
       "2        Probe    2075.0   385680.0   181075.0   0.0             0.0     0.0   \n",
       "3          R2L     633.0   307727.0    81822.0   0.0             0.0     0.0   \n",
       "4          U2R      81.0      906.0     5142.0   0.0             0.0     0.0   \n",
       "\n",
       "   hot  num_failed_logins  logged_in  ...  dst_host_same_srv_rate  \\\n",
       "0  0.0                0.0        0.0  ...                     0.0   \n",
       "1  0.0                0.0        1.0  ...                     1.0   \n",
       "2  0.0                0.0        0.0  ...                     0.0   \n",
       "3  8.0                0.0        1.0  ...                     1.0   \n",
       "4  1.0                0.0        1.0  ...                     1.0   \n",
       "\n",
       "   dst_host_diff_srv_rate  dst_host_same_src_port_rate  \\\n",
       "0                     0.0                          0.0   \n",
       "1                     0.0                          0.0   \n",
       "2                     0.0                          1.0   \n",
       "3                     0.0                          1.0   \n",
       "4                     0.0                          1.0   \n",
       "\n",
       "   dst_host_srv_diff_host_rate  dst_host_serror_rate  \\\n",
       "0                          0.0                   1.0   \n",
       "1                          0.0                   0.0   \n",
       "2                          0.0                   0.0   \n",
       "3                          0.0                   0.0   \n",
       "4                          0.0                   0.0   \n",
       "\n",
       "   dst_host_srv_serror_rate  dst_host_rerror_rate  dst_host_srv_rerror_rate  \\\n",
       "0                       1.0                   0.0                       0.0   \n",
       "1                       0.0                   0.0                       0.0   \n",
       "2                       0.0                   0.0                       0.0   \n",
       "3                       0.0                   0.0                       0.0   \n",
       "4                       0.0                   0.0                       0.0   \n",
       "\n",
       "   attack  last_flag  \n",
       "0       1       19.0  \n",
       "1       0       20.0  \n",
       "2       1       16.0  \n",
       "3       1       10.0  \n",
       "4       1        4.0  \n",
       "\n",
       "[5 rows x 41 columns]"
      ]
     },
     "execution_count": 20,
     "metadata": {},
     "output_type": "execute_result"
    }
   ],
   "source": [
    "# Attack Classes across different continuous features\n",
    "cont_plot = train.groupby('attack_class').mean().round().reset_index()\n",
    "cont_plot"
   ]
  },
  {
   "cell_type": "code",
   "execution_count": 21,
   "metadata": {},
   "outputs": [
    {
     "data": {
      "image/png": "[encoded data removed]",
      "text/plain": [
       "<Figure size 1080x1584 with 32 Axes>"
      ]
     },
     "metadata": {
      "needs_background": "light"
     },
     "output_type": "display_data"
    }
   ],
   "source": [
    "plt.figure(figsize = (15,22))\n",
    "for a, b in enumerate(cont_cols):\n",
    "    plt.subplot(8, 4, a+1)\n",
    "    plt.subplots_adjust(hspace = 1, wspace = .5)\n",
    "    sns.barplot(x = 'attack_class', y = b, data = cont_plot)\n",
    "    plt.tight_layout()\n",
    "plt.show() "
   ]
  },
  {
   "cell_type": "markdown",
   "metadata": {},
   "source": [
    "#### Analysis:-\n",
    "- Probing (Prob) is high in<br>\n",
    " diff_srv_rate, dst_bytes, dst_host_diff_srv_rate, dst_host_rerror rate, dst_host_srv_diff_host_rate, dst_host_srv_rerror        rate, duration, rerror_rate, src_bytes, srv_diff_host_rate, srv_rerror_rate, dst_host_same_src_port_rate\n",
    "- Dos attacks are high in<br>\n",
    "count,dst_host_count,dst_host_serror_rate,dst_host_srv_serror_rate,serror_rate,srv_count,srv_serror_rate,wrong_fragment\n",
    "- R2L is high in<br>\n",
    "hot,num_failed_logins,same_srv_rate\n",
    "- U2R is high in<br>\n",
    "num_access_files,num_compormised, num_file_creations,num_root,num_shells,urgent"
   ]
  },
  {
   "cell_type": "markdown",
   "metadata": {},
   "source": [
    "# Data Preparation "
   ]
  },
  {
   "cell_type": "markdown",
   "metadata": {},
   "source": [
    "### EDA"
   ]
  },
  {
   "cell_type": "code",
   "execution_count": 22,
   "metadata": {},
   "outputs": [
    {
     "data": {
      "text/html": [
       "<div>\n",
       "<style scoped>\n",
       "    .dataframe tbody tr th:only-of-type {\n",
       "        vertical-align: middle;\n",
       "    }\n",
       "\n",
       "    .dataframe tbody tr th {\n",
       "        vertical-align: top;\n",
       "    }\n",
       "\n",
       "    .dataframe thead th {\n",
       "        text-align: right;\n",
       "    }\n",
       "</style>\n",
       "<table border=\"1\" class=\"dataframe\">\n",
       "  <thead>\n",
       "    <tr style=\"text-align: right;\">\n",
       "      <th></th>\n",
       "      <th>N</th>\n",
       "      <th>NMISS</th>\n",
       "      <th>SUM</th>\n",
       "      <th>MEAN</th>\n",
       "      <th>MEDIAN</th>\n",
       "      <th>STD</th>\n",
       "      <th>VAR</th>\n",
       "      <th>MIN</th>\n",
       "      <th>P1</th>\n",
       "      <th>P5</th>\n",
       "      <th>P10</th>\n",
       "      <th>P25</th>\n",
       "      <th>P50</th>\n",
       "      <th>P75</th>\n",
       "      <th>P90</th>\n",
       "      <th>P95</th>\n",
       "      <th>P99</th>\n",
       "      <th>MAX</th>\n",
       "    </tr>\n",
       "  </thead>\n",
       "  <tbody>\n",
       "    <tr>\n",
       "      <th>duration</th>\n",
       "      <td>125973.0</td>\n",
       "      <td>0.0</td>\n",
       "      <td>3.617247e+07</td>\n",
       "      <td>287.1</td>\n",
       "      <td>0.0</td>\n",
       "      <td>2604.5</td>\n",
       "      <td>6.783500e+06</td>\n",
       "      <td>0.0</td>\n",
       "      <td>0.0</td>\n",
       "      <td>0.0</td>\n",
       "      <td>0.0</td>\n",
       "      <td>0.0</td>\n",
       "      <td>0.0</td>\n",
       "      <td>0.0</td>\n",
       "      <td>0.0</td>\n",
       "      <td>4.0</td>\n",
       "      <td>9590.6</td>\n",
       "      <td>4.290800e+04</td>\n",
       "    </tr>\n",
       "    <tr>\n",
       "      <th>src_bytes</th>\n",
       "      <td>125973.0</td>\n",
       "      <td>0.0</td>\n",
       "      <td>5.740179e+09</td>\n",
       "      <td>45566.7</td>\n",
       "      <td>44.0</td>\n",
       "      <td>5870331.2</td>\n",
       "      <td>3.446079e+13</td>\n",
       "      <td>0.0</td>\n",
       "      <td>0.0</td>\n",
       "      <td>0.0</td>\n",
       "      <td>0.0</td>\n",
       "      <td>0.0</td>\n",
       "      <td>44.0</td>\n",
       "      <td>276.0</td>\n",
       "      <td>848.0</td>\n",
       "      <td>1480.0</td>\n",
       "      <td>54540.0</td>\n",
       "      <td>1.379964e+09</td>\n",
       "    </tr>\n",
       "    <tr>\n",
       "      <th>dst_bytes</th>\n",
       "      <td>125973.0</td>\n",
       "      <td>0.0</td>\n",
       "      <td>2.491634e+09</td>\n",
       "      <td>19779.1</td>\n",
       "      <td>0.0</td>\n",
       "      <td>4021269.2</td>\n",
       "      <td>1.617061e+13</td>\n",
       "      <td>0.0</td>\n",
       "      <td>0.0</td>\n",
       "      <td>0.0</td>\n",
       "      <td>0.0</td>\n",
       "      <td>0.0</td>\n",
       "      <td>0.0</td>\n",
       "      <td>516.0</td>\n",
       "      <td>3375.8</td>\n",
       "      <td>8314.0</td>\n",
       "      <td>25519.0</td>\n",
       "      <td>1.309937e+09</td>\n",
       "    </tr>\n",
       "    <tr>\n",
       "      <th>wrong_fragment</th>\n",
       "      <td>125973.0</td>\n",
       "      <td>0.0</td>\n",
       "      <td>2.858000e+03</td>\n",
       "      <td>0.0</td>\n",
       "      <td>0.0</td>\n",
       "      <td>0.3</td>\n",
       "      <td>1.000000e-01</td>\n",
       "      <td>0.0</td>\n",
       "      <td>0.0</td>\n",
       "      <td>0.0</td>\n",
       "      <td>0.0</td>\n",
       "      <td>0.0</td>\n",
       "      <td>0.0</td>\n",
       "      <td>0.0</td>\n",
       "      <td>0.0</td>\n",
       "      <td>0.0</td>\n",
       "      <td>0.0</td>\n",
       "      <td>3.000000e+00</td>\n",
       "    </tr>\n",
       "    <tr>\n",
       "      <th>urgent</th>\n",
       "      <td>125973.0</td>\n",
       "      <td>0.0</td>\n",
       "      <td>1.400000e+01</td>\n",
       "      <td>0.0</td>\n",
       "      <td>0.0</td>\n",
       "      <td>0.0</td>\n",
       "      <td>0.000000e+00</td>\n",
       "      <td>0.0</td>\n",
       "      <td>0.0</td>\n",
       "      <td>0.0</td>\n",
       "      <td>0.0</td>\n",
       "      <td>0.0</td>\n",
       "      <td>0.0</td>\n",
       "      <td>0.0</td>\n",
       "      <td>0.0</td>\n",
       "      <td>0.0</td>\n",
       "      <td>0.0</td>\n",
       "      <td>3.000000e+00</td>\n",
       "    </tr>\n",
       "    <tr>\n",
       "      <th>hot</th>\n",
       "      <td>125973.0</td>\n",
       "      <td>0.0</td>\n",
       "      <td>2.575000e+04</td>\n",
       "      <td>0.2</td>\n",
       "      <td>0.0</td>\n",
       "      <td>2.1</td>\n",
       "      <td>4.600000e+00</td>\n",
       "      <td>0.0</td>\n",
       "      <td>0.0</td>\n",
       "      <td>0.0</td>\n",
       "      <td>0.0</td>\n",
       "      <td>0.0</td>\n",
       "      <td>0.0</td>\n",
       "      <td>0.0</td>\n",
       "      <td>0.0</td>\n",
       "      <td>0.0</td>\n",
       "      <td>3.0</td>\n",
       "      <td>7.700000e+01</td>\n",
       "    </tr>\n",
       "    <tr>\n",
       "      <th>num_failed_logins</th>\n",
       "      <td>125973.0</td>\n",
       "      <td>0.0</td>\n",
       "      <td>1.540000e+02</td>\n",
       "      <td>0.0</td>\n",
       "      <td>0.0</td>\n",
       "      <td>0.0</td>\n",
       "      <td>0.000000e+00</td>\n",
       "      <td>0.0</td>\n",
       "      <td>0.0</td>\n",
       "      <td>0.0</td>\n",
       "      <td>0.0</td>\n",
       "      <td>0.0</td>\n",
       "      <td>0.0</td>\n",
       "      <td>0.0</td>\n",
       "      <td>0.0</td>\n",
       "      <td>0.0</td>\n",
       "      <td>0.0</td>\n",
       "      <td>5.000000e+00</td>\n",
       "    </tr>\n",
       "    <tr>\n",
       "      <th>num_compromised</th>\n",
       "      <td>125973.0</td>\n",
       "      <td>0.0</td>\n",
       "      <td>3.517800e+04</td>\n",
       "      <td>0.3</td>\n",
       "      <td>0.0</td>\n",
       "      <td>23.9</td>\n",
       "      <td>5.732000e+02</td>\n",
       "      <td>0.0</td>\n",
       "      <td>0.0</td>\n",
       "      <td>0.0</td>\n",
       "      <td>0.0</td>\n",
       "      <td>0.0</td>\n",
       "      <td>0.0</td>\n",
       "      <td>0.0</td>\n",
       "      <td>0.0</td>\n",
       "      <td>0.0</td>\n",
       "      <td>1.0</td>\n",
       "      <td>7.479000e+03</td>\n",
       "    </tr>\n",
       "    <tr>\n",
       "      <th>num_root</th>\n",
       "      <td>125973.0</td>\n",
       "      <td>0.0</td>\n",
       "      <td>3.806800e+04</td>\n",
       "      <td>0.3</td>\n",
       "      <td>0.0</td>\n",
       "      <td>24.4</td>\n",
       "      <td>5.953000e+02</td>\n",
       "      <td>0.0</td>\n",
       "      <td>0.0</td>\n",
       "      <td>0.0</td>\n",
       "      <td>0.0</td>\n",
       "      <td>0.0</td>\n",
       "      <td>0.0</td>\n",
       "      <td>0.0</td>\n",
       "      <td>0.0</td>\n",
       "      <td>0.0</td>\n",
       "      <td>0.0</td>\n",
       "      <td>7.468000e+03</td>\n",
       "    </tr>\n",
       "    <tr>\n",
       "      <th>num_file_creations</th>\n",
       "      <td>125973.0</td>\n",
       "      <td>0.0</td>\n",
       "      <td>1.596000e+03</td>\n",
       "      <td>0.0</td>\n",
       "      <td>0.0</td>\n",
       "      <td>0.5</td>\n",
       "      <td>2.000000e-01</td>\n",
       "      <td>0.0</td>\n",
       "      <td>0.0</td>\n",
       "      <td>0.0</td>\n",
       "      <td>0.0</td>\n",
       "      <td>0.0</td>\n",
       "      <td>0.0</td>\n",
       "      <td>0.0</td>\n",
       "      <td>0.0</td>\n",
       "      <td>0.0</td>\n",
       "      <td>0.0</td>\n",
       "      <td>4.300000e+01</td>\n",
       "    </tr>\n",
       "    <tr>\n",
       "      <th>num_shells</th>\n",
       "      <td>125973.0</td>\n",
       "      <td>0.0</td>\n",
       "      <td>5.200000e+01</td>\n",
       "      <td>0.0</td>\n",
       "      <td>0.0</td>\n",
       "      <td>0.0</td>\n",
       "      <td>0.000000e+00</td>\n",
       "      <td>0.0</td>\n",
       "      <td>0.0</td>\n",
       "      <td>0.0</td>\n",
       "      <td>0.0</td>\n",
       "      <td>0.0</td>\n",
       "      <td>0.0</td>\n",
       "      <td>0.0</td>\n",
       "      <td>0.0</td>\n",
       "      <td>0.0</td>\n",
       "      <td>0.0</td>\n",
       "      <td>2.000000e+00</td>\n",
       "    </tr>\n",
       "    <tr>\n",
       "      <th>num_access_files</th>\n",
       "      <td>125973.0</td>\n",
       "      <td>0.0</td>\n",
       "      <td>5.160000e+02</td>\n",
       "      <td>0.0</td>\n",
       "      <td>0.0</td>\n",
       "      <td>0.1</td>\n",
       "      <td>0.000000e+00</td>\n",
       "      <td>0.0</td>\n",
       "      <td>0.0</td>\n",
       "      <td>0.0</td>\n",
       "      <td>0.0</td>\n",
       "      <td>0.0</td>\n",
       "      <td>0.0</td>\n",
       "      <td>0.0</td>\n",
       "      <td>0.0</td>\n",
       "      <td>0.0</td>\n",
       "      <td>0.0</td>\n",
       "      <td>9.000000e+00</td>\n",
       "    </tr>\n",
       "    <tr>\n",
       "      <th>num_outbound_cmds</th>\n",
       "      <td>125973.0</td>\n",
       "      <td>0.0</td>\n",
       "      <td>0.000000e+00</td>\n",
       "      <td>0.0</td>\n",
       "      <td>0.0</td>\n",
       "      <td>0.0</td>\n",
       "      <td>0.000000e+00</td>\n",
       "      <td>0.0</td>\n",
       "      <td>0.0</td>\n",
       "      <td>0.0</td>\n",
       "      <td>0.0</td>\n",
       "      <td>0.0</td>\n",
       "      <td>0.0</td>\n",
       "      <td>0.0</td>\n",
       "      <td>0.0</td>\n",
       "      <td>0.0</td>\n",
       "      <td>0.0</td>\n",
       "      <td>0.000000e+00</td>\n",
       "    </tr>\n",
       "    <tr>\n",
       "      <th>count</th>\n",
       "      <td>125973.0</td>\n",
       "      <td>0.0</td>\n",
       "      <td>1.059528e+07</td>\n",
       "      <td>84.1</td>\n",
       "      <td>14.0</td>\n",
       "      <td>114.5</td>\n",
       "      <td>1.311220e+04</td>\n",
       "      <td>0.0</td>\n",
       "      <td>1.0</td>\n",
       "      <td>1.0</td>\n",
       "      <td>1.0</td>\n",
       "      <td>2.0</td>\n",
       "      <td>14.0</td>\n",
       "      <td>143.0</td>\n",
       "      <td>256.0</td>\n",
       "      <td>286.0</td>\n",
       "      <td>511.0</td>\n",
       "      <td>5.110000e+02</td>\n",
       "    </tr>\n",
       "    <tr>\n",
       "      <th>srv_count</th>\n",
       "      <td>125973.0</td>\n",
       "      <td>0.0</td>\n",
       "      <td>3.494225e+06</td>\n",
       "      <td>27.7</td>\n",
       "      <td>8.0</td>\n",
       "      <td>72.6</td>\n",
       "      <td>5.276000e+03</td>\n",
       "      <td>0.0</td>\n",
       "      <td>1.0</td>\n",
       "      <td>1.0</td>\n",
       "      <td>1.0</td>\n",
       "      <td>2.0</td>\n",
       "      <td>8.0</td>\n",
       "      <td>18.0</td>\n",
       "      <td>40.0</td>\n",
       "      <td>158.0</td>\n",
       "      <td>492.0</td>\n",
       "      <td>5.110000e+02</td>\n",
       "    </tr>\n",
       "    <tr>\n",
       "      <th>serror_rate</th>\n",
       "      <td>125973.0</td>\n",
       "      <td>0.0</td>\n",
       "      <td>3.583740e+04</td>\n",
       "      <td>0.3</td>\n",
       "      <td>0.0</td>\n",
       "      <td>0.4</td>\n",
       "      <td>2.000000e-01</td>\n",
       "      <td>0.0</td>\n",
       "      <td>0.0</td>\n",
       "      <td>0.0</td>\n",
       "      <td>0.0</td>\n",
       "      <td>0.0</td>\n",
       "      <td>0.0</td>\n",
       "      <td>1.0</td>\n",
       "      <td>1.0</td>\n",
       "      <td>1.0</td>\n",
       "      <td>1.0</td>\n",
       "      <td>1.000000e+00</td>\n",
       "    </tr>\n",
       "    <tr>\n",
       "      <th>srv_serror_rate</th>\n",
       "      <td>125973.0</td>\n",
       "      <td>0.0</td>\n",
       "      <td>3.558550e+04</td>\n",
       "      <td>0.3</td>\n",
       "      <td>0.0</td>\n",
       "      <td>0.4</td>\n",
       "      <td>2.000000e-01</td>\n",
       "      <td>0.0</td>\n",
       "      <td>0.0</td>\n",
       "      <td>0.0</td>\n",
       "      <td>0.0</td>\n",
       "      <td>0.0</td>\n",
       "      <td>0.0</td>\n",
       "      <td>1.0</td>\n",
       "      <td>1.0</td>\n",
       "      <td>1.0</td>\n",
       "      <td>1.0</td>\n",
       "      <td>1.000000e+00</td>\n",
       "    </tr>\n",
       "    <tr>\n",
       "      <th>rerror_rate</th>\n",
       "      <td>125973.0</td>\n",
       "      <td>0.0</td>\n",
       "      <td>1.511150e+04</td>\n",
       "      <td>0.1</td>\n",
       "      <td>0.0</td>\n",
       "      <td>0.3</td>\n",
       "      <td>1.000000e-01</td>\n",
       "      <td>0.0</td>\n",
       "      <td>0.0</td>\n",
       "      <td>0.0</td>\n",
       "      <td>0.0</td>\n",
       "      <td>0.0</td>\n",
       "      <td>0.0</td>\n",
       "      <td>0.0</td>\n",
       "      <td>1.0</td>\n",
       "      <td>1.0</td>\n",
       "      <td>1.0</td>\n",
       "      <td>1.000000e+00</td>\n",
       "    </tr>\n",
       "    <tr>\n",
       "      <th>srv_rerror_rate</th>\n",
       "      <td>125973.0</td>\n",
       "      <td>0.0</td>\n",
       "      <td>1.526580e+04</td>\n",
       "      <td>0.1</td>\n",
       "      <td>0.0</td>\n",
       "      <td>0.3</td>\n",
       "      <td>1.000000e-01</td>\n",
       "      <td>0.0</td>\n",
       "      <td>0.0</td>\n",
       "      <td>0.0</td>\n",
       "      <td>0.0</td>\n",
       "      <td>0.0</td>\n",
       "      <td>0.0</td>\n",
       "      <td>0.0</td>\n",
       "      <td>1.0</td>\n",
       "      <td>1.0</td>\n",
       "      <td>1.0</td>\n",
       "      <td>1.000000e+00</td>\n",
       "    </tr>\n",
       "    <tr>\n",
       "      <th>same_srv_rate</th>\n",
       "      <td>125973.0</td>\n",
       "      <td>0.0</td>\n",
       "      <td>8.325900e+04</td>\n",
       "      <td>0.7</td>\n",
       "      <td>1.0</td>\n",
       "      <td>0.4</td>\n",
       "      <td>2.000000e-01</td>\n",
       "      <td>0.0</td>\n",
       "      <td>0.0</td>\n",
       "      <td>0.0</td>\n",
       "      <td>0.0</td>\n",
       "      <td>0.1</td>\n",
       "      <td>1.0</td>\n",
       "      <td>1.0</td>\n",
       "      <td>1.0</td>\n",
       "      <td>1.0</td>\n",
       "      <td>1.0</td>\n",
       "      <td>1.000000e+00</td>\n",
       "    </tr>\n",
       "    <tr>\n",
       "      <th>diff_srv_rate</th>\n",
       "      <td>125973.0</td>\n",
       "      <td>0.0</td>\n",
       "      <td>7.942900e+03</td>\n",
       "      <td>0.1</td>\n",
       "      <td>0.0</td>\n",
       "      <td>0.2</td>\n",
       "      <td>0.000000e+00</td>\n",
       "      <td>0.0</td>\n",
       "      <td>0.0</td>\n",
       "      <td>0.0</td>\n",
       "      <td>0.0</td>\n",
       "      <td>0.0</td>\n",
       "      <td>0.0</td>\n",
       "      <td>0.1</td>\n",
       "      <td>0.1</td>\n",
       "      <td>0.3</td>\n",
       "      <td>1.0</td>\n",
       "      <td>1.000000e+00</td>\n",
       "    </tr>\n",
       "    <tr>\n",
       "      <th>srv_diff_host_rate</th>\n",
       "      <td>125973.0</td>\n",
       "      <td>0.0</td>\n",
       "      <td>1.225990e+04</td>\n",
       "      <td>0.1</td>\n",
       "      <td>0.0</td>\n",
       "      <td>0.3</td>\n",
       "      <td>1.000000e-01</td>\n",
       "      <td>0.0</td>\n",
       "      <td>0.0</td>\n",
       "      <td>0.0</td>\n",
       "      <td>0.0</td>\n",
       "      <td>0.0</td>\n",
       "      <td>0.0</td>\n",
       "      <td>0.0</td>\n",
       "      <td>0.3</td>\n",
       "      <td>1.0</td>\n",
       "      <td>1.0</td>\n",
       "      <td>1.000000e+00</td>\n",
       "    </tr>\n",
       "    <tr>\n",
       "      <th>dst_host_count</th>\n",
       "      <td>125973.0</td>\n",
       "      <td>0.0</td>\n",
       "      <td>2.294585e+07</td>\n",
       "      <td>182.1</td>\n",
       "      <td>255.0</td>\n",
       "      <td>99.2</td>\n",
       "      <td>9.841900e+03</td>\n",
       "      <td>0.0</td>\n",
       "      <td>1.0</td>\n",
       "      <td>3.0</td>\n",
       "      <td>11.0</td>\n",
       "      <td>82.0</td>\n",
       "      <td>255.0</td>\n",
       "      <td>255.0</td>\n",
       "      <td>255.0</td>\n",
       "      <td>255.0</td>\n",
       "      <td>255.0</td>\n",
       "      <td>2.550000e+02</td>\n",
       "    </tr>\n",
       "    <tr>\n",
       "      <th>dst_host_srv_count</th>\n",
       "      <td>125973.0</td>\n",
       "      <td>0.0</td>\n",
       "      <td>1.456916e+07</td>\n",
       "      <td>115.7</td>\n",
       "      <td>63.0</td>\n",
       "      <td>110.7</td>\n",
       "      <td>1.225510e+04</td>\n",
       "      <td>0.0</td>\n",
       "      <td>1.0</td>\n",
       "      <td>1.0</td>\n",
       "      <td>2.0</td>\n",
       "      <td>10.0</td>\n",
       "      <td>63.0</td>\n",
       "      <td>255.0</td>\n",
       "      <td>255.0</td>\n",
       "      <td>255.0</td>\n",
       "      <td>255.0</td>\n",
       "      <td>2.550000e+02</td>\n",
       "    </tr>\n",
       "    <tr>\n",
       "      <th>dst_host_same_srv_rate</th>\n",
       "      <td>125973.0</td>\n",
       "      <td>0.0</td>\n",
       "      <td>6.566240e+04</td>\n",
       "      <td>0.5</td>\n",
       "      <td>0.5</td>\n",
       "      <td>0.4</td>\n",
       "      <td>2.000000e-01</td>\n",
       "      <td>0.0</td>\n",
       "      <td>0.0</td>\n",
       "      <td>0.0</td>\n",
       "      <td>0.0</td>\n",
       "      <td>0.0</td>\n",
       "      <td>0.5</td>\n",
       "      <td>1.0</td>\n",
       "      <td>1.0</td>\n",
       "      <td>1.0</td>\n",
       "      <td>1.0</td>\n",
       "      <td>1.000000e+00</td>\n",
       "    </tr>\n",
       "    <tr>\n",
       "      <th>dst_host_diff_srv_rate</th>\n",
       "      <td>125973.0</td>\n",
       "      <td>0.0</td>\n",
       "      <td>1.044960e+04</td>\n",
       "      <td>0.1</td>\n",
       "      <td>0.0</td>\n",
       "      <td>0.2</td>\n",
       "      <td>0.000000e+00</td>\n",
       "      <td>0.0</td>\n",
       "      <td>0.0</td>\n",
       "      <td>0.0</td>\n",
       "      <td>0.0</td>\n",
       "      <td>0.0</td>\n",
       "      <td>0.0</td>\n",
       "      <td>0.1</td>\n",
       "      <td>0.1</td>\n",
       "      <td>0.6</td>\n",
       "      <td>1.0</td>\n",
       "      <td>1.000000e+00</td>\n",
       "    </tr>\n",
       "    <tr>\n",
       "      <th>dst_host_same_src_port_rate</th>\n",
       "      <td>125973.0</td>\n",
       "      <td>0.0</td>\n",
       "      <td>1.869170e+04</td>\n",
       "      <td>0.1</td>\n",
       "      <td>0.0</td>\n",
       "      <td>0.3</td>\n",
       "      <td>1.000000e-01</td>\n",
       "      <td>0.0</td>\n",
       "      <td>0.0</td>\n",
       "      <td>0.0</td>\n",
       "      <td>0.0</td>\n",
       "      <td>0.0</td>\n",
       "      <td>0.0</td>\n",
       "      <td>0.1</td>\n",
       "      <td>0.8</td>\n",
       "      <td>1.0</td>\n",
       "      <td>1.0</td>\n",
       "      <td>1.000000e+00</td>\n",
       "    </tr>\n",
       "    <tr>\n",
       "      <th>dst_host_srv_diff_host_rate</th>\n",
       "      <td>125973.0</td>\n",
       "      <td>0.0</td>\n",
       "      <td>4.099500e+03</td>\n",
       "      <td>0.0</td>\n",
       "      <td>0.0</td>\n",
       "      <td>0.1</td>\n",
       "      <td>0.000000e+00</td>\n",
       "      <td>0.0</td>\n",
       "      <td>0.0</td>\n",
       "      <td>0.0</td>\n",
       "      <td>0.0</td>\n",
       "      <td>0.0</td>\n",
       "      <td>0.0</td>\n",
       "      <td>0.0</td>\n",
       "      <td>0.0</td>\n",
       "      <td>0.2</td>\n",
       "      <td>0.5</td>\n",
       "      <td>1.000000e+00</td>\n",
       "    </tr>\n",
       "    <tr>\n",
       "      <th>dst_host_serror_rate</th>\n",
       "      <td>125973.0</td>\n",
       "      <td>0.0</td>\n",
       "      <td>3.583330e+04</td>\n",
       "      <td>0.3</td>\n",
       "      <td>0.0</td>\n",
       "      <td>0.4</td>\n",
       "      <td>2.000000e-01</td>\n",
       "      <td>0.0</td>\n",
       "      <td>0.0</td>\n",
       "      <td>0.0</td>\n",
       "      <td>0.0</td>\n",
       "      <td>0.0</td>\n",
       "      <td>0.0</td>\n",
       "      <td>1.0</td>\n",
       "      <td>1.0</td>\n",
       "      <td>1.0</td>\n",
       "      <td>1.0</td>\n",
       "      <td>1.000000e+00</td>\n",
       "    </tr>\n",
       "    <tr>\n",
       "      <th>dst_host_srv_serror_rate</th>\n",
       "      <td>125973.0</td>\n",
       "      <td>0.0</td>\n",
       "      <td>3.508150e+04</td>\n",
       "      <td>0.3</td>\n",
       "      <td>0.0</td>\n",
       "      <td>0.4</td>\n",
       "      <td>2.000000e-01</td>\n",
       "      <td>0.0</td>\n",
       "      <td>0.0</td>\n",
       "      <td>0.0</td>\n",
       "      <td>0.0</td>\n",
       "      <td>0.0</td>\n",
       "      <td>0.0</td>\n",
       "      <td>1.0</td>\n",
       "      <td>1.0</td>\n",
       "      <td>1.0</td>\n",
       "      <td>1.0</td>\n",
       "      <td>1.000000e+00</td>\n",
       "    </tr>\n",
       "    <tr>\n",
       "      <th>dst_host_rerror_rate</th>\n",
       "      <td>125973.0</td>\n",
       "      <td>0.0</td>\n",
       "      <td>1.496960e+04</td>\n",
       "      <td>0.1</td>\n",
       "      <td>0.0</td>\n",
       "      <td>0.3</td>\n",
       "      <td>1.000000e-01</td>\n",
       "      <td>0.0</td>\n",
       "      <td>0.0</td>\n",
       "      <td>0.0</td>\n",
       "      <td>0.0</td>\n",
       "      <td>0.0</td>\n",
       "      <td>0.0</td>\n",
       "      <td>0.0</td>\n",
       "      <td>0.8</td>\n",
       "      <td>1.0</td>\n",
       "      <td>1.0</td>\n",
       "      <td>1.000000e+00</td>\n",
       "    </tr>\n",
       "    <tr>\n",
       "      <th>dst_host_srv_rerror_rate</th>\n",
       "      <td>125973.0</td>\n",
       "      <td>0.0</td>\n",
       "      <td>1.514700e+04</td>\n",
       "      <td>0.1</td>\n",
       "      <td>0.0</td>\n",
       "      <td>0.3</td>\n",
       "      <td>1.000000e-01</td>\n",
       "      <td>0.0</td>\n",
       "      <td>0.0</td>\n",
       "      <td>0.0</td>\n",
       "      <td>0.0</td>\n",
       "      <td>0.0</td>\n",
       "      <td>0.0</td>\n",
       "      <td>0.0</td>\n",
       "      <td>1.0</td>\n",
       "      <td>1.0</td>\n",
       "      <td>1.0</td>\n",
       "      <td>1.000000e+00</td>\n",
       "    </tr>\n",
       "  </tbody>\n",
       "</table>\n",
       "</div>"
      ],
      "text/plain": [
       "                                    N  NMISS           SUM     MEAN  MEDIAN  \\\n",
       "duration                     125973.0    0.0  3.617247e+07    287.1     0.0   \n",
       "src_bytes                    125973.0    0.0  5.740179e+09  45566.7    44.0   \n",
       "dst_bytes                    125973.0    0.0  2.491634e+09  19779.1     0.0   \n",
       "wrong_fragment               125973.0    0.0  2.858000e+03      0.0     0.0   \n",
       "urgent                       125973.0    0.0  1.400000e+01      0.0     0.0   \n",
       "hot                          125973.0    0.0  2.575000e+04      0.2     0.0   \n",
       "num_failed_logins            125973.0    0.0  1.540000e+02      0.0     0.0   \n",
       "num_compromised              125973.0    0.0  3.517800e+04      0.3     0.0   \n",
       "num_root                     125973.0    0.0  3.806800e+04      0.3     0.0   \n",
       "num_file_creations           125973.0    0.0  1.596000e+03      0.0     0.0   \n",
       "num_shells                   125973.0    0.0  5.200000e+01      0.0     0.0   \n",
       "num_access_files             125973.0    0.0  5.160000e+02      0.0     0.0   \n",
       "num_outbound_cmds            125973.0    0.0  0.000000e+00      0.0     0.0   \n",
       "count                        125973.0    0.0  1.059528e+07     84.1    14.0   \n",
       "srv_count                    125973.0    0.0  3.494225e+06     27.7     8.0   \n",
       "serror_rate                  125973.0    0.0  3.583740e+04      0.3     0.0   \n",
       "srv_serror_rate              125973.0    0.0  3.558550e+04      0.3     0.0   \n",
       "rerror_rate                  125973.0    0.0  1.511150e+04      0.1     0.0   \n",
       "srv_rerror_rate              125973.0    0.0  1.526580e+04      0.1     0.0   \n",
       "same_srv_rate                125973.0    0.0  8.325900e+04      0.7     1.0   \n",
       "diff_srv_rate                125973.0    0.0  7.942900e+03      0.1     0.0   \n",
       "srv_diff_host_rate           125973.0    0.0  1.225990e+04      0.1     0.0   \n",
       "dst_host_count               125973.0    0.0  2.294585e+07    182.1   255.0   \n",
       "dst_host_srv_count           125973.0    0.0  1.456916e+07    115.7    63.0   \n",
       "dst_host_same_srv_rate       125973.0    0.0  6.566240e+04      0.5     0.5   \n",
       "dst_host_diff_srv_rate       125973.0    0.0  1.044960e+04      0.1     0.0   \n",
       "dst_host_same_src_port_rate  125973.0    0.0  1.869170e+04      0.1     0.0   \n",
       "dst_host_srv_diff_host_rate  125973.0    0.0  4.099500e+03      0.0     0.0   \n",
       "dst_host_serror_rate         125973.0    0.0  3.583330e+04      0.3     0.0   \n",
       "dst_host_srv_serror_rate     125973.0    0.0  3.508150e+04      0.3     0.0   \n",
       "dst_host_rerror_rate         125973.0    0.0  1.496960e+04      0.1     0.0   \n",
       "dst_host_srv_rerror_rate     125973.0    0.0  1.514700e+04      0.1     0.0   \n",
       "\n",
       "                                   STD           VAR  MIN   P1   P5   P10  \\\n",
       "duration                        2604.5  6.783500e+06  0.0  0.0  0.0   0.0   \n",
       "src_bytes                    5870331.2  3.446079e+13  0.0  0.0  0.0   0.0   \n",
       "dst_bytes                    4021269.2  1.617061e+13  0.0  0.0  0.0   0.0   \n",
       "wrong_fragment                     0.3  1.000000e-01  0.0  0.0  0.0   0.0   \n",
       "urgent                             0.0  0.000000e+00  0.0  0.0  0.0   0.0   \n",
       "hot                                2.1  4.600000e+00  0.0  0.0  0.0   0.0   \n",
       "num_failed_logins                  0.0  0.000000e+00  0.0  0.0  0.0   0.0   \n",
       "num_compromised                   23.9  5.732000e+02  0.0  0.0  0.0   0.0   \n",
       "num_root                          24.4  5.953000e+02  0.0  0.0  0.0   0.0   \n",
       "num_file_creations                 0.5  2.000000e-01  0.0  0.0  0.0   0.0   \n",
       "num_shells                         0.0  0.000000e+00  0.0  0.0  0.0   0.0   \n",
       "num_access_files                   0.1  0.000000e+00  0.0  0.0  0.0   0.0   \n",
       "num_outbound_cmds                  0.0  0.000000e+00  0.0  0.0  0.0   0.0   \n",
       "count                            114.5  1.311220e+04  0.0  1.0  1.0   1.0   \n",
       "srv_count                         72.6  5.276000e+03  0.0  1.0  1.0   1.0   \n",
       "serror_rate                        0.4  2.000000e-01  0.0  0.0  0.0   0.0   \n",
       "srv_serror_rate                    0.4  2.000000e-01  0.0  0.0  0.0   0.0   \n",
       "rerror_rate                        0.3  1.000000e-01  0.0  0.0  0.0   0.0   \n",
       "srv_rerror_rate                    0.3  1.000000e-01  0.0  0.0  0.0   0.0   \n",
       "same_srv_rate                      0.4  2.000000e-01  0.0  0.0  0.0   0.0   \n",
       "diff_srv_rate                      0.2  0.000000e+00  0.0  0.0  0.0   0.0   \n",
       "srv_diff_host_rate                 0.3  1.000000e-01  0.0  0.0  0.0   0.0   \n",
       "dst_host_count                    99.2  9.841900e+03  0.0  1.0  3.0  11.0   \n",
       "dst_host_srv_count               110.7  1.225510e+04  0.0  1.0  1.0   2.0   \n",
       "dst_host_same_srv_rate             0.4  2.000000e-01  0.0  0.0  0.0   0.0   \n",
       "dst_host_diff_srv_rate             0.2  0.000000e+00  0.0  0.0  0.0   0.0   \n",
       "dst_host_same_src_port_rate        0.3  1.000000e-01  0.0  0.0  0.0   0.0   \n",
       "dst_host_srv_diff_host_rate        0.1  0.000000e+00  0.0  0.0  0.0   0.0   \n",
       "dst_host_serror_rate               0.4  2.000000e-01  0.0  0.0  0.0   0.0   \n",
       "dst_host_srv_serror_rate           0.4  2.000000e-01  0.0  0.0  0.0   0.0   \n",
       "dst_host_rerror_rate               0.3  1.000000e-01  0.0  0.0  0.0   0.0   \n",
       "dst_host_srv_rerror_rate           0.3  1.000000e-01  0.0  0.0  0.0   0.0   \n",
       "\n",
       "                              P25    P50    P75     P90     P95      P99  \\\n",
       "duration                      0.0    0.0    0.0     0.0     4.0   9590.6   \n",
       "src_bytes                     0.0   44.0  276.0   848.0  1480.0  54540.0   \n",
       "dst_bytes                     0.0    0.0  516.0  3375.8  8314.0  25519.0   \n",
       "wrong_fragment                0.0    0.0    0.0     0.0     0.0      0.0   \n",
       "urgent                        0.0    0.0    0.0     0.0     0.0      0.0   \n",
       "hot                           0.0    0.0    0.0     0.0     0.0      3.0   \n",
       "num_failed_logins             0.0    0.0    0.0     0.0     0.0      0.0   \n",
       "num_compromised               0.0    0.0    0.0     0.0     0.0      1.0   \n",
       "num_root                      0.0    0.0    0.0     0.0     0.0      0.0   \n",
       "num_file_creations            0.0    0.0    0.0     0.0     0.0      0.0   \n",
       "num_shells                    0.0    0.0    0.0     0.0     0.0      0.0   \n",
       "num_access_files              0.0    0.0    0.0     0.0     0.0      0.0   \n",
       "num_outbound_cmds             0.0    0.0    0.0     0.0     0.0      0.0   \n",
       "count                         2.0   14.0  143.0   256.0   286.0    511.0   \n",
       "srv_count                     2.0    8.0   18.0    40.0   158.0    492.0   \n",
       "serror_rate                   0.0    0.0    1.0     1.0     1.0      1.0   \n",
       "srv_serror_rate               0.0    0.0    1.0     1.0     1.0      1.0   \n",
       "rerror_rate                   0.0    0.0    0.0     1.0     1.0      1.0   \n",
       "srv_rerror_rate               0.0    0.0    0.0     1.0     1.0      1.0   \n",
       "same_srv_rate                 0.1    1.0    1.0     1.0     1.0      1.0   \n",
       "diff_srv_rate                 0.0    0.0    0.1     0.1     0.3      1.0   \n",
       "srv_diff_host_rate            0.0    0.0    0.0     0.3     1.0      1.0   \n",
       "dst_host_count               82.0  255.0  255.0   255.0   255.0    255.0   \n",
       "dst_host_srv_count           10.0   63.0  255.0   255.0   255.0    255.0   \n",
       "dst_host_same_srv_rate        0.0    0.5    1.0     1.0     1.0      1.0   \n",
       "dst_host_diff_srv_rate        0.0    0.0    0.1     0.1     0.6      1.0   \n",
       "dst_host_same_src_port_rate   0.0    0.0    0.1     0.8     1.0      1.0   \n",
       "dst_host_srv_diff_host_rate   0.0    0.0    0.0     0.0     0.2      0.5   \n",
       "dst_host_serror_rate          0.0    0.0    1.0     1.0     1.0      1.0   \n",
       "dst_host_srv_serror_rate      0.0    0.0    1.0     1.0     1.0      1.0   \n",
       "dst_host_rerror_rate          0.0    0.0    0.0     0.8     1.0      1.0   \n",
       "dst_host_srv_rerror_rate      0.0    0.0    0.0     1.0     1.0      1.0   \n",
       "\n",
       "                                      MAX  \n",
       "duration                     4.290800e+04  \n",
       "src_bytes                    1.379964e+09  \n",
       "dst_bytes                    1.309937e+09  \n",
       "wrong_fragment               3.000000e+00  \n",
       "urgent                       3.000000e+00  \n",
       "hot                          7.700000e+01  \n",
       "num_failed_logins            5.000000e+00  \n",
       "num_compromised              7.479000e+03  \n",
       "num_root                     7.468000e+03  \n",
       "num_file_creations           4.300000e+01  \n",
       "num_shells                   2.000000e+00  \n",
       "num_access_files             9.000000e+00  \n",
       "num_outbound_cmds            0.000000e+00  \n",
       "count                        5.110000e+02  \n",
       "srv_count                    5.110000e+02  \n",
       "serror_rate                  1.000000e+00  \n",
       "srv_serror_rate              1.000000e+00  \n",
       "rerror_rate                  1.000000e+00  \n",
       "srv_rerror_rate              1.000000e+00  \n",
       "same_srv_rate                1.000000e+00  \n",
       "diff_srv_rate                1.000000e+00  \n",
       "srv_diff_host_rate           1.000000e+00  \n",
       "dst_host_count               2.550000e+02  \n",
       "dst_host_srv_count           2.550000e+02  \n",
       "dst_host_same_srv_rate       1.000000e+00  \n",
       "dst_host_diff_srv_rate       1.000000e+00  \n",
       "dst_host_same_src_port_rate  1.000000e+00  \n",
       "dst_host_srv_diff_host_rate  1.000000e+00  \n",
       "dst_host_serror_rate         1.000000e+00  \n",
       "dst_host_srv_serror_rate     1.000000e+00  \n",
       "dst_host_rerror_rate         1.000000e+00  \n",
       "dst_host_srv_rerror_rate     1.000000e+00  "
      ]
     },
     "execution_count": 22,
     "metadata": {},
     "output_type": "execute_result"
    }
   ],
   "source": [
    "train[cont_cols].apply(continuous_summary).T.round(1)"
   ]
  },
  {
   "cell_type": "code",
   "execution_count": 23,
   "metadata": {
    "scrolled": true
   },
   "outputs": [
    {
     "data": {
      "text/html": [
       "<div>\n",
       "<style scoped>\n",
       "    .dataframe tbody tr th:only-of-type {\n",
       "        vertical-align: middle;\n",
       "    }\n",
       "\n",
       "    .dataframe tbody tr th {\n",
       "        vertical-align: top;\n",
       "    }\n",
       "\n",
       "    .dataframe thead th {\n",
       "        text-align: right;\n",
       "    }\n",
       "</style>\n",
       "<table border=\"1\" class=\"dataframe\">\n",
       "  <thead>\n",
       "    <tr style=\"text-align: right;\">\n",
       "      <th></th>\n",
       "      <th>protocol_type</th>\n",
       "      <th>service</th>\n",
       "      <th>flag</th>\n",
       "      <th>land</th>\n",
       "      <th>logged_in</th>\n",
       "      <th>root_shell</th>\n",
       "      <th>is_host_login</th>\n",
       "      <th>is_guest_login</th>\n",
       "      <th>su_attempted</th>\n",
       "      <th>attack</th>\n",
       "      <th>attack_class</th>\n",
       "    </tr>\n",
       "  </thead>\n",
       "  <tbody>\n",
       "    <tr>\n",
       "      <th>N</th>\n",
       "      <td>125973</td>\n",
       "      <td>125973</td>\n",
       "      <td>125973</td>\n",
       "      <td>125973.00</td>\n",
       "      <td>125973.00</td>\n",
       "      <td>125973.00</td>\n",
       "      <td>125973.0</td>\n",
       "      <td>125973.00</td>\n",
       "      <td>125973.00</td>\n",
       "      <td>125973.00</td>\n",
       "      <td>125973</td>\n",
       "    </tr>\n",
       "    <tr>\n",
       "      <th>NMISS</th>\n",
       "      <td>0</td>\n",
       "      <td>0</td>\n",
       "      <td>0</td>\n",
       "      <td>0.00</td>\n",
       "      <td>0.00</td>\n",
       "      <td>0.00</td>\n",
       "      <td>0.0</td>\n",
       "      <td>0.00</td>\n",
       "      <td>0.00</td>\n",
       "      <td>0.00</td>\n",
       "      <td>0</td>\n",
       "    </tr>\n",
       "    <tr>\n",
       "      <th>MODE</th>\n",
       "      <td>tcp</td>\n",
       "      <td>http</td>\n",
       "      <td>SF</td>\n",
       "      <td>0.00</td>\n",
       "      <td>0.00</td>\n",
       "      <td>0.00</td>\n",
       "      <td>0.0</td>\n",
       "      <td>0.00</td>\n",
       "      <td>0.00</td>\n",
       "      <td>0.00</td>\n",
       "      <td>Normal</td>\n",
       "    </tr>\n",
       "    <tr>\n",
       "      <th>FREQ</th>\n",
       "      <td>102689</td>\n",
       "      <td>40338</td>\n",
       "      <td>74945</td>\n",
       "      <td>125948.00</td>\n",
       "      <td>76121.00</td>\n",
       "      <td>125804.00</td>\n",
       "      <td>125972.0</td>\n",
       "      <td>124786.00</td>\n",
       "      <td>125893.00</td>\n",
       "      <td>67343.00</td>\n",
       "      <td>67343</td>\n",
       "    </tr>\n",
       "    <tr>\n",
       "      <th>PERCENT</th>\n",
       "      <td>81.52</td>\n",
       "      <td>32.02</td>\n",
       "      <td>59.49</td>\n",
       "      <td>99.98</td>\n",
       "      <td>60.43</td>\n",
       "      <td>99.87</td>\n",
       "      <td>100.0</td>\n",
       "      <td>99.06</td>\n",
       "      <td>99.94</td>\n",
       "      <td>53.46</td>\n",
       "      <td>53.46</td>\n",
       "    </tr>\n",
       "  </tbody>\n",
       "</table>\n",
       "</div>"
      ],
      "text/plain": [
       "        protocol_type service    flag       land  logged_in  root_shell  \\\n",
       "N              125973  125973  125973  125973.00  125973.00   125973.00   \n",
       "NMISS               0       0       0       0.00       0.00        0.00   \n",
       "MODE              tcp    http      SF       0.00       0.00        0.00   \n",
       "FREQ           102689   40338   74945  125948.00   76121.00   125804.00   \n",
       "PERCENT         81.52   32.02   59.49      99.98      60.43       99.87   \n",
       "\n",
       "         is_host_login  is_guest_login  su_attempted     attack attack_class  \n",
       "N             125973.0       125973.00     125973.00  125973.00       125973  \n",
       "NMISS              0.0            0.00          0.00       0.00            0  \n",
       "MODE               0.0            0.00          0.00       0.00       Normal  \n",
       "FREQ          125972.0       124786.00     125893.00   67343.00        67343  \n",
       "PERCENT          100.0           99.06         99.94      53.46        53.46  "
      ]
     },
     "execution_count": 23,
     "metadata": {},
     "output_type": "execute_result"
    }
   ],
   "source": [
    "train[cat_cols].apply(categorical_summary)"
   ]
  },
  {
   "cell_type": "markdown",
   "metadata": {},
   "source": [
    "### Outliers"
   ]
  },
  {
   "cell_type": "code",
   "execution_count": 24,
   "metadata": {},
   "outputs": [],
   "source": [
    "# Outlier Treatment\n",
    "train[cont_cols] = train[cont_cols].apply(outlier_capping)\n",
    "test[cont_cols] = test[cont_cols].apply(outlier_capping)"
   ]
  },
  {
   "cell_type": "markdown",
   "metadata": {},
   "source": [
    "### Missing"
   ]
  },
  {
   "cell_type": "code",
   "execution_count": 25,
   "metadata": {
    "scrolled": true
   },
   "outputs": [
    {
     "data": {
      "text/plain": [
       "Index(['wrong_fragment', 'urgent', 'num_failed_logins', 'num_root',\n",
       "       'num_file_creations', 'num_shells', 'num_access_files',\n",
       "       'num_outbound_cmds'],\n",
       "      dtype='object')"
      ]
     },
     "execution_count": 25,
     "metadata": {},
     "output_type": "execute_result"
    }
   ],
   "source": [
    "# Columns containing all zeros or null\n",
    "null_cols = train.columns[(train == 0).all()]\n",
    "null_cols"
   ]
  },
  {
   "cell_type": "code",
   "execution_count": 26,
   "metadata": {},
   "outputs": [],
   "source": [
    "# Dropping the column containing all zeros\n",
    "train.drop(null_cols, axis = 1, inplace = True)\n",
    "test.drop(null_cols, axis = 1, inplace = True)"
   ]
  },
  {
   "cell_type": "code",
   "execution_count": 27,
   "metadata": {},
   "outputs": [],
   "source": [
    "# Update Continuous and cateforical columns list\n",
    "cont_cols = list(set(cont_cols).difference(null_cols))\n",
    "cat_cols = list(set(cat_cols).difference(null_cols))"
   ]
  },
  {
   "cell_type": "code",
   "execution_count": 28,
   "metadata": {},
   "outputs": [
    {
     "data": {
      "text/plain": [
       "0"
      ]
     },
     "execution_count": 28,
     "metadata": {},
     "output_type": "execute_result"
    }
   ],
   "source": [
    "# Checking missing values in train dataset\n",
    "train.isna().sum().sum()"
   ]
  },
  {
   "cell_type": "code",
   "execution_count": 29,
   "metadata": {},
   "outputs": [
    {
     "data": {
      "text/plain": [
       "0"
      ]
     },
     "execution_count": 29,
     "metadata": {},
     "output_type": "execute_result"
    }
   ],
   "source": [
    "# Checking missing values in test dataset\n",
    "test.isna().sum().sum()"
   ]
  },
  {
   "cell_type": "markdown",
   "metadata": {},
   "source": [
    "### Encoding Categorical Variables - Dummy"
   ]
  },
  {
   "cell_type": "code",
   "execution_count": 30,
   "metadata": {
    "scrolled": false
   },
   "outputs": [
    {
     "data": {
      "text/plain": [
       "is_host_login      2\n",
       "land               2\n",
       "is_guest_login     2\n",
       "root_shell         2\n",
       "logged_in          2\n",
       "attack             2\n",
       "protocol_type      3\n",
       "su_attempted       3\n",
       "attack_class       5\n",
       "flag              11\n",
       "service           70\n",
       "dtype: int64"
      ]
     },
     "execution_count": 30,
     "metadata": {},
     "output_type": "execute_result"
    }
   ],
   "source": [
    "train[cat_cols].nunique().sort_values()"
   ]
  },
  {
   "cell_type": "code",
   "execution_count": 31,
   "metadata": {},
   "outputs": [],
   "source": [
    "# No of unique values in 'service' is much greater, so dropping it\n",
    "train.drop('service', axis = 1, inplace = True)\n",
    "test.drop('service', axis = 1, inplace = True)"
   ]
  },
  {
   "cell_type": "code",
   "execution_count": 32,
   "metadata": {},
   "outputs": [],
   "source": [
    "cat_cols.remove('service')"
   ]
  },
  {
   "cell_type": "code",
   "execution_count": 33,
   "metadata": {},
   "outputs": [
    {
     "name": "stdout",
     "output_type": "stream",
     "text": [
      "protocol_type \t 3 \t ['tcp' 'udp' 'icmp']\n",
      "flag \t 11 \t ['SF' 'S0' 'REJ' 'RSTR' 'SH' 'RSTO' 'S1' 'RSTOS0' 'S3' 'S2' 'OTH']\n",
      "attack_class \t 5 \t ['Normal' 'DoS' 'R2L' 'Probe' 'U2R']\n"
     ]
    }
   ],
   "source": [
    "for i in train.select_dtypes(include='object').columns:\n",
    "    if train[i].nunique() > 2:\n",
    "        print(i, '\\t', train[i].nunique(), '\\t', train[i].unique())"
   ]
  },
  {
   "cell_type": "code",
   "execution_count": 34,
   "metadata": {},
   "outputs": [],
   "source": [
    "# Creating Dummy Variables for nominal features\n",
    "for_dummy = ['protocol_type', 'flag']\n",
    "for col in for_dummy:\n",
    "    train = dummy_var(train, col)\n",
    "    test = dummy_var(test, col)"
   ]
  },
  {
   "cell_type": "code",
   "execution_count": 35,
   "metadata": {},
   "outputs": [],
   "source": [
    "# Encoding target variable 'attack_class' using Label Encoder\n",
    "target_map = {'Normal':'0', 'DoS':'1', 'Probe':'2', 'R2L':'3', 'U2R':'4'}\n",
    "train['attack_class'] = train['attack_class'].apply(lambda x: target_map[x])\n",
    "test['attack_class'] = test['attack_class'].apply(lambda x: target_map[x])\n",
    "\n",
    "train['attack_class'] = train['attack_class'].astype('int64')\n",
    "test['attack_class'] = test['attack_class'].astype('int64')"
   ]
  },
  {
   "cell_type": "markdown",
   "metadata": {},
   "source": [
    "### summary"
   ]
  },
  {
   "cell_type": "code",
   "execution_count": 36,
   "metadata": {
    "scrolled": true
   },
   "outputs": [
    {
     "data": {
      "text/html": [
       "<div>\n",
       "<style scoped>\n",
       "    .dataframe tbody tr th:only-of-type {\n",
       "        vertical-align: middle;\n",
       "    }\n",
       "\n",
       "    .dataframe tbody tr th {\n",
       "        vertical-align: top;\n",
       "    }\n",
       "\n",
       "    .dataframe thead th {\n",
       "        text-align: right;\n",
       "    }\n",
       "</style>\n",
       "<table border=\"1\" class=\"dataframe\">\n",
       "  <thead>\n",
       "    <tr style=\"text-align: right;\">\n",
       "      <th></th>\n",
       "      <th>N</th>\n",
       "      <th>NMISS</th>\n",
       "      <th>SUM</th>\n",
       "      <th>MEAN</th>\n",
       "      <th>MEDIAN</th>\n",
       "      <th>STD</th>\n",
       "      <th>VAR</th>\n",
       "      <th>MIN</th>\n",
       "      <th>P1</th>\n",
       "      <th>P5</th>\n",
       "      <th>P10</th>\n",
       "      <th>P25</th>\n",
       "      <th>P50</th>\n",
       "      <th>P75</th>\n",
       "      <th>P90</th>\n",
       "      <th>P95</th>\n",
       "      <th>P99</th>\n",
       "      <th>MAX</th>\n",
       "    </tr>\n",
       "  </thead>\n",
       "  <tbody>\n",
       "    <tr>\n",
       "      <th>duration</th>\n",
       "      <td>125973.0</td>\n",
       "      <td>0.0</td>\n",
       "      <td>19111663.6</td>\n",
       "      <td>151.7</td>\n",
       "      <td>0.0</td>\n",
       "      <td>1095.9</td>\n",
       "      <td>1200913.4</td>\n",
       "      <td>0.0</td>\n",
       "      <td>0.0</td>\n",
       "      <td>0.0</td>\n",
       "      <td>0.0</td>\n",
       "      <td>0.0</td>\n",
       "      <td>0.0</td>\n",
       "      <td>0.0</td>\n",
       "      <td>0.0</td>\n",
       "      <td>4.0</td>\n",
       "      <td>9590.2</td>\n",
       "      <td>9590.6</td>\n",
       "    </tr>\n",
       "    <tr>\n",
       "      <th>src_bytes</th>\n",
       "      <td>125973.0</td>\n",
       "      <td>0.0</td>\n",
       "      <td>129688967.0</td>\n",
       "      <td>1029.5</td>\n",
       "      <td>44.0</td>\n",
       "      <td>6137.9</td>\n",
       "      <td>37673835.8</td>\n",
       "      <td>0.0</td>\n",
       "      <td>0.0</td>\n",
       "      <td>0.0</td>\n",
       "      <td>0.0</td>\n",
       "      <td>0.0</td>\n",
       "      <td>44.0</td>\n",
       "      <td>276.0</td>\n",
       "      <td>848.0</td>\n",
       "      <td>1480.0</td>\n",
       "      <td>54540.0</td>\n",
       "      <td>54540.0</td>\n",
       "    </tr>\n",
       "    <tr>\n",
       "      <th>dst_bytes</th>\n",
       "      <td>125973.0</td>\n",
       "      <td>0.0</td>\n",
       "      <td>169070700.0</td>\n",
       "      <td>1342.1</td>\n",
       "      <td>0.0</td>\n",
       "      <td>3804.3</td>\n",
       "      <td>14472652.9</td>\n",
       "      <td>0.0</td>\n",
       "      <td>0.0</td>\n",
       "      <td>0.0</td>\n",
       "      <td>0.0</td>\n",
       "      <td>0.0</td>\n",
       "      <td>0.0</td>\n",
       "      <td>516.0</td>\n",
       "      <td>3375.8</td>\n",
       "      <td>8314.0</td>\n",
       "      <td>25519.0</td>\n",
       "      <td>25519.0</td>\n",
       "    </tr>\n",
       "    <tr>\n",
       "      <th>land</th>\n",
       "      <td>125973.0</td>\n",
       "      <td>0.0</td>\n",
       "      <td>25.0</td>\n",
       "      <td>0.0</td>\n",
       "      <td>0.0</td>\n",
       "      <td>0.0</td>\n",
       "      <td>0.0</td>\n",
       "      <td>0.0</td>\n",
       "      <td>0.0</td>\n",
       "      <td>0.0</td>\n",
       "      <td>0.0</td>\n",
       "      <td>0.0</td>\n",
       "      <td>0.0</td>\n",
       "      <td>0.0</td>\n",
       "      <td>0.0</td>\n",
       "      <td>0.0</td>\n",
       "      <td>0.0</td>\n",
       "      <td>1.0</td>\n",
       "    </tr>\n",
       "    <tr>\n",
       "      <th>hot</th>\n",
       "      <td>125973.0</td>\n",
       "      <td>0.0</td>\n",
       "      <td>6238.0</td>\n",
       "      <td>0.0</td>\n",
       "      <td>0.0</td>\n",
       "      <td>0.4</td>\n",
       "      <td>0.1</td>\n",
       "      <td>0.0</td>\n",
       "      <td>0.0</td>\n",
       "      <td>0.0</td>\n",
       "      <td>0.0</td>\n",
       "      <td>0.0</td>\n",
       "      <td>0.0</td>\n",
       "      <td>0.0</td>\n",
       "      <td>0.0</td>\n",
       "      <td>0.0</td>\n",
       "      <td>3.0</td>\n",
       "      <td>3.0</td>\n",
       "    </tr>\n",
       "    <tr>\n",
       "      <th>logged_in</th>\n",
       "      <td>125973.0</td>\n",
       "      <td>0.0</td>\n",
       "      <td>49852.0</td>\n",
       "      <td>0.4</td>\n",
       "      <td>0.0</td>\n",
       "      <td>0.5</td>\n",
       "      <td>0.2</td>\n",
       "      <td>0.0</td>\n",
       "      <td>0.0</td>\n",
       "      <td>0.0</td>\n",
       "      <td>0.0</td>\n",
       "      <td>0.0</td>\n",
       "      <td>0.0</td>\n",
       "      <td>1.0</td>\n",
       "      <td>1.0</td>\n",
       "      <td>1.0</td>\n",
       "      <td>1.0</td>\n",
       "      <td>1.0</td>\n",
       "    </tr>\n",
       "    <tr>\n",
       "      <th>num_compromised</th>\n",
       "      <td>125973.0</td>\n",
       "      <td>0.0</td>\n",
       "      <td>1286.0</td>\n",
       "      <td>0.0</td>\n",
       "      <td>0.0</td>\n",
       "      <td>0.1</td>\n",
       "      <td>0.0</td>\n",
       "      <td>0.0</td>\n",
       "      <td>0.0</td>\n",
       "      <td>0.0</td>\n",
       "      <td>0.0</td>\n",
       "      <td>0.0</td>\n",
       "      <td>0.0</td>\n",
       "      <td>0.0</td>\n",
       "      <td>0.0</td>\n",
       "      <td>0.0</td>\n",
       "      <td>1.0</td>\n",
       "      <td>1.0</td>\n",
       "    </tr>\n",
       "    <tr>\n",
       "      <th>root_shell</th>\n",
       "      <td>125973.0</td>\n",
       "      <td>0.0</td>\n",
       "      <td>169.0</td>\n",
       "      <td>0.0</td>\n",
       "      <td>0.0</td>\n",
       "      <td>0.0</td>\n",
       "      <td>0.0</td>\n",
       "      <td>0.0</td>\n",
       "      <td>0.0</td>\n",
       "      <td>0.0</td>\n",
       "      <td>0.0</td>\n",
       "      <td>0.0</td>\n",
       "      <td>0.0</td>\n",
       "      <td>0.0</td>\n",
       "      <td>0.0</td>\n",
       "      <td>0.0</td>\n",
       "      <td>0.0</td>\n",
       "      <td>1.0</td>\n",
       "    </tr>\n",
       "    <tr>\n",
       "      <th>su_attempted</th>\n",
       "      <td>125973.0</td>\n",
       "      <td>0.0</td>\n",
       "      <td>139.0</td>\n",
       "      <td>0.0</td>\n",
       "      <td>0.0</td>\n",
       "      <td>0.0</td>\n",
       "      <td>0.0</td>\n",
       "      <td>0.0</td>\n",
       "      <td>0.0</td>\n",
       "      <td>0.0</td>\n",
       "      <td>0.0</td>\n",
       "      <td>0.0</td>\n",
       "      <td>0.0</td>\n",
       "      <td>0.0</td>\n",
       "      <td>0.0</td>\n",
       "      <td>0.0</td>\n",
       "      <td>0.0</td>\n",
       "      <td>2.0</td>\n",
       "    </tr>\n",
       "    <tr>\n",
       "      <th>is_host_login</th>\n",
       "      <td>125973.0</td>\n",
       "      <td>0.0</td>\n",
       "      <td>1.0</td>\n",
       "      <td>0.0</td>\n",
       "      <td>0.0</td>\n",
       "      <td>0.0</td>\n",
       "      <td>0.0</td>\n",
       "      <td>0.0</td>\n",
       "      <td>0.0</td>\n",
       "      <td>0.0</td>\n",
       "      <td>0.0</td>\n",
       "      <td>0.0</td>\n",
       "      <td>0.0</td>\n",
       "      <td>0.0</td>\n",
       "      <td>0.0</td>\n",
       "      <td>0.0</td>\n",
       "      <td>0.0</td>\n",
       "      <td>1.0</td>\n",
       "    </tr>\n",
       "    <tr>\n",
       "      <th>is_guest_login</th>\n",
       "      <td>125973.0</td>\n",
       "      <td>0.0</td>\n",
       "      <td>1187.0</td>\n",
       "      <td>0.0</td>\n",
       "      <td>0.0</td>\n",
       "      <td>0.1</td>\n",
       "      <td>0.0</td>\n",
       "      <td>0.0</td>\n",
       "      <td>0.0</td>\n",
       "      <td>0.0</td>\n",
       "      <td>0.0</td>\n",
       "      <td>0.0</td>\n",
       "      <td>0.0</td>\n",
       "      <td>0.0</td>\n",
       "      <td>0.0</td>\n",
       "      <td>0.0</td>\n",
       "      <td>0.0</td>\n",
       "      <td>1.0</td>\n",
       "    </tr>\n",
       "    <tr>\n",
       "      <th>count</th>\n",
       "      <td>125973.0</td>\n",
       "      <td>0.0</td>\n",
       "      <td>10595294.0</td>\n",
       "      <td>84.1</td>\n",
       "      <td>14.0</td>\n",
       "      <td>114.5</td>\n",
       "      <td>13112.2</td>\n",
       "      <td>1.0</td>\n",
       "      <td>1.0</td>\n",
       "      <td>1.0</td>\n",
       "      <td>1.0</td>\n",
       "      <td>2.0</td>\n",
       "      <td>14.0</td>\n",
       "      <td>143.0</td>\n",
       "      <td>256.0</td>\n",
       "      <td>286.0</td>\n",
       "      <td>511.0</td>\n",
       "      <td>511.0</td>\n",
       "    </tr>\n",
       "    <tr>\n",
       "      <th>srv_count</th>\n",
       "      <td>125973.0</td>\n",
       "      <td>0.0</td>\n",
       "      <td>3470954.0</td>\n",
       "      <td>27.6</td>\n",
       "      <td>8.0</td>\n",
       "      <td>71.4</td>\n",
       "      <td>5100.8</td>\n",
       "      <td>1.0</td>\n",
       "      <td>1.0</td>\n",
       "      <td>1.0</td>\n",
       "      <td>1.0</td>\n",
       "      <td>2.0</td>\n",
       "      <td>8.0</td>\n",
       "      <td>18.0</td>\n",
       "      <td>40.0</td>\n",
       "      <td>158.0</td>\n",
       "      <td>492.0</td>\n",
       "      <td>492.0</td>\n",
       "    </tr>\n",
       "    <tr>\n",
       "      <th>serror_rate</th>\n",
       "      <td>125973.0</td>\n",
       "      <td>0.0</td>\n",
       "      <td>35837.4</td>\n",
       "      <td>0.3</td>\n",
       "      <td>0.0</td>\n",
       "      <td>0.4</td>\n",
       "      <td>0.2</td>\n",
       "      <td>0.0</td>\n",
       "      <td>0.0</td>\n",
       "      <td>0.0</td>\n",
       "      <td>0.0</td>\n",
       "      <td>0.0</td>\n",
       "      <td>0.0</td>\n",
       "      <td>1.0</td>\n",
       "      <td>1.0</td>\n",
       "      <td>1.0</td>\n",
       "      <td>1.0</td>\n",
       "      <td>1.0</td>\n",
       "    </tr>\n",
       "    <tr>\n",
       "      <th>srv_serror_rate</th>\n",
       "      <td>125973.0</td>\n",
       "      <td>0.0</td>\n",
       "      <td>35585.5</td>\n",
       "      <td>0.3</td>\n",
       "      <td>0.0</td>\n",
       "      <td>0.4</td>\n",
       "      <td>0.2</td>\n",
       "      <td>0.0</td>\n",
       "      <td>0.0</td>\n",
       "      <td>0.0</td>\n",
       "      <td>0.0</td>\n",
       "      <td>0.0</td>\n",
       "      <td>0.0</td>\n",
       "      <td>1.0</td>\n",
       "      <td>1.0</td>\n",
       "      <td>1.0</td>\n",
       "      <td>1.0</td>\n",
       "      <td>1.0</td>\n",
       "    </tr>\n",
       "    <tr>\n",
       "      <th>rerror_rate</th>\n",
       "      <td>125973.0</td>\n",
       "      <td>0.0</td>\n",
       "      <td>15111.5</td>\n",
       "      <td>0.1</td>\n",
       "      <td>0.0</td>\n",
       "      <td>0.3</td>\n",
       "      <td>0.1</td>\n",
       "      <td>0.0</td>\n",
       "      <td>0.0</td>\n",
       "      <td>0.0</td>\n",
       "      <td>0.0</td>\n",
       "      <td>0.0</td>\n",
       "      <td>0.0</td>\n",
       "      <td>0.0</td>\n",
       "      <td>1.0</td>\n",
       "      <td>1.0</td>\n",
       "      <td>1.0</td>\n",
       "      <td>1.0</td>\n",
       "    </tr>\n",
       "    <tr>\n",
       "      <th>srv_rerror_rate</th>\n",
       "      <td>125973.0</td>\n",
       "      <td>0.0</td>\n",
       "      <td>15265.8</td>\n",
       "      <td>0.1</td>\n",
       "      <td>0.0</td>\n",
       "      <td>0.3</td>\n",
       "      <td>0.1</td>\n",
       "      <td>0.0</td>\n",
       "      <td>0.0</td>\n",
       "      <td>0.0</td>\n",
       "      <td>0.0</td>\n",
       "      <td>0.0</td>\n",
       "      <td>0.0</td>\n",
       "      <td>0.0</td>\n",
       "      <td>1.0</td>\n",
       "      <td>1.0</td>\n",
       "      <td>1.0</td>\n",
       "      <td>1.0</td>\n",
       "    </tr>\n",
       "    <tr>\n",
       "      <th>same_srv_rate</th>\n",
       "      <td>125973.0</td>\n",
       "      <td>0.0</td>\n",
       "      <td>83259.0</td>\n",
       "      <td>0.7</td>\n",
       "      <td>1.0</td>\n",
       "      <td>0.4</td>\n",
       "      <td>0.2</td>\n",
       "      <td>0.0</td>\n",
       "      <td>0.0</td>\n",
       "      <td>0.0</td>\n",
       "      <td>0.0</td>\n",
       "      <td>0.1</td>\n",
       "      <td>1.0</td>\n",
       "      <td>1.0</td>\n",
       "      <td>1.0</td>\n",
       "      <td>1.0</td>\n",
       "      <td>1.0</td>\n",
       "      <td>1.0</td>\n",
       "    </tr>\n",
       "    <tr>\n",
       "      <th>diff_srv_rate</th>\n",
       "      <td>125973.0</td>\n",
       "      <td>0.0</td>\n",
       "      <td>7942.9</td>\n",
       "      <td>0.1</td>\n",
       "      <td>0.0</td>\n",
       "      <td>0.2</td>\n",
       "      <td>0.0</td>\n",
       "      <td>0.0</td>\n",
       "      <td>0.0</td>\n",
       "      <td>0.0</td>\n",
       "      <td>0.0</td>\n",
       "      <td>0.0</td>\n",
       "      <td>0.0</td>\n",
       "      <td>0.1</td>\n",
       "      <td>0.1</td>\n",
       "      <td>0.3</td>\n",
       "      <td>1.0</td>\n",
       "      <td>1.0</td>\n",
       "    </tr>\n",
       "    <tr>\n",
       "      <th>srv_diff_host_rate</th>\n",
       "      <td>125973.0</td>\n",
       "      <td>0.0</td>\n",
       "      <td>12259.9</td>\n",
       "      <td>0.1</td>\n",
       "      <td>0.0</td>\n",
       "      <td>0.3</td>\n",
       "      <td>0.1</td>\n",
       "      <td>0.0</td>\n",
       "      <td>0.0</td>\n",
       "      <td>0.0</td>\n",
       "      <td>0.0</td>\n",
       "      <td>0.0</td>\n",
       "      <td>0.0</td>\n",
       "      <td>0.0</td>\n",
       "      <td>0.3</td>\n",
       "      <td>1.0</td>\n",
       "      <td>1.0</td>\n",
       "      <td>1.0</td>\n",
       "    </tr>\n",
       "    <tr>\n",
       "      <th>dst_host_count</th>\n",
       "      <td>125973.0</td>\n",
       "      <td>0.0</td>\n",
       "      <td>22945852.0</td>\n",
       "      <td>182.1</td>\n",
       "      <td>255.0</td>\n",
       "      <td>99.2</td>\n",
       "      <td>9841.9</td>\n",
       "      <td>1.0</td>\n",
       "      <td>1.0</td>\n",
       "      <td>3.0</td>\n",
       "      <td>11.0</td>\n",
       "      <td>82.0</td>\n",
       "      <td>255.0</td>\n",
       "      <td>255.0</td>\n",
       "      <td>255.0</td>\n",
       "      <td>255.0</td>\n",
       "      <td>255.0</td>\n",
       "      <td>255.0</td>\n",
       "    </tr>\n",
       "    <tr>\n",
       "      <th>dst_host_srv_count</th>\n",
       "      <td>125973.0</td>\n",
       "      <td>0.0</td>\n",
       "      <td>14569159.0</td>\n",
       "      <td>115.7</td>\n",
       "      <td>63.0</td>\n",
       "      <td>110.7</td>\n",
       "      <td>12255.1</td>\n",
       "      <td>1.0</td>\n",
       "      <td>1.0</td>\n",
       "      <td>1.0</td>\n",
       "      <td>2.0</td>\n",
       "      <td>10.0</td>\n",
       "      <td>63.0</td>\n",
       "      <td>255.0</td>\n",
       "      <td>255.0</td>\n",
       "      <td>255.0</td>\n",
       "      <td>255.0</td>\n",
       "      <td>255.0</td>\n",
       "    </tr>\n",
       "    <tr>\n",
       "      <th>dst_host_same_srv_rate</th>\n",
       "      <td>125973.0</td>\n",
       "      <td>0.0</td>\n",
       "      <td>65662.4</td>\n",
       "      <td>0.5</td>\n",
       "      <td>0.5</td>\n",
       "      <td>0.4</td>\n",
       "      <td>0.2</td>\n",
       "      <td>0.0</td>\n",
       "      <td>0.0</td>\n",
       "      <td>0.0</td>\n",
       "      <td>0.0</td>\n",
       "      <td>0.0</td>\n",
       "      <td>0.5</td>\n",
       "      <td>1.0</td>\n",
       "      <td>1.0</td>\n",
       "      <td>1.0</td>\n",
       "      <td>1.0</td>\n",
       "      <td>1.0</td>\n",
       "    </tr>\n",
       "    <tr>\n",
       "      <th>dst_host_diff_srv_rate</th>\n",
       "      <td>125973.0</td>\n",
       "      <td>0.0</td>\n",
       "      <td>10449.6</td>\n",
       "      <td>0.1</td>\n",
       "      <td>0.0</td>\n",
       "      <td>0.2</td>\n",
       "      <td>0.0</td>\n",
       "      <td>0.0</td>\n",
       "      <td>0.0</td>\n",
       "      <td>0.0</td>\n",
       "      <td>0.0</td>\n",
       "      <td>0.0</td>\n",
       "      <td>0.0</td>\n",
       "      <td>0.1</td>\n",
       "      <td>0.1</td>\n",
       "      <td>0.6</td>\n",
       "      <td>1.0</td>\n",
       "      <td>1.0</td>\n",
       "    </tr>\n",
       "    <tr>\n",
       "      <th>dst_host_same_src_port_rate</th>\n",
       "      <td>125973.0</td>\n",
       "      <td>0.0</td>\n",
       "      <td>18691.7</td>\n",
       "      <td>0.1</td>\n",
       "      <td>0.0</td>\n",
       "      <td>0.3</td>\n",
       "      <td>0.1</td>\n",
       "      <td>0.0</td>\n",
       "      <td>0.0</td>\n",
       "      <td>0.0</td>\n",
       "      <td>0.0</td>\n",
       "      <td>0.0</td>\n",
       "      <td>0.0</td>\n",
       "      <td>0.1</td>\n",
       "      <td>0.8</td>\n",
       "      <td>1.0</td>\n",
       "      <td>1.0</td>\n",
       "      <td>1.0</td>\n",
       "    </tr>\n",
       "    <tr>\n",
       "      <th>dst_host_srv_diff_host_rate</th>\n",
       "      <td>125973.0</td>\n",
       "      <td>0.0</td>\n",
       "      <td>3734.9</td>\n",
       "      <td>0.0</td>\n",
       "      <td>0.0</td>\n",
       "      <td>0.1</td>\n",
       "      <td>0.0</td>\n",
       "      <td>0.0</td>\n",
       "      <td>0.0</td>\n",
       "      <td>0.0</td>\n",
       "      <td>0.0</td>\n",
       "      <td>0.0</td>\n",
       "      <td>0.0</td>\n",
       "      <td>0.0</td>\n",
       "      <td>0.0</td>\n",
       "      <td>0.2</td>\n",
       "      <td>0.5</td>\n",
       "      <td>0.5</td>\n",
       "    </tr>\n",
       "    <tr>\n",
       "      <th>dst_host_serror_rate</th>\n",
       "      <td>125973.0</td>\n",
       "      <td>0.0</td>\n",
       "      <td>35833.3</td>\n",
       "      <td>0.3</td>\n",
       "      <td>0.0</td>\n",
       "      <td>0.4</td>\n",
       "      <td>0.2</td>\n",
       "      <td>0.0</td>\n",
       "      <td>0.0</td>\n",
       "      <td>0.0</td>\n",
       "      <td>0.0</td>\n",
       "      <td>0.0</td>\n",
       "      <td>0.0</td>\n",
       "      <td>1.0</td>\n",
       "      <td>1.0</td>\n",
       "      <td>1.0</td>\n",
       "      <td>1.0</td>\n",
       "      <td>1.0</td>\n",
       "    </tr>\n",
       "    <tr>\n",
       "      <th>dst_host_srv_serror_rate</th>\n",
       "      <td>125973.0</td>\n",
       "      <td>0.0</td>\n",
       "      <td>35081.5</td>\n",
       "      <td>0.3</td>\n",
       "      <td>0.0</td>\n",
       "      <td>0.4</td>\n",
       "      <td>0.2</td>\n",
       "      <td>0.0</td>\n",
       "      <td>0.0</td>\n",
       "      <td>0.0</td>\n",
       "      <td>0.0</td>\n",
       "      <td>0.0</td>\n",
       "      <td>0.0</td>\n",
       "      <td>1.0</td>\n",
       "      <td>1.0</td>\n",
       "      <td>1.0</td>\n",
       "      <td>1.0</td>\n",
       "      <td>1.0</td>\n",
       "    </tr>\n",
       "    <tr>\n",
       "      <th>dst_host_rerror_rate</th>\n",
       "      <td>125973.0</td>\n",
       "      <td>0.0</td>\n",
       "      <td>14969.6</td>\n",
       "      <td>0.1</td>\n",
       "      <td>0.0</td>\n",
       "      <td>0.3</td>\n",
       "      <td>0.1</td>\n",
       "      <td>0.0</td>\n",
       "      <td>0.0</td>\n",
       "      <td>0.0</td>\n",
       "      <td>0.0</td>\n",
       "      <td>0.0</td>\n",
       "      <td>0.0</td>\n",
       "      <td>0.0</td>\n",
       "      <td>0.8</td>\n",
       "      <td>1.0</td>\n",
       "      <td>1.0</td>\n",
       "      <td>1.0</td>\n",
       "    </tr>\n",
       "    <tr>\n",
       "      <th>dst_host_srv_rerror_rate</th>\n",
       "      <td>125973.0</td>\n",
       "      <td>0.0</td>\n",
       "      <td>15147.0</td>\n",
       "      <td>0.1</td>\n",
       "      <td>0.0</td>\n",
       "      <td>0.3</td>\n",
       "      <td>0.1</td>\n",
       "      <td>0.0</td>\n",
       "      <td>0.0</td>\n",
       "      <td>0.0</td>\n",
       "      <td>0.0</td>\n",
       "      <td>0.0</td>\n",
       "      <td>0.0</td>\n",
       "      <td>0.0</td>\n",
       "      <td>1.0</td>\n",
       "      <td>1.0</td>\n",
       "      <td>1.0</td>\n",
       "      <td>1.0</td>\n",
       "    </tr>\n",
       "    <tr>\n",
       "      <th>attack</th>\n",
       "      <td>125973.0</td>\n",
       "      <td>0.0</td>\n",
       "      <td>58630.0</td>\n",
       "      <td>0.5</td>\n",
       "      <td>0.0</td>\n",
       "      <td>0.5</td>\n",
       "      <td>0.2</td>\n",
       "      <td>0.0</td>\n",
       "      <td>0.0</td>\n",
       "      <td>0.0</td>\n",
       "      <td>0.0</td>\n",
       "      <td>0.0</td>\n",
       "      <td>0.0</td>\n",
       "      <td>1.0</td>\n",
       "      <td>1.0</td>\n",
       "      <td>1.0</td>\n",
       "      <td>1.0</td>\n",
       "      <td>1.0</td>\n",
       "    </tr>\n",
       "    <tr>\n",
       "      <th>last_flag</th>\n",
       "      <td>125973.0</td>\n",
       "      <td>0.0</td>\n",
       "      <td>2456985.0</td>\n",
       "      <td>19.5</td>\n",
       "      <td>20.0</td>\n",
       "      <td>2.3</td>\n",
       "      <td>5.3</td>\n",
       "      <td>0.0</td>\n",
       "      <td>11.0</td>\n",
       "      <td>15.0</td>\n",
       "      <td>17.0</td>\n",
       "      <td>18.0</td>\n",
       "      <td>20.0</td>\n",
       "      <td>21.0</td>\n",
       "      <td>21.0</td>\n",
       "      <td>21.0</td>\n",
       "      <td>21.0</td>\n",
       "      <td>21.0</td>\n",
       "    </tr>\n",
       "    <tr>\n",
       "      <th>attack_class</th>\n",
       "      <td>125973.0</td>\n",
       "      <td>0.0</td>\n",
       "      <td>72432.0</td>\n",
       "      <td>0.6</td>\n",
       "      <td>0.0</td>\n",
       "      <td>0.7</td>\n",
       "      <td>0.5</td>\n",
       "      <td>0.0</td>\n",
       "      <td>0.0</td>\n",
       "      <td>0.0</td>\n",
       "      <td>0.0</td>\n",
       "      <td>0.0</td>\n",
       "      <td>0.0</td>\n",
       "      <td>1.0</td>\n",
       "      <td>2.0</td>\n",
       "      <td>2.0</td>\n",
       "      <td>2.0</td>\n",
       "      <td>4.0</td>\n",
       "    </tr>\n",
       "    <tr>\n",
       "      <th>protocol_type_tcp</th>\n",
       "      <td>125973.0</td>\n",
       "      <td>0.0</td>\n",
       "      <td>102689.0</td>\n",
       "      <td>0.8</td>\n",
       "      <td>1.0</td>\n",
       "      <td>0.4</td>\n",
       "      <td>0.2</td>\n",
       "      <td>0.0</td>\n",
       "      <td>0.0</td>\n",
       "      <td>0.0</td>\n",
       "      <td>0.0</td>\n",
       "      <td>1.0</td>\n",
       "      <td>1.0</td>\n",
       "      <td>1.0</td>\n",
       "      <td>1.0</td>\n",
       "      <td>1.0</td>\n",
       "      <td>1.0</td>\n",
       "      <td>1.0</td>\n",
       "    </tr>\n",
       "    <tr>\n",
       "      <th>protocol_type_udp</th>\n",
       "      <td>125973.0</td>\n",
       "      <td>0.0</td>\n",
       "      <td>14993.0</td>\n",
       "      <td>0.1</td>\n",
       "      <td>0.0</td>\n",
       "      <td>0.3</td>\n",
       "      <td>0.1</td>\n",
       "      <td>0.0</td>\n",
       "      <td>0.0</td>\n",
       "      <td>0.0</td>\n",
       "      <td>0.0</td>\n",
       "      <td>0.0</td>\n",
       "      <td>0.0</td>\n",
       "      <td>0.0</td>\n",
       "      <td>1.0</td>\n",
       "      <td>1.0</td>\n",
       "      <td>1.0</td>\n",
       "      <td>1.0</td>\n",
       "    </tr>\n",
       "    <tr>\n",
       "      <th>flag_REJ</th>\n",
       "      <td>125973.0</td>\n",
       "      <td>0.0</td>\n",
       "      <td>11233.0</td>\n",
       "      <td>0.1</td>\n",
       "      <td>0.0</td>\n",
       "      <td>0.3</td>\n",
       "      <td>0.1</td>\n",
       "      <td>0.0</td>\n",
       "      <td>0.0</td>\n",
       "      <td>0.0</td>\n",
       "      <td>0.0</td>\n",
       "      <td>0.0</td>\n",
       "      <td>0.0</td>\n",
       "      <td>0.0</td>\n",
       "      <td>0.0</td>\n",
       "      <td>1.0</td>\n",
       "      <td>1.0</td>\n",
       "      <td>1.0</td>\n",
       "    </tr>\n",
       "    <tr>\n",
       "      <th>flag_RSTO</th>\n",
       "      <td>125973.0</td>\n",
       "      <td>0.0</td>\n",
       "      <td>1562.0</td>\n",
       "      <td>0.0</td>\n",
       "      <td>0.0</td>\n",
       "      <td>0.1</td>\n",
       "      <td>0.0</td>\n",
       "      <td>0.0</td>\n",
       "      <td>0.0</td>\n",
       "      <td>0.0</td>\n",
       "      <td>0.0</td>\n",
       "      <td>0.0</td>\n",
       "      <td>0.0</td>\n",
       "      <td>0.0</td>\n",
       "      <td>0.0</td>\n",
       "      <td>0.0</td>\n",
       "      <td>1.0</td>\n",
       "      <td>1.0</td>\n",
       "    </tr>\n",
       "    <tr>\n",
       "      <th>flag_RSTOS0</th>\n",
       "      <td>125973.0</td>\n",
       "      <td>0.0</td>\n",
       "      <td>103.0</td>\n",
       "      <td>0.0</td>\n",
       "      <td>0.0</td>\n",
       "      <td>0.0</td>\n",
       "      <td>0.0</td>\n",
       "      <td>0.0</td>\n",
       "      <td>0.0</td>\n",
       "      <td>0.0</td>\n",
       "      <td>0.0</td>\n",
       "      <td>0.0</td>\n",
       "      <td>0.0</td>\n",
       "      <td>0.0</td>\n",
       "      <td>0.0</td>\n",
       "      <td>0.0</td>\n",
       "      <td>0.0</td>\n",
       "      <td>1.0</td>\n",
       "    </tr>\n",
       "    <tr>\n",
       "      <th>flag_RSTR</th>\n",
       "      <td>125973.0</td>\n",
       "      <td>0.0</td>\n",
       "      <td>2421.0</td>\n",
       "      <td>0.0</td>\n",
       "      <td>0.0</td>\n",
       "      <td>0.1</td>\n",
       "      <td>0.0</td>\n",
       "      <td>0.0</td>\n",
       "      <td>0.0</td>\n",
       "      <td>0.0</td>\n",
       "      <td>0.0</td>\n",
       "      <td>0.0</td>\n",
       "      <td>0.0</td>\n",
       "      <td>0.0</td>\n",
       "      <td>0.0</td>\n",
       "      <td>0.0</td>\n",
       "      <td>1.0</td>\n",
       "      <td>1.0</td>\n",
       "    </tr>\n",
       "    <tr>\n",
       "      <th>flag_S0</th>\n",
       "      <td>125973.0</td>\n",
       "      <td>0.0</td>\n",
       "      <td>34851.0</td>\n",
       "      <td>0.3</td>\n",
       "      <td>0.0</td>\n",
       "      <td>0.4</td>\n",
       "      <td>0.2</td>\n",
       "      <td>0.0</td>\n",
       "      <td>0.0</td>\n",
       "      <td>0.0</td>\n",
       "      <td>0.0</td>\n",
       "      <td>0.0</td>\n",
       "      <td>0.0</td>\n",
       "      <td>1.0</td>\n",
       "      <td>1.0</td>\n",
       "      <td>1.0</td>\n",
       "      <td>1.0</td>\n",
       "      <td>1.0</td>\n",
       "    </tr>\n",
       "    <tr>\n",
       "      <th>flag_S1</th>\n",
       "      <td>125973.0</td>\n",
       "      <td>0.0</td>\n",
       "      <td>365.0</td>\n",
       "      <td>0.0</td>\n",
       "      <td>0.0</td>\n",
       "      <td>0.1</td>\n",
       "      <td>0.0</td>\n",
       "      <td>0.0</td>\n",
       "      <td>0.0</td>\n",
       "      <td>0.0</td>\n",
       "      <td>0.0</td>\n",
       "      <td>0.0</td>\n",
       "      <td>0.0</td>\n",
       "      <td>0.0</td>\n",
       "      <td>0.0</td>\n",
       "      <td>0.0</td>\n",
       "      <td>0.0</td>\n",
       "      <td>1.0</td>\n",
       "    </tr>\n",
       "    <tr>\n",
       "      <th>flag_S2</th>\n",
       "      <td>125973.0</td>\n",
       "      <td>0.0</td>\n",
       "      <td>127.0</td>\n",
       "      <td>0.0</td>\n",
       "      <td>0.0</td>\n",
       "      <td>0.0</td>\n",
       "      <td>0.0</td>\n",
       "      <td>0.0</td>\n",
       "      <td>0.0</td>\n",
       "      <td>0.0</td>\n",
       "      <td>0.0</td>\n",
       "      <td>0.0</td>\n",
       "      <td>0.0</td>\n",
       "      <td>0.0</td>\n",
       "      <td>0.0</td>\n",
       "      <td>0.0</td>\n",
       "      <td>0.0</td>\n",
       "      <td>1.0</td>\n",
       "    </tr>\n",
       "    <tr>\n",
       "      <th>flag_S3</th>\n",
       "      <td>125973.0</td>\n",
       "      <td>0.0</td>\n",
       "      <td>49.0</td>\n",
       "      <td>0.0</td>\n",
       "      <td>0.0</td>\n",
       "      <td>0.0</td>\n",
       "      <td>0.0</td>\n",
       "      <td>0.0</td>\n",
       "      <td>0.0</td>\n",
       "      <td>0.0</td>\n",
       "      <td>0.0</td>\n",
       "      <td>0.0</td>\n",
       "      <td>0.0</td>\n",
       "      <td>0.0</td>\n",
       "      <td>0.0</td>\n",
       "      <td>0.0</td>\n",
       "      <td>0.0</td>\n",
       "      <td>1.0</td>\n",
       "    </tr>\n",
       "    <tr>\n",
       "      <th>flag_SF</th>\n",
       "      <td>125973.0</td>\n",
       "      <td>0.0</td>\n",
       "      <td>74945.0</td>\n",
       "      <td>0.6</td>\n",
       "      <td>1.0</td>\n",
       "      <td>0.5</td>\n",
       "      <td>0.2</td>\n",
       "      <td>0.0</td>\n",
       "      <td>0.0</td>\n",
       "      <td>0.0</td>\n",
       "      <td>0.0</td>\n",
       "      <td>0.0</td>\n",
       "      <td>1.0</td>\n",
       "      <td>1.0</td>\n",
       "      <td>1.0</td>\n",
       "      <td>1.0</td>\n",
       "      <td>1.0</td>\n",
       "      <td>1.0</td>\n",
       "    </tr>\n",
       "    <tr>\n",
       "      <th>flag_SH</th>\n",
       "      <td>125973.0</td>\n",
       "      <td>0.0</td>\n",
       "      <td>271.0</td>\n",
       "      <td>0.0</td>\n",
       "      <td>0.0</td>\n",
       "      <td>0.0</td>\n",
       "      <td>0.0</td>\n",
       "      <td>0.0</td>\n",
       "      <td>0.0</td>\n",
       "      <td>0.0</td>\n",
       "      <td>0.0</td>\n",
       "      <td>0.0</td>\n",
       "      <td>0.0</td>\n",
       "      <td>0.0</td>\n",
       "      <td>0.0</td>\n",
       "      <td>0.0</td>\n",
       "      <td>0.0</td>\n",
       "      <td>1.0</td>\n",
       "    </tr>\n",
       "  </tbody>\n",
       "</table>\n",
       "</div>"
      ],
      "text/plain": [
       "                                    N  NMISS          SUM    MEAN  MEDIAN  \\\n",
       "duration                     125973.0    0.0   19111663.6   151.7     0.0   \n",
       "src_bytes                    125973.0    0.0  129688967.0  1029.5    44.0   \n",
       "dst_bytes                    125973.0    0.0  169070700.0  1342.1     0.0   \n",
       "land                         125973.0    0.0         25.0     0.0     0.0   \n",
       "hot                          125973.0    0.0       6238.0     0.0     0.0   \n",
       "logged_in                    125973.0    0.0      49852.0     0.4     0.0   \n",
       "num_compromised              125973.0    0.0       1286.0     0.0     0.0   \n",
       "root_shell                   125973.0    0.0        169.0     0.0     0.0   \n",
       "su_attempted                 125973.0    0.0        139.0     0.0     0.0   \n",
       "is_host_login                125973.0    0.0          1.0     0.0     0.0   \n",
       "is_guest_login               125973.0    0.0       1187.0     0.0     0.0   \n",
       "count                        125973.0    0.0   10595294.0    84.1    14.0   \n",
       "srv_count                    125973.0    0.0    3470954.0    27.6     8.0   \n",
       "serror_rate                  125973.0    0.0      35837.4     0.3     0.0   \n",
       "srv_serror_rate              125973.0    0.0      35585.5     0.3     0.0   \n",
       "rerror_rate                  125973.0    0.0      15111.5     0.1     0.0   \n",
       "srv_rerror_rate              125973.0    0.0      15265.8     0.1     0.0   \n",
       "same_srv_rate                125973.0    0.0      83259.0     0.7     1.0   \n",
       "diff_srv_rate                125973.0    0.0       7942.9     0.1     0.0   \n",
       "srv_diff_host_rate           125973.0    0.0      12259.9     0.1     0.0   \n",
       "dst_host_count               125973.0    0.0   22945852.0   182.1   255.0   \n",
       "dst_host_srv_count           125973.0    0.0   14569159.0   115.7    63.0   \n",
       "dst_host_same_srv_rate       125973.0    0.0      65662.4     0.5     0.5   \n",
       "dst_host_diff_srv_rate       125973.0    0.0      10449.6     0.1     0.0   \n",
       "dst_host_same_src_port_rate  125973.0    0.0      18691.7     0.1     0.0   \n",
       "dst_host_srv_diff_host_rate  125973.0    0.0       3734.9     0.0     0.0   \n",
       "dst_host_serror_rate         125973.0    0.0      35833.3     0.3     0.0   \n",
       "dst_host_srv_serror_rate     125973.0    0.0      35081.5     0.3     0.0   \n",
       "dst_host_rerror_rate         125973.0    0.0      14969.6     0.1     0.0   \n",
       "dst_host_srv_rerror_rate     125973.0    0.0      15147.0     0.1     0.0   \n",
       "attack                       125973.0    0.0      58630.0     0.5     0.0   \n",
       "last_flag                    125973.0    0.0    2456985.0    19.5    20.0   \n",
       "attack_class                 125973.0    0.0      72432.0     0.6     0.0   \n",
       "protocol_type_tcp            125973.0    0.0     102689.0     0.8     1.0   \n",
       "protocol_type_udp            125973.0    0.0      14993.0     0.1     0.0   \n",
       "flag_REJ                     125973.0    0.0      11233.0     0.1     0.0   \n",
       "flag_RSTO                    125973.0    0.0       1562.0     0.0     0.0   \n",
       "flag_RSTOS0                  125973.0    0.0        103.0     0.0     0.0   \n",
       "flag_RSTR                    125973.0    0.0       2421.0     0.0     0.0   \n",
       "flag_S0                      125973.0    0.0      34851.0     0.3     0.0   \n",
       "flag_S1                      125973.0    0.0        365.0     0.0     0.0   \n",
       "flag_S2                      125973.0    0.0        127.0     0.0     0.0   \n",
       "flag_S3                      125973.0    0.0         49.0     0.0     0.0   \n",
       "flag_SF                      125973.0    0.0      74945.0     0.6     1.0   \n",
       "flag_SH                      125973.0    0.0        271.0     0.0     0.0   \n",
       "\n",
       "                                STD         VAR  MIN    P1    P5   P10   P25  \\\n",
       "duration                     1095.9   1200913.4  0.0   0.0   0.0   0.0   0.0   \n",
       "src_bytes                    6137.9  37673835.8  0.0   0.0   0.0   0.0   0.0   \n",
       "dst_bytes                    3804.3  14472652.9  0.0   0.0   0.0   0.0   0.0   \n",
       "land                            0.0         0.0  0.0   0.0   0.0   0.0   0.0   \n",
       "hot                             0.4         0.1  0.0   0.0   0.0   0.0   0.0   \n",
       "logged_in                       0.5         0.2  0.0   0.0   0.0   0.0   0.0   \n",
       "num_compromised                 0.1         0.0  0.0   0.0   0.0   0.0   0.0   \n",
       "root_shell                      0.0         0.0  0.0   0.0   0.0   0.0   0.0   \n",
       "su_attempted                    0.0         0.0  0.0   0.0   0.0   0.0   0.0   \n",
       "is_host_login                   0.0         0.0  0.0   0.0   0.0   0.0   0.0   \n",
       "is_guest_login                  0.1         0.0  0.0   0.0   0.0   0.0   0.0   \n",
       "count                         114.5     13112.2  1.0   1.0   1.0   1.0   2.0   \n",
       "srv_count                      71.4      5100.8  1.0   1.0   1.0   1.0   2.0   \n",
       "serror_rate                     0.4         0.2  0.0   0.0   0.0   0.0   0.0   \n",
       "srv_serror_rate                 0.4         0.2  0.0   0.0   0.0   0.0   0.0   \n",
       "rerror_rate                     0.3         0.1  0.0   0.0   0.0   0.0   0.0   \n",
       "srv_rerror_rate                 0.3         0.1  0.0   0.0   0.0   0.0   0.0   \n",
       "same_srv_rate                   0.4         0.2  0.0   0.0   0.0   0.0   0.1   \n",
       "diff_srv_rate                   0.2         0.0  0.0   0.0   0.0   0.0   0.0   \n",
       "srv_diff_host_rate              0.3         0.1  0.0   0.0   0.0   0.0   0.0   \n",
       "dst_host_count                 99.2      9841.9  1.0   1.0   3.0  11.0  82.0   \n",
       "dst_host_srv_count            110.7     12255.1  1.0   1.0   1.0   2.0  10.0   \n",
       "dst_host_same_srv_rate          0.4         0.2  0.0   0.0   0.0   0.0   0.0   \n",
       "dst_host_diff_srv_rate          0.2         0.0  0.0   0.0   0.0   0.0   0.0   \n",
       "dst_host_same_src_port_rate     0.3         0.1  0.0   0.0   0.0   0.0   0.0   \n",
       "dst_host_srv_diff_host_rate     0.1         0.0  0.0   0.0   0.0   0.0   0.0   \n",
       "dst_host_serror_rate            0.4         0.2  0.0   0.0   0.0   0.0   0.0   \n",
       "dst_host_srv_serror_rate        0.4         0.2  0.0   0.0   0.0   0.0   0.0   \n",
       "dst_host_rerror_rate            0.3         0.1  0.0   0.0   0.0   0.0   0.0   \n",
       "dst_host_srv_rerror_rate        0.3         0.1  0.0   0.0   0.0   0.0   0.0   \n",
       "attack                          0.5         0.2  0.0   0.0   0.0   0.0   0.0   \n",
       "last_flag                       2.3         5.3  0.0  11.0  15.0  17.0  18.0   \n",
       "attack_class                    0.7         0.5  0.0   0.0   0.0   0.0   0.0   \n",
       "protocol_type_tcp               0.4         0.2  0.0   0.0   0.0   0.0   1.0   \n",
       "protocol_type_udp               0.3         0.1  0.0   0.0   0.0   0.0   0.0   \n",
       "flag_REJ                        0.3         0.1  0.0   0.0   0.0   0.0   0.0   \n",
       "flag_RSTO                       0.1         0.0  0.0   0.0   0.0   0.0   0.0   \n",
       "flag_RSTOS0                     0.0         0.0  0.0   0.0   0.0   0.0   0.0   \n",
       "flag_RSTR                       0.1         0.0  0.0   0.0   0.0   0.0   0.0   \n",
       "flag_S0                         0.4         0.2  0.0   0.0   0.0   0.0   0.0   \n",
       "flag_S1                         0.1         0.0  0.0   0.0   0.0   0.0   0.0   \n",
       "flag_S2                         0.0         0.0  0.0   0.0   0.0   0.0   0.0   \n",
       "flag_S3                         0.0         0.0  0.0   0.0   0.0   0.0   0.0   \n",
       "flag_SF                         0.5         0.2  0.0   0.0   0.0   0.0   0.0   \n",
       "flag_SH                         0.0         0.0  0.0   0.0   0.0   0.0   0.0   \n",
       "\n",
       "                               P50    P75     P90     P95      P99      MAX  \n",
       "duration                       0.0    0.0     0.0     4.0   9590.2   9590.6  \n",
       "src_bytes                     44.0  276.0   848.0  1480.0  54540.0  54540.0  \n",
       "dst_bytes                      0.0  516.0  3375.8  8314.0  25519.0  25519.0  \n",
       "land                           0.0    0.0     0.0     0.0      0.0      1.0  \n",
       "hot                            0.0    0.0     0.0     0.0      3.0      3.0  \n",
       "logged_in                      0.0    1.0     1.0     1.0      1.0      1.0  \n",
       "num_compromised                0.0    0.0     0.0     0.0      1.0      1.0  \n",
       "root_shell                     0.0    0.0     0.0     0.0      0.0      1.0  \n",
       "su_attempted                   0.0    0.0     0.0     0.0      0.0      2.0  \n",
       "is_host_login                  0.0    0.0     0.0     0.0      0.0      1.0  \n",
       "is_guest_login                 0.0    0.0     0.0     0.0      0.0      1.0  \n",
       "count                         14.0  143.0   256.0   286.0    511.0    511.0  \n",
       "srv_count                      8.0   18.0    40.0   158.0    492.0    492.0  \n",
       "serror_rate                    0.0    1.0     1.0     1.0      1.0      1.0  \n",
       "srv_serror_rate                0.0    1.0     1.0     1.0      1.0      1.0  \n",
       "rerror_rate                    0.0    0.0     1.0     1.0      1.0      1.0  \n",
       "srv_rerror_rate                0.0    0.0     1.0     1.0      1.0      1.0  \n",
       "same_srv_rate                  1.0    1.0     1.0     1.0      1.0      1.0  \n",
       "diff_srv_rate                  0.0    0.1     0.1     0.3      1.0      1.0  \n",
       "srv_diff_host_rate             0.0    0.0     0.3     1.0      1.0      1.0  \n",
       "dst_host_count               255.0  255.0   255.0   255.0    255.0    255.0  \n",
       "dst_host_srv_count            63.0  255.0   255.0   255.0    255.0    255.0  \n",
       "dst_host_same_srv_rate         0.5    1.0     1.0     1.0      1.0      1.0  \n",
       "dst_host_diff_srv_rate         0.0    0.1     0.1     0.6      1.0      1.0  \n",
       "dst_host_same_src_port_rate    0.0    0.1     0.8     1.0      1.0      1.0  \n",
       "dst_host_srv_diff_host_rate    0.0    0.0     0.0     0.2      0.5      0.5  \n",
       "dst_host_serror_rate           0.0    1.0     1.0     1.0      1.0      1.0  \n",
       "dst_host_srv_serror_rate       0.0    1.0     1.0     1.0      1.0      1.0  \n",
       "dst_host_rerror_rate           0.0    0.0     0.8     1.0      1.0      1.0  \n",
       "dst_host_srv_rerror_rate       0.0    0.0     1.0     1.0      1.0      1.0  \n",
       "attack                         0.0    1.0     1.0     1.0      1.0      1.0  \n",
       "last_flag                     20.0   21.0    21.0    21.0     21.0     21.0  \n",
       "attack_class                   0.0    1.0     2.0     2.0      2.0      4.0  \n",
       "protocol_type_tcp              1.0    1.0     1.0     1.0      1.0      1.0  \n",
       "protocol_type_udp              0.0    0.0     1.0     1.0      1.0      1.0  \n",
       "flag_REJ                       0.0    0.0     0.0     1.0      1.0      1.0  \n",
       "flag_RSTO                      0.0    0.0     0.0     0.0      1.0      1.0  \n",
       "flag_RSTOS0                    0.0    0.0     0.0     0.0      0.0      1.0  \n",
       "flag_RSTR                      0.0    0.0     0.0     0.0      1.0      1.0  \n",
       "flag_S0                        0.0    1.0     1.0     1.0      1.0      1.0  \n",
       "flag_S1                        0.0    0.0     0.0     0.0      0.0      1.0  \n",
       "flag_S2                        0.0    0.0     0.0     0.0      0.0      1.0  \n",
       "flag_S3                        0.0    0.0     0.0     0.0      0.0      1.0  \n",
       "flag_SF                        1.0    1.0     1.0     1.0      1.0      1.0  \n",
       "flag_SH                        0.0    0.0     0.0     0.0      0.0      1.0  "
      ]
     },
     "execution_count": 36,
     "metadata": {},
     "output_type": "execute_result"
    }
   ],
   "source": [
    "train.select_dtypes(include='number').apply(continuous_summary).T.round(1)"
   ]
  },
  {
   "cell_type": "code",
   "execution_count": 37,
   "metadata": {},
   "outputs": [
    {
     "data": {
      "text/html": [
       "<div>\n",
       "<style scoped>\n",
       "    .dataframe tbody tr th:only-of-type {\n",
       "        vertical-align: middle;\n",
       "    }\n",
       "\n",
       "    .dataframe tbody tr th {\n",
       "        vertical-align: top;\n",
       "    }\n",
       "\n",
       "    .dataframe thead th {\n",
       "        text-align: right;\n",
       "    }\n",
       "</style>\n",
       "<table border=\"1\" class=\"dataframe\">\n",
       "  <thead>\n",
       "    <tr style=\"text-align: right;\">\n",
       "      <th></th>\n",
       "      <th>0</th>\n",
       "      <th>1</th>\n",
       "      <th>2</th>\n",
       "      <th>3</th>\n",
       "      <th>4</th>\n",
       "      <th>5</th>\n",
       "      <th>6</th>\n",
       "      <th>7</th>\n",
       "      <th>8</th>\n",
       "      <th>9</th>\n",
       "      <th>...</th>\n",
       "      <th>125963</th>\n",
       "      <th>125964</th>\n",
       "      <th>125965</th>\n",
       "      <th>125966</th>\n",
       "      <th>125967</th>\n",
       "      <th>125968</th>\n",
       "      <th>125969</th>\n",
       "      <th>125970</th>\n",
       "      <th>125971</th>\n",
       "      <th>125972</th>\n",
       "    </tr>\n",
       "  </thead>\n",
       "  <tbody>\n",
       "  </tbody>\n",
       "</table>\n",
       "<p>0 rows × 125973 columns</p>\n",
       "</div>"
      ],
      "text/plain": [
       "Empty DataFrame\n",
       "Columns: [0, 1, 2, 3, 4, 5, 6, 7, 8, 9, 10, 11, 12, 13, 14, 15, 16, 17, 18, 19, 20, 21, 22, 23, 24, 25, 26, 27, 28, 29, 30, 31, 32, 33, 34, 35, 36, 37, 38, 39, 40, 41, 42, 43, 44, 45, 46, 47, 48, 49, 50, 51, 52, 53, 54, 55, 56, 57, 58, 59, 60, 61, 62, 63, 64, 65, 66, 67, 68, 69, 70, 71, 72, 73, 74, 75, 76, 77, 78, 79, 80, 81, 82, 83, 84, 85, 86, 87, 88, 89, 90, 91, 92, 93, 94, 95, 96, 97, 98, 99, ...]\n",
       "Index: []\n",
       "\n",
       "[0 rows x 125973 columns]"
      ]
     },
     "execution_count": 37,
     "metadata": {},
     "output_type": "execute_result"
    }
   ],
   "source": [
    "train.select_dtypes(include='object').apply(categorical_summary).T"
   ]
  },
  {
   "cell_type": "markdown",
   "metadata": {},
   "source": [
    "### correlation"
   ]
  },
  {
   "cell_type": "code",
   "execution_count": 38,
   "metadata": {},
   "outputs": [],
   "source": [
    "correlation = train.corr()\n",
    "correlation.to_excel('correlation.xlsx')"
   ]
  },
  {
   "cell_type": "code",
   "execution_count": 39,
   "metadata": {},
   "outputs": [
    {
     "data": {
      "image/png": "[encoded data removed]",
      "text/plain": [
       "<Figure size 1080x864 with 2 Axes>"
      ]
     },
     "metadata": {
      "needs_background": "light"
     },
     "output_type": "display_data"
    }
   ],
   "source": [
    "# Plotting correlation\n",
    "plt.figure(figsize=(15, 12))\n",
    "sns.heatmap(correlation, cmap='coolwarm')\n",
    "plt.show()"
   ]
  },
  {
   "cell_type": "code",
   "execution_count": 40,
   "metadata": {
    "scrolled": true
   },
   "outputs": [
    {
     "data": {
      "text/html": [
       "<div>\n",
       "<style scoped>\n",
       "    .dataframe tbody tr th:only-of-type {\n",
       "        vertical-align: middle;\n",
       "    }\n",
       "\n",
       "    .dataframe tbody tr th {\n",
       "        vertical-align: top;\n",
       "    }\n",
       "\n",
       "    .dataframe thead th {\n",
       "        text-align: right;\n",
       "    }\n",
       "</style>\n",
       "<table border=\"1\" class=\"dataframe\">\n",
       "  <thead>\n",
       "    <tr style=\"text-align: right;\">\n",
       "      <th></th>\n",
       "      <th>duration</th>\n",
       "      <th>src_bytes</th>\n",
       "      <th>dst_bytes</th>\n",
       "      <th>land</th>\n",
       "      <th>hot</th>\n",
       "      <th>logged_in</th>\n",
       "      <th>num_compromised</th>\n",
       "      <th>root_shell</th>\n",
       "      <th>su_attempted</th>\n",
       "      <th>is_host_login</th>\n",
       "      <th>...</th>\n",
       "      <th>flag_REJ</th>\n",
       "      <th>flag_RSTO</th>\n",
       "      <th>flag_RSTOS0</th>\n",
       "      <th>flag_RSTR</th>\n",
       "      <th>flag_S0</th>\n",
       "      <th>flag_S1</th>\n",
       "      <th>flag_S2</th>\n",
       "      <th>flag_S3</th>\n",
       "      <th>flag_SF</th>\n",
       "      <th>flag_SH</th>\n",
       "    </tr>\n",
       "  </thead>\n",
       "  <tbody>\n",
       "    <tr>\n",
       "      <th>0</th>\n",
       "      <td>0.0</td>\n",
       "      <td>491</td>\n",
       "      <td>0</td>\n",
       "      <td>0</td>\n",
       "      <td>0</td>\n",
       "      <td>0</td>\n",
       "      <td>0</td>\n",
       "      <td>0</td>\n",
       "      <td>0</td>\n",
       "      <td>0</td>\n",
       "      <td>...</td>\n",
       "      <td>0</td>\n",
       "      <td>0</td>\n",
       "      <td>0</td>\n",
       "      <td>0</td>\n",
       "      <td>0</td>\n",
       "      <td>0</td>\n",
       "      <td>0</td>\n",
       "      <td>0</td>\n",
       "      <td>1</td>\n",
       "      <td>0</td>\n",
       "    </tr>\n",
       "    <tr>\n",
       "      <th>1</th>\n",
       "      <td>0.0</td>\n",
       "      <td>146</td>\n",
       "      <td>0</td>\n",
       "      <td>0</td>\n",
       "      <td>0</td>\n",
       "      <td>0</td>\n",
       "      <td>0</td>\n",
       "      <td>0</td>\n",
       "      <td>0</td>\n",
       "      <td>0</td>\n",
       "      <td>...</td>\n",
       "      <td>0</td>\n",
       "      <td>0</td>\n",
       "      <td>0</td>\n",
       "      <td>0</td>\n",
       "      <td>0</td>\n",
       "      <td>0</td>\n",
       "      <td>0</td>\n",
       "      <td>0</td>\n",
       "      <td>1</td>\n",
       "      <td>0</td>\n",
       "    </tr>\n",
       "  </tbody>\n",
       "</table>\n",
       "<p>2 rows × 45 columns</p>\n",
       "</div>"
      ],
      "text/plain": [
       "   duration  src_bytes  dst_bytes  land  hot  logged_in  num_compromised  \\\n",
       "0       0.0        491          0     0    0          0                0   \n",
       "1       0.0        146          0     0    0          0                0   \n",
       "\n",
       "   root_shell  su_attempted  is_host_login  ...  flag_REJ  flag_RSTO  \\\n",
       "0           0             0              0  ...         0          0   \n",
       "1           0             0              0  ...         0          0   \n",
       "\n",
       "   flag_RSTOS0  flag_RSTR  flag_S0  flag_S1  flag_S2  flag_S3  flag_SF  \\\n",
       "0            0          0        0        0        0        0        1   \n",
       "1            0          0        0        0        0        0        1   \n",
       "\n",
       "   flag_SH  \n",
       "0        0  \n",
       "1        0  \n",
       "\n",
       "[2 rows x 45 columns]"
      ]
     },
     "execution_count": 40,
     "metadata": {},
     "output_type": "execute_result"
    }
   ],
   "source": [
    "train.head(2)"
   ]
  },
  {
   "cell_type": "markdown",
   "metadata": {},
   "source": [
    "### Standardizing Data "
   ]
  },
  {
   "cell_type": "code",
   "execution_count": 42,
   "metadata": {},
   "outputs": [],
   "source": [
    "# all X features columns\n",
    "features = train.columns.difference(['attack', 'attack_class'])\n",
    "\n",
    "# new Standardized dataframe\n",
    "traindata = pd.DataFrame(train[['attack', 'attack_class']])\n",
    "testdata = pd.DataFrame(test[['attack', 'attack_class']])\n",
    "\n",
    "#  Standardized features\n",
    "from sklearn.preprocessing import StandardScaler\n",
    "scaler = StandardScaler()\n",
    "traindata[features] = pd.DataFrame(scaler.fit_transform(train[features]), columns = features)\n",
    "testdata[features] = pd.DataFrame(scaler.transform(test[features]), columns =features)"
   ]
  },
  {
   "cell_type": "code",
   "execution_count": 43,
   "metadata": {
    "scrolled": true
   },
   "outputs": [
    {
     "data": {
      "text/html": [
       "<div>\n",
       "<style scoped>\n",
       "    .dataframe tbody tr th:only-of-type {\n",
       "        vertical-align: middle;\n",
       "    }\n",
       "\n",
       "    .dataframe tbody tr th {\n",
       "        vertical-align: top;\n",
       "    }\n",
       "\n",
       "    .dataframe thead th {\n",
       "        text-align: right;\n",
       "    }\n",
       "</style>\n",
       "<table border=\"1\" class=\"dataframe\">\n",
       "  <thead>\n",
       "    <tr style=\"text-align: right;\">\n",
       "      <th></th>\n",
       "      <th>attack</th>\n",
       "      <th>attack_class</th>\n",
       "      <th>count</th>\n",
       "      <th>diff_srv_rate</th>\n",
       "      <th>dst_bytes</th>\n",
       "      <th>dst_host_count</th>\n",
       "      <th>dst_host_diff_srv_rate</th>\n",
       "      <th>dst_host_rerror_rate</th>\n",
       "      <th>dst_host_same_src_port_rate</th>\n",
       "      <th>dst_host_same_srv_rate</th>\n",
       "      <th>...</th>\n",
       "      <th>rerror_rate</th>\n",
       "      <th>root_shell</th>\n",
       "      <th>same_srv_rate</th>\n",
       "      <th>serror_rate</th>\n",
       "      <th>src_bytes</th>\n",
       "      <th>srv_count</th>\n",
       "      <th>srv_diff_host_rate</th>\n",
       "      <th>srv_rerror_rate</th>\n",
       "      <th>srv_serror_rate</th>\n",
       "      <th>su_attempted</th>\n",
       "    </tr>\n",
       "  </thead>\n",
       "  <tbody>\n",
       "    <tr>\n",
       "      <th>0</th>\n",
       "      <td>0</td>\n",
       "      <td>0</td>\n",
       "      <td>-0.717047</td>\n",
       "      <td>-0.349683</td>\n",
       "      <td>-0.352792</td>\n",
       "      <td>-0.324063</td>\n",
       "      <td>-0.280282</td>\n",
       "      <td>-0.224532</td>\n",
       "      <td>0.069972</td>\n",
       "      <td>-0.782367</td>\n",
       "      <td>...</td>\n",
       "      <td>-0.374362</td>\n",
       "      <td>-0.036652</td>\n",
       "      <td>0.771283</td>\n",
       "      <td>-0.637209</td>\n",
       "      <td>-0.087734</td>\n",
       "      <td>-0.357788</td>\n",
       "      <td>-0.37456</td>\n",
       "      <td>-0.374432</td>\n",
       "      <td>-0.631929</td>\n",
       "      <td>-0.024437</td>\n",
       "    </tr>\n",
       "    <tr>\n",
       "      <th>1</th>\n",
       "      <td>0</td>\n",
       "      <td>0</td>\n",
       "      <td>-0.620984</td>\n",
       "      <td>0.482201</td>\n",
       "      <td>-0.352792</td>\n",
       "      <td>0.734343</td>\n",
       "      <td>2.736852</td>\n",
       "      <td>-0.387635</td>\n",
       "      <td>2.367737</td>\n",
       "      <td>-1.161030</td>\n",
       "      <td>...</td>\n",
       "      <td>-0.374362</td>\n",
       "      <td>-0.036652</td>\n",
       "      <td>-1.321428</td>\n",
       "      <td>-0.637209</td>\n",
       "      <td>-0.143942</td>\n",
       "      <td>-0.371789</td>\n",
       "      <td>-0.37456</td>\n",
       "      <td>-0.374432</td>\n",
       "      <td>-0.631929</td>\n",
       "      <td>-0.024437</td>\n",
       "    </tr>\n",
       "  </tbody>\n",
       "</table>\n",
       "<p>2 rows × 45 columns</p>\n",
       "</div>"
      ],
      "text/plain": [
       "   attack  attack_class     count  diff_srv_rate  dst_bytes  dst_host_count  \\\n",
       "0       0             0 -0.717047      -0.349683  -0.352792       -0.324063   \n",
       "1       0             0 -0.620984       0.482201  -0.352792        0.734343   \n",
       "\n",
       "   dst_host_diff_srv_rate  dst_host_rerror_rate  dst_host_same_src_port_rate  \\\n",
       "0               -0.280282             -0.224532                     0.069972   \n",
       "1                2.736852             -0.387635                     2.367737   \n",
       "\n",
       "   dst_host_same_srv_rate  ...  rerror_rate  root_shell  same_srv_rate  \\\n",
       "0               -0.782367  ...    -0.374362   -0.036652       0.771283   \n",
       "1               -1.161030  ...    -0.374362   -0.036652      -1.321428   \n",
       "\n",
       "   serror_rate  src_bytes  srv_count  srv_diff_host_rate  srv_rerror_rate  \\\n",
       "0    -0.637209  -0.087734  -0.357788            -0.37456        -0.374432   \n",
       "1    -0.637209  -0.143942  -0.371789            -0.37456        -0.374432   \n",
       "\n",
       "   srv_serror_rate  su_attempted  \n",
       "0        -0.631929     -0.024437  \n",
       "1        -0.631929     -0.024437  \n",
       "\n",
       "[2 rows x 45 columns]"
      ]
     },
     "execution_count": 43,
     "metadata": {},
     "output_type": "execute_result"
    }
   ],
   "source": [
    "traindata.head(2)"
   ]
  },
  {
   "cell_type": "markdown",
   "metadata": {},
   "source": [
    "# Feature Selection"
   ]
  },
  {
   "cell_type": "code",
   "execution_count": 45,
   "metadata": {},
   "outputs": [],
   "source": [
    "# Separating features (X-variables) & Y(dependent) variable into 2 separate dataframe\n",
    "features = traindata[traindata.columns.difference(['attack', 'attack_class'])]\n",
    "target = traindata['attack']"
   ]
  },
  {
   "cell_type": "markdown",
   "metadata": {},
   "source": [
    "### Recursive Feature Elimination"
   ]
  },
  {
   "cell_type": "code",
   "execution_count": 46,
   "metadata": {},
   "outputs": [
    {
     "name": "stdout",
     "output_type": "stream",
     "text": [
      "['count', 'diff_srv_rate', 'dst_bytes', 'dst_host_count', 'dst_host_diff_srv_rate', 'dst_host_rerror_rate', 'dst_host_same_src_port_rate', 'dst_host_same_srv_rate', 'dst_host_serror_rate', 'dst_host_srv_count', 'dst_host_srv_diff_host_rate', 'dst_host_srv_serror_rate', 'flag_SF', 'last_flag', 'logged_in', 'protocol_type_tcp', 'protocol_type_udp', 'same_srv_rate', 'src_bytes', 'srv_count', 'srv_serror_rate']\n"
     ]
    }
   ],
   "source": [
    "from sklearn.feature_selection import RFE\n",
    "from sklearn.linear_model import LogisticRegression\n",
    "from sklearn.ensemble import RandomForestClassifier\n",
    "\n",
    "# Using RFE to get importance of each variable\n",
    "rfe = RFE(estimator = RandomForestClassifier(random_state=42))\n",
    "rfe.fit(features, target)\n",
    "\n",
    "# Getting important features\n",
    "rfe_cols = list(features.columns[rfe.support_])\n",
    "print(rfe_cols)"
   ]
  },
  {
   "cell_type": "markdown",
   "metadata": {},
   "source": [
    "###  VIF (Variance Inflation Factor): Check the multicollinieirity for all the variables in the model"
   ]
  },
  {
   "cell_type": "code",
   "execution_count": 47,
   "metadata": {
    "scrolled": true
   },
   "outputs": [
    {
     "name": "stdout",
     "output_type": "stream",
     "text": [
      "no. of combine features:  21\n",
      "['count', 'diff_srv_rate', 'dst_bytes', 'dst_host_count', 'dst_host_diff_srv_rate', 'dst_host_rerror_rate', 'dst_host_same_src_port_rate', 'dst_host_same_srv_rate', 'dst_host_serror_rate', 'dst_host_srv_count', 'dst_host_srv_diff_host_rate', 'dst_host_srv_serror_rate', 'flag_SF', 'last_flag', 'logged_in', 'protocol_type_tcp', 'protocol_type_udp', 'same_srv_rate', 'src_bytes', 'srv_count', 'srv_serror_rate']\n"
     ]
    }
   ],
   "source": [
    "# combining all important variables\n",
    "combine_feature =  rfe_cols\n",
    "combine_feature = list(set(combine_feature))\n",
    "combine_feature.sort()\n",
    "print('no. of combine features: ', len(combine_feature))\n",
    "print(combine_feature)"
   ]
  },
  {
   "cell_type": "code",
   "execution_count": 48,
   "metadata": {},
   "outputs": [
    {
     "name": "stdout",
     "output_type": "stream",
     "text": [
      "attack ~ count + diff_srv_rate + dst_bytes + dst_host_count + dst_host_diff_srv_rate + dst_host_rerror_rate + dst_host_same_src_port_rate + dst_host_same_srv_rate + dst_host_serror_rate + dst_host_srv_count + dst_host_srv_diff_host_rate + dst_host_srv_serror_rate + flag_SF + last_flag + logged_in + protocol_type_tcp + protocol_type_udp + same_srv_rate + src_bytes + srv_count + srv_serror_rate\n"
     ]
    }
   ],
   "source": [
    "# High VIF means information in that variable has already been explained by other X variables present in the model\n",
    "from statsmodels.stats.outliers_influence import variance_inflation_factor\n",
    "from patsy import dmatrices\n",
    "\n",
    "model_param = 'attack ~ ' + ' + '.join(combine_feature)\n",
    "print(model_param)"
   ]
  },
  {
   "cell_type": "code",
   "execution_count": 49,
   "metadata": {
    "scrolled": true
   },
   "outputs": [
    {
     "data": {
      "text/html": [
       "<div>\n",
       "<style scoped>\n",
       "    .dataframe tbody tr th:only-of-type {\n",
       "        vertical-align: middle;\n",
       "    }\n",
       "\n",
       "    .dataframe tbody tr th {\n",
       "        vertical-align: top;\n",
       "    }\n",
       "\n",
       "    .dataframe thead th {\n",
       "        text-align: right;\n",
       "    }\n",
       "</style>\n",
       "<table border=\"1\" class=\"dataframe\">\n",
       "  <thead>\n",
       "    <tr style=\"text-align: right;\">\n",
       "      <th></th>\n",
       "      <th>Features</th>\n",
       "      <th>VIF</th>\n",
       "    </tr>\n",
       "  </thead>\n",
       "  <tbody>\n",
       "    <tr>\n",
       "      <th>11</th>\n",
       "      <td>logged_in</td>\n",
       "      <td>3.614353</td>\n",
       "    </tr>\n",
       "    <tr>\n",
       "      <th>1</th>\n",
       "      <td>count</td>\n",
       "      <td>3.009256</td>\n",
       "    </tr>\n",
       "    <tr>\n",
       "      <th>8</th>\n",
       "      <td>dst_host_srv_count</td>\n",
       "      <td>2.949805</td>\n",
       "    </tr>\n",
       "    <tr>\n",
       "      <th>14</th>\n",
       "      <td>srv_count</td>\n",
       "      <td>2.452884</td>\n",
       "    </tr>\n",
       "    <tr>\n",
       "      <th>4</th>\n",
       "      <td>dst_host_count</td>\n",
       "      <td>1.960532</td>\n",
       "    </tr>\n",
       "  </tbody>\n",
       "</table>\n",
       "</div>"
      ],
      "text/plain": [
       "              Features       VIF\n",
       "11           logged_in  3.614353\n",
       "1                count  3.009256\n",
       "8   dst_host_srv_count  2.949805\n",
       "14           srv_count  2.452884\n",
       "4       dst_host_count  1.960532"
      ]
     },
     "execution_count": 49,
     "metadata": {},
     "output_type": "execute_result"
    }
   ],
   "source": [
    "# First taking all the vaiables and iteratively removing variable with higher VIF we got the final eqn as new_eqn\n",
    "\n",
    "#dropped: dst_host_srv_serror_rate + srv_serror_rate + flag_SF + dst_host_same_srv_rate + same_srv_rate + protocol_type_tcp + \n",
    "#dst_host_serror_rate +\n",
    "\n",
    "model_param = '''attack ~ count + diff_srv_rate + dst_bytes + dst_host_count + dst_host_diff_srv_rate + dst_host_rerror_rate + \n",
    "dst_host_same_src_port_rate + dst_host_srv_count + dst_host_srv_diff_host_rate + last_flag + logged_in + \n",
    "protocol_type_udp + src_bytes + srv_count'''\n",
    "\n",
    "# separate the Y and X variables\n",
    "y, X = dmatrices(model_param, data = traindata, return_type = 'dataframe')\n",
    "\n",
    "# For each X, calculate VIF and save in dataframe\n",
    "vif = pd.DataFrame()\n",
    "vif['Features'] = X.columns\n",
    "vif['VIF'] = [variance_inflation_factor(X.values, i) for i in range(X.shape[1])]\n",
    "\n",
    "# display the output\n",
    "vif.sort_values('VIF', ascending=False, inplace=True)\n",
    "vif.head()"
   ]
  },
  {
   "cell_type": "code",
   "execution_count": 50,
   "metadata": {
    "scrolled": false
   },
   "outputs": [
    {
     "name": "stdout",
     "output_type": "stream",
     "text": [
      "numbers of selected features:  14\n",
      "['count', 'diff_srv_rate', 'dst_bytes', 'dst_host_count', 'dst_host_diff_srv_rate', 'dst_host_rerror_rate', 'dst_host_same_src_port_rate', 'dst_host_srv_count', 'dst_host_srv_diff_host_rate', 'last_flag', 'logged_in', 'protocol_type_udp', 'src_bytes', 'srv_count']\n"
     ]
    }
   ],
   "source": [
    "# All the features have less than 4 VIF Factor(low Multicollinearity). using these features for model building.\n",
    "vif_cols = list(set(vif.Features).difference(['Intercept']))\n",
    "vif_cols.sort()\n",
    "print('numbers of selected features: ', len(vif_cols))\n",
    "print(vif_cols)"
   ]
  },
  {
   "cell_type": "markdown",
   "metadata": {},
   "source": [
    "### Building logistic Regression Model"
   ]
  },
  {
   "cell_type": "code",
   "execution_count": 51,
   "metadata": {
    "scrolled": false
   },
   "outputs": [
    {
     "name": "stdout",
     "output_type": "stream",
     "text": [
      "attack ~ count + diff_srv_rate + dst_bytes + dst_host_count + dst_host_diff_srv_rate + dst_host_rerror_rate + dst_host_same_src_port_rate + dst_host_srv_count + dst_host_srv_diff_host_rate + last_flag + logged_in + protocol_type_udp + src_bytes + srv_count\n"
     ]
    }
   ],
   "source": [
    "# get the model equation\n",
    "formula_m1 = 'attack ~ ' + ' + '.join(vif_cols)\n",
    "print(formula_m1)"
   ]
  },
  {
   "cell_type": "code",
   "execution_count": 52,
   "metadata": {},
   "outputs": [
    {
     "name": "stdout",
     "output_type": "stream",
     "text": [
      "Optimization terminated successfully.\n",
      "         Current function value: 0.098645\n",
      "         Iterations 11\n",
      "                               Results: Logit\n",
      "============================================================================\n",
      "Model:                   Logit               Pseudo R-squared:    0.857     \n",
      "Dependent Variable:      attack              AIC:                 24883.2200\n",
      "Date:                    2021-11-15 21:02    BIC:                 25029.3773\n",
      "No. Observations:        125973              Log-Likelihood:      -12427.   \n",
      "Df Model:                14                  LL-Null:             -87016.   \n",
      "Df Residuals:            125958              LLR p-value:         0.0000    \n",
      "Converged:               1.0000              Scale:               1.0000    \n",
      "No. Iterations:          11.0000                                            \n",
      "----------------------------------------------------------------------------\n",
      "                             Coef.  Std.Err.    z     P>|z|   [0.025  0.975]\n",
      "----------------------------------------------------------------------------\n",
      "Intercept                   -0.1992   0.0583  -3.4197 0.0006 -0.3134 -0.0850\n",
      "count                        5.9330   0.1079  54.9925 0.0000  5.7215  6.1444\n",
      "diff_srv_rate               -0.0671   0.0137  -4.8846 0.0000 -0.0940 -0.0402\n",
      "dst_bytes                   -0.0731   0.0302  -2.4253 0.0153 -0.1322 -0.0140\n",
      "dst_host_count               1.2320   0.0275  44.7401 0.0000  1.1781  1.2860\n",
      "dst_host_diff_srv_rate       0.1328   0.0189   7.0421 0.0000  0.0958  0.1697\n",
      "dst_host_rerror_rate         0.2440   0.0223  10.9529 0.0000  0.2003  0.2876\n",
      "dst_host_same_src_port_rate  0.6154   0.0161  38.2678 0.0000  0.5839  0.6469\n",
      "dst_host_srv_count          -0.8589   0.0294 -29.1650 0.0000 -0.9166 -0.8012\n",
      "dst_host_srv_diff_host_rate  0.6620   0.0180  36.6833 0.0000  0.6266  0.6974\n",
      "last_flag                   -1.7206   0.0204 -84.4012 0.0000 -1.7606 -1.6807\n",
      "logged_in                   -2.2695   0.0363 -62.5722 0.0000 -2.3406 -2.1984\n",
      "protocol_type_udp           -0.9435   0.0162 -58.1998 0.0000 -0.9753 -0.9118\n",
      "src_bytes                    0.3609   0.0116  31.0201 0.0000  0.3381  0.3837\n",
      "srv_count                   -3.4332   0.0692 -49.5863 0.0000 -3.5689 -3.2975\n",
      "============================================================================\n",
      "\n"
     ]
    }
   ],
   "source": [
    "# the model equation after dropping features with higher pvalue\n",
    "import statsmodels.formula.api as smf\n",
    "\n",
    "formula_m1 = '''attack ~ count + diff_srv_rate + dst_bytes + dst_host_count + dst_host_diff_srv_rate + dst_host_rerror_rate + \n",
    "dst_host_same_src_port_rate + dst_host_srv_count + dst_host_srv_diff_host_rate + last_flag + logged_in + protocol_type_udp + \n",
    "src_bytes + srv_count'''\n",
    "\n",
    "# execute a model for the X variables\n",
    "model1 = smf.logit( formula = formula_m1, data = traindata ).fit() \n",
    "\n",
    "# print the model summary stats \n",
    "print(model1.summary2())"
   ]
  },
  {
   "cell_type": "code",
   "execution_count": 53,
   "metadata": {},
   "outputs": [
    {
     "name": "stdout",
     "output_type": "stream",
     "text": [
      "length of final features: 14\n",
      "['count', 'diff_srv_rate', 'dst_bytes', 'dst_host_count', 'dst_host_diff_srv_rate', 'dst_host_rerror_rate', 'dst_host_same_src_port_rate', 'dst_host_srv_count', 'dst_host_srv_diff_host_rate', 'last_flag', 'logged_in', 'protocol_type_udp', 'src_bytes', 'srv_count']\n"
     ]
    }
   ],
   "source": [
    "final_features = list(model1.pvalues.index.difference(['Intercept']))\n",
    "print('length of final features:', len(final_features))\n",
    "print(final_features)"
   ]
  },
  {
   "cell_type": "code",
   "execution_count": 54,
   "metadata": {},
   "outputs": [
    {
     "data": {
      "text/html": [
       "<div>\n",
       "<style scoped>\n",
       "    .dataframe tbody tr th:only-of-type {\n",
       "        vertical-align: middle;\n",
       "    }\n",
       "\n",
       "    .dataframe tbody tr th {\n",
       "        vertical-align: top;\n",
       "    }\n",
       "\n",
       "    .dataframe thead th {\n",
       "        text-align: right;\n",
       "    }\n",
       "</style>\n",
       "<table border=\"1\" class=\"dataframe\">\n",
       "  <thead>\n",
       "    <tr style=\"text-align: right;\">\n",
       "      <th></th>\n",
       "      <th>attack</th>\n",
       "      <th>predict_proba</th>\n",
       "    </tr>\n",
       "  </thead>\n",
       "  <tbody>\n",
       "    <tr>\n",
       "      <th>0</th>\n",
       "      <td>0</td>\n",
       "      <td>0.205255</td>\n",
       "    </tr>\n",
       "    <tr>\n",
       "      <th>1</th>\n",
       "      <td>0</td>\n",
       "      <td>0.964209</td>\n",
       "    </tr>\n",
       "    <tr>\n",
       "      <th>2</th>\n",
       "      <td>1</td>\n",
       "      <td>0.998258</td>\n",
       "    </tr>\n",
       "    <tr>\n",
       "      <th>3</th>\n",
       "      <td>0</td>\n",
       "      <td>0.000036</td>\n",
       "    </tr>\n",
       "    <tr>\n",
       "      <th>4</th>\n",
       "      <td>0</td>\n",
       "      <td>0.000480</td>\n",
       "    </tr>\n",
       "  </tbody>\n",
       "</table>\n",
       "</div>"
      ],
      "text/plain": [
       "   attack  predict_proba\n",
       "0       0       0.205255\n",
       "1       0       0.964209\n",
       "2       1       0.998258\n",
       "3       0       0.000036\n",
       "4       0       0.000480"
      ]
     },
     "execution_count": 54,
     "metadata": {},
     "output_type": "execute_result"
    }
   ],
   "source": [
    "trainout = pd.DataFrame(traindata['attack'])\n",
    "trainout['predict_proba'] = model1.predict(traindata[final_features])\n",
    "trainout.head()"
   ]
  },
  {
   "cell_type": "code",
   "execution_count": 55,
   "metadata": {},
   "outputs": [
    {
     "data": {
      "image/png": "[encoded data removed]",
      "text/plain": [
       "<Figure size 432x288 with 1 Axes>"
      ]
     },
     "metadata": {
      "needs_background": "light"
     },
     "output_type": "display_data"
    }
   ],
   "source": [
    "sns.distplot( trainout.loc[ trainout.attack == 1 , 'predict_proba'], color = 'b' )\n",
    "sns.distplot( trainout.loc[ trainout.attack == 0 , 'predict_proba'], color = 'r' )\n",
    "plt.show()"
   ]
  },
  {
   "cell_type": "code",
   "execution_count": 56,
   "metadata": {
    "scrolled": true
   },
   "outputs": [
    {
     "data": {
      "text/plain": [
       "0    0.295\n",
       "Name: Cutoff, dtype: float64"
      ]
     },
     "execution_count": 56,
     "metadata": {},
     "output_type": "execute_result"
    }
   ],
   "source": [
    "# declare empty dataframe\n",
    "cm_scores = pd.DataFrame()\n",
    "\n",
    "for iCutoff in np.arange(0, 1, 0.005):\n",
    "    \n",
    "    # do the predictions at the cutoff\n",
    "    y_predict = np.where( trainout.predict_proba >= iCutoff, 1, 0 )\n",
    "    \n",
    "    # create the confusion matrix with predicted y\n",
    "    cm = metrics.confusion_matrix( trainout.attack, y_predict )[::-1, ::-1]\n",
    "    \n",
    "    # get the sentivity + specificity at the cutoff\n",
    "    Total = cm[0, 0]/cm.sum(axis = 1)[0] + cm[1, 1]/cm.sum(axis = 1)[1]\n",
    "    \n",
    "    # append the data row wise in the dataframe\n",
    "    cm_scores = pd.concat( [cm_scores, pd.DataFrame([iCutoff, Total]).T ], axis = 0 )\n",
    "    \n",
    "cm_scores.columns = ['Cutoff', 'Score']\n",
    "cm_scores.loc[ cm_scores.Score == cm_scores.Score.max(), 'Cutoff']"
   ]
  },
  {
   "cell_type": "markdown",
   "metadata": {},
   "source": [
    "**taking 0.295 as cutoff**"
   ]
  },
  {
   "cell_type": "code",
   "execution_count": 57,
   "metadata": {},
   "outputs": [],
   "source": [
    "lr_train_pred = model1.predict(traindata[final_features]).map(lambda x: 1 if x >= 0.295 else 0 )\n",
    "lr_test_pred = model1.predict(testdata[final_features]).map(lambda x: 1 if x >= 0.295 else 0 )"
   ]
  },
  {
   "cell_type": "code",
   "execution_count": 58,
   "metadata": {},
   "outputs": [
    {
     "name": "stdout",
     "output_type": "stream",
     "text": [
      "The overall accuracy score for the Train Data is :  0.9680328324323466\n",
      "The overall accuracy score for the Test Data  is :  0.902235628105039\n"
     ]
    }
   ],
   "source": [
    "print(\"The overall accuracy score for the Train Data is : \", accuracy_score(traindata['attack'], lr_train_pred))\n",
    "print(\"The overall accuracy score for the Test Data  is : \", accuracy_score(testdata['attack'], lr_test_pred))"
   ]
  },
  {
   "cell_type": "code",
   "execution_count": 59,
   "metadata": {
    "scrolled": true
   },
   "outputs": [
    {
     "name": "stdout",
     "output_type": "stream",
     "text": [
      "ROC AUC score of train data: 0.969628580189404\n",
      "ROC AUC score of test data: 0.9018522063927406\n"
     ]
    }
   ],
   "source": [
    "print('ROC AUC score of train data:', roc_auc_score(traindata['attack'], lr_train_pred))\n",
    "print('ROC AUC score of test data:', roc_auc_score(testdata['attack'], lr_test_pred))"
   ]
  },
  {
   "cell_type": "code",
   "execution_count": 60,
   "metadata": {
    "scrolled": true
   },
   "outputs": [
    {
     "name": "stdout",
     "output_type": "stream",
     "text": [
      "              precision    recall  f1-score   support\n",
      "\n",
      "           0       0.99      0.95      0.97     67343\n",
      "           1       0.94      0.99      0.97     58630\n",
      "\n",
      "    accuracy                           0.97    125973\n",
      "   macro avg       0.97      0.97      0.97    125973\n",
      "weighted avg       0.97      0.97      0.97    125973\n",
      "\n"
     ]
    }
   ],
   "source": [
    "# Getting classification metrics scores for training dataset\n",
    "print(metrics.classification_report(traindata['attack'], lr_train_pred))"
   ]
  },
  {
   "cell_type": "code",
   "execution_count": 61,
   "metadata": {
    "scrolled": true
   },
   "outputs": [
    {
     "name": "stdout",
     "output_type": "stream",
     "text": [
      "              precision    recall  f1-score   support\n",
      "\n",
      "           0       0.88      0.90      0.89      9711\n",
      "           1       0.92      0.90      0.91     12833\n",
      "\n",
      "    accuracy                           0.90     22544\n",
      "   macro avg       0.90      0.90      0.90     22544\n",
      "weighted avg       0.90      0.90      0.90     22544\n",
      "\n"
     ]
    }
   ],
   "source": [
    "# Getting classification metrics scores for testing dataset\n",
    "print(metrics.classification_report(testdata['attack'], lr_test_pred))"
   ]
  },
  {
   "cell_type": "code",
   "execution_count": 62,
   "metadata": {
    "scrolled": false
   },
   "outputs": [
    {
     "data": {
      "image/png": "[encoded data removed]",
      "text/plain": [
       "<Figure size 432x288 with 2 Axes>"
      ]
     },
     "metadata": {
      "needs_background": "light"
     },
     "output_type": "display_data"
    }
   ],
   "source": [
    "# confusion matrix of training dataset\n",
    "confusion_matrix = metrics.confusion_matrix(traindata['attack'], lr_train_pred)\n",
    "sns.heatmap(confusion_matrix, annot = True, fmt = '.2f', \n",
    "            xticklabels = ['Normal', 'Attack'], \n",
    "            yticklabels = ['Normal', 'Attack'])\n",
    "plt.xlabel('Predicted Label')\n",
    "plt.ylabel('Actual Label')\n",
    "plt.show()"
   ]
  },
  {
   "cell_type": "code",
   "execution_count": 63,
   "metadata": {
    "scrolled": true
   },
   "outputs": [
    {
     "data": {
      "image/png": "[encoded data removed]",
      "text/plain": [
       "<Figure size 432x288 with 2 Axes>"
      ]
     },
     "metadata": {
      "needs_background": "light"
     },
     "output_type": "display_data"
    }
   ],
   "source": [
    "# confusion matrix of testing dataset\n",
    "confusion_matrix = metrics.confusion_matrix(testdata['attack'], lr_test_pred)\n",
    "sns.heatmap(confusion_matrix, annot = True, fmt = '.2f', \n",
    "            xticklabels = ['Normal', 'Attack'], \n",
    "            yticklabels = ['Normal', 'Attack'])\n",
    "plt.xlabel('Predicted Label')\n",
    "plt.ylabel('Actual Label')\n",
    "plt.show()"
   ]
  },
  {
   "cell_type": "code",
   "execution_count": 64,
   "metadata": {},
   "outputs": [],
   "source": [
    "trainout = train[final_features]\n",
    "trainout = train[['attack','attack_class']]\n",
    "\n",
    "testout = test[final_features]\n",
    "testout = test[['attack','attack_class']]"
   ]
  },
  {
   "cell_type": "code",
   "execution_count": 100,
   "metadata": {},
   "outputs": [],
   "source": [
    "trainout['lr_attack'] = model1.predict(traindata[final_features]).map(lambda x: 1 if x >= 0.295 else 0 )\n",
    "testout['lr_attack'] = model1.predict(testdata[final_features]).map(lambda x: 1 if x >= 0.295 else 0 )"
   ]
  },
  {
   "cell_type": "markdown",
   "metadata": {},
   "source": [
    "# MODELS"
   ]
  },
  {
   "cell_type": "code",
   "execution_count": 66,
   "metadata": {},
   "outputs": [],
   "source": [
    "final_features = ['count', 'diff_srv_rate', 'dst_bytes', 'dst_host_count', 'dst_host_diff_srv_rate', 'dst_host_rerror_rate', \n",
    "                  'dst_host_same_src_port_rate', 'dst_host_srv_count', 'dst_host_srv_diff_host_rate', 'last_flag', 'logged_in', \n",
    "                  'protocol_type_udp', 'src_bytes', 'srv_count']"
   ]
  },
  {
   "cell_type": "code",
   "execution_count": 67,
   "metadata": {},
   "outputs": [],
   "source": [
    "train_x, test_x, train_y, test_y = train_test_split(traindata[final_features], traindata['attack'], \n",
    "                                                    test_size = 0.3, \n",
    "                                                    random_state = 42)"
   ]
  },
  {
   "cell_type": "code",
   "execution_count": 68,
   "metadata": {},
   "outputs": [],
   "source": [
    "# Writing output data into excel\n",
    "output = pd.ExcelWriter('Network_Intrusion_output.xlsx')"
   ]
  },
  {
   "cell_type": "code",
   "execution_count": 69,
   "metadata": {},
   "outputs": [],
   "source": [
    "from sklearn.linear_model import LogisticRegression\n",
    "from sklearn.ensemble import RandomForestClassifier\n",
    "from sklearn.tree import DecisionTreeClassifier\n",
    "from sklearn.ensemble import AdaBoostClassifier\n",
    "from sklearn.tree import ExtraTreeClassifier\n",
    "from sklearn.ensemble import GradientBoostingClassifier\n",
    "from xgboost import XGBRFClassifier\n",
    "from sklearn import svm\n",
    "\n",
    "from sklearn.naive_bayes import GaussianNB\n",
    "from sklearn.neighbors import KNeighborsClassifier\n",
    "from xgboost import XGBClassifier\n",
    "from sklearn.neural_network import MLPClassifier\n",
    "from sklearn.multiclass import OneVsRestClassifier"
   ]
  },
  {
   "cell_type": "code",
   "execution_count": 71,
   "metadata": {},
   "outputs": [],
   "source": [
    "# Different models\n",
    "models = []\n",
    "models.append(('LR', LogisticRegression()))\n",
    "models.append(('RFC', RandomForestClassifier()))\n",
    "models.append(('CART', DecisionTreeClassifier()))\n",
    "models.append(('ADABC', AdaBoostClassifier()))\n",
    "models.append(('ETC', ExtraTreeClassifier()))\n",
    "models.append(('GBC', GradientBoostingClassifier()))\n",
    "models.append(('XGBC', XGBRFClassifier()))"
   ]
  },
  {
   "cell_type": "code",
   "execution_count": 72,
   "metadata": {},
   "outputs": [
    {
     "name": "stdout",
     "output_type": "stream",
     "text": [
      "LR: 0.993656 (0.000115)\n",
      "RFC: 0.999995 (0.000002)\n",
      "CART: 0.997398 (0.000272)\n",
      "ADABC: 0.999034 (0.000156)\n",
      "ETC: 0.995828 (0.000431)\n",
      "GBC: 0.999914 (0.000033)\n",
      "XGBC: 0.999822 (0.000021)\n"
     ]
    }
   ],
   "source": [
    "# evaluate each model in turn\n",
    "names = []\n",
    "results = []\n",
    "\n",
    "for name, model in models:\n",
    "    kfold = StratifiedKFold(n_splits=5, random_state=42, shuffle=True)\n",
    "    cv_results = cross_val_score(model, train_x, train_y, cv=kfold, scoring='roc_auc', n_jobs=-1) \n",
    "    names.append(name)\n",
    "    results.append(cv_results)\n",
    "    print('%s: %f (%f)' % (name, cv_results.mean(), cv_results.std()))"
   ]
  },
  {
   "cell_type": "code",
   "execution_count": 73,
   "metadata": {
    "scrolled": true
   },
   "outputs": [
    {
     "data": {
      "image/png": "[encoded data removed]",
      "text/plain": [
       "<Figure size 432x288 with 1 Axes>"
      ]
     },
     "metadata": {
      "needs_background": "light"
     },
     "output_type": "display_data"
    }
   ],
   "source": [
    "# Compare Algorithms\n",
    "plt.boxplot(results, labels=names)\n",
    "plt.title('Algorithm Comparison')\n",
    "plt.show()"
   ]
  },
  {
   "cell_type": "code",
   "execution_count": 74,
   "metadata": {},
   "outputs": [
    {
     "data": {
      "text/html": [
       "<div>\n",
       "<style scoped>\n",
       "    .dataframe tbody tr th:only-of-type {\n",
       "        vertical-align: middle;\n",
       "    }\n",
       "\n",
       "    .dataframe tbody tr th {\n",
       "        vertical-align: top;\n",
       "    }\n",
       "\n",
       "    .dataframe thead th {\n",
       "        text-align: right;\n",
       "    }\n",
       "</style>\n",
       "<table border=\"1\" class=\"dataframe\">\n",
       "  <thead>\n",
       "    <tr style=\"text-align: right;\">\n",
       "      <th></th>\n",
       "      <th>Model</th>\n",
       "      <th>Score</th>\n",
       "    </tr>\n",
       "  </thead>\n",
       "  <tbody>\n",
       "    <tr>\n",
       "      <th>0</th>\n",
       "      <td>RFC</td>\n",
       "      <td>99.9995</td>\n",
       "    </tr>\n",
       "    <tr>\n",
       "      <th>1</th>\n",
       "      <td>GBC</td>\n",
       "      <td>99.9914</td>\n",
       "    </tr>\n",
       "    <tr>\n",
       "      <th>2</th>\n",
       "      <td>XGBC</td>\n",
       "      <td>99.9822</td>\n",
       "    </tr>\n",
       "    <tr>\n",
       "      <th>3</th>\n",
       "      <td>ADABC</td>\n",
       "      <td>99.9034</td>\n",
       "    </tr>\n",
       "    <tr>\n",
       "      <th>4</th>\n",
       "      <td>CART</td>\n",
       "      <td>99.7398</td>\n",
       "    </tr>\n",
       "    <tr>\n",
       "      <th>5</th>\n",
       "      <td>ETC</td>\n",
       "      <td>99.5828</td>\n",
       "    </tr>\n",
       "    <tr>\n",
       "      <th>6</th>\n",
       "      <td>LR</td>\n",
       "      <td>99.3656</td>\n",
       "    </tr>\n",
       "  </tbody>\n",
       "</table>\n",
       "</div>"
      ],
      "text/plain": [
       "   Model    Score\n",
       "0    RFC  99.9995\n",
       "1    GBC  99.9914\n",
       "2   XGBC  99.9822\n",
       "3  ADABC  99.9034\n",
       "4   CART  99.7398\n",
       "5    ETC  99.5828\n",
       "6     LR  99.3656"
      ]
     },
     "execution_count": 74,
     "metadata": {},
     "output_type": "execute_result"
    }
   ],
   "source": [
    "models_df = pd.DataFrame({'Model': names, 'Score': [round(r.mean()*100,4) for r in results]})\n",
    "models_df.sort_values(by='Score', ascending=False, inplace=True, ignore_index=True)\n",
    "models_df"
   ]
  },
  {
   "cell_type": "markdown",
   "metadata": {},
   "source": [
    "# model"
   ]
  },
  {
   "cell_type": "code",
   "execution_count": 83,
   "metadata": {
    "scrolled": true
   },
   "outputs": [
    {
     "name": "stdout",
     "output_type": "stream",
     "text": [
      "Fitting 5 folds for each of 9 candidates, totalling 45 fits\n"
     ]
    },
    {
     "name": "stderr",
     "output_type": "stream",
     "text": [
      "[Parallel(n_jobs=-1)]: Using backend LokyBackend with 4 concurrent workers.\n",
      "[Parallel(n_jobs=-1)]: Done  10 tasks      | elapsed: 11.3min\n",
      "[Parallel(n_jobs=-1)]: Done  45 out of  45 | elapsed: 41.9min finished\n"
     ]
    }
   ],
   "source": [
    "param = {'n_estimators' : [400,500,600],\n",
    "         'max_depth' : [20,30,40]\n",
    "        }\n",
    "gscv_rf = GridSearchCV(estimator = RandomForestClassifier(random_state=42), \n",
    "                     param_grid= param,\n",
    "                     scoring = 'roc_auc',\n",
    "                     cv = 10,\n",
    "                     n_jobs = -1,\n",
    "                     verbose=5).fit(train_x, train_y)"
   ]
  },
  {
   "cell_type": "code",
   "execution_count": 84,
   "metadata": {
    "scrolled": false
   },
   "outputs": [
    {
     "data": {
      "text/plain": [
       "RandomForestClassifier(max_depth=30, n_estimators=500, random_state=42)"
      ]
     },
     "execution_count": 84,
     "metadata": {},
     "output_type": "execute_result"
    }
   ],
   "source": [
    "gscv_rf.best_estimator_"
   ]
  },
  {
   "cell_type": "code",
   "execution_count": 85,
   "metadata": {
    "scrolled": false
   },
   "outputs": [
    {
     "data": {
      "text/plain": [
       "0.9999954083410143"
      ]
     },
     "execution_count": 85,
     "metadata": {},
     "output_type": "execute_result"
    }
   ],
   "source": [
    "gscv_rf.best_score_"
   ]
  },
  {
   "cell_type": "code",
   "execution_count": 86,
   "metadata": {},
   "outputs": [
    {
     "name": "stdout",
     "output_type": "stream",
     "text": [
      "Log Loss train:  0.0013849214032726155\n",
      "Log Loss test:  0.004374522826254269\n"
     ]
    }
   ],
   "source": [
    "rf = gscv_rf.best_estimator_\n",
    "rf.fit(train_x, train_y)\n",
    "\n",
    "# Making prediction on train and test data\n",
    "rf_train_pred = rf.predict(train_x)\n",
    "rf_test_pred = rf.predict(test_x)\n",
    "\n",
    "# Calculating log loss\n",
    "print(\"Log Loss train: \", metrics.log_loss(train_y, rf.predict_proba(train_x)))\n",
    "print(\"Log Loss test: \", metrics.log_loss(test_y, rf.predict_proba(test_x)))"
   ]
  },
  {
   "cell_type": "code",
   "execution_count": 87,
   "metadata": {
    "scrolled": true
   },
   "outputs": [
    {
     "name": "stdout",
     "output_type": "stream",
     "text": [
      "Model Performance\n",
      "Train Dataset\n",
      "Accuracy :  1.0\n",
      "AUC      :  1.0\n",
      "\n",
      "Test Dataset\n",
      "Accuracy :  0.999126799322608\n",
      "AUC      :  0.9991149961045814\n"
     ]
    }
   ],
   "source": [
    "print(\"Model Performance\")\n",
    "print(\"Train Dataset\")\n",
    "print(\"Accuracy : \", metrics.accuracy_score(train_y, rf_train_pred))\n",
    "print(\"AUC      : \", metrics.roc_auc_score(train_y, rf_train_pred))\n",
    "print(\"\")\n",
    "print(\"Test Dataset\")\n",
    "acc_rf = metrics.accuracy_score(test_y, rf_test_pred)\n",
    "print(\"Accuracy : \", metrics.accuracy_score(test_y, rf_test_pred))\n",
    "print(\"AUC      : \", metrics.roc_auc_score(test_y, rf_test_pred))"
   ]
  },
  {
   "cell_type": "code",
   "execution_count": 90,
   "metadata": {
    "scrolled": false
   },
   "outputs": [
    {
     "name": "stdout",
     "output_type": "stream",
     "text": [
      "              precision    recall  f1-score   support\n",
      "\n",
      "           0       1.00      1.00      1.00     20083\n",
      "           1       1.00      1.00      1.00     17709\n",
      "\n",
      "    accuracy                           1.00     37792\n",
      "   macro avg       1.00      1.00      1.00     37792\n",
      "weighted avg       1.00      1.00      1.00     37792\n",
      "\n"
     ]
    }
   ],
   "source": [
    "# Getting classification metrics scores\n",
    "print(metrics.classification_report(test_y, rf_test_pred))"
   ]
  },
  {
   "cell_type": "code",
   "execution_count": 91,
   "metadata": {
    "scrolled": true
   },
   "outputs": [
    {
     "data": {
      "image/png": "[encoded data removed]",
      "text/plain": [
       "<Figure size 432x288 with 2 Axes>"
      ]
     },
     "metadata": {
      "needs_background": "light"
     },
     "output_type": "display_data"
    }
   ],
   "source": [
    "# confusion matrix for testing data\n",
    "confusion_matrix = metrics.confusion_matrix(test_y, rf_test_pred, labels = [0,1])\n",
    "sns.heatmap(confusion_matrix, annot = True, fmt = '.2f', \n",
    "            xticklabels = ['Normal', 'Attack'], \n",
    "            yticklabels = ['Normal', 'Attack'])\n",
    "plt.xlabel('Predicted Label')\n",
    "plt.ylabel('Actual Label')\n",
    "plt.show()"
   ]
  },
  {
   "cell_type": "code",
   "execution_count": 92,
   "metadata": {},
   "outputs": [
    {
     "data": {
      "image/png": "[encoded data removed]",
      "text/plain": [
       "<Figure size 720x360 with 1 Axes>"
      ]
     },
     "metadata": {
      "needs_background": "light"
     },
     "output_type": "display_data"
    }
   ],
   "source": [
    "# Feature Impotance \n",
    "rf_fi = pd.DataFrame({'Features' : train_x.columns ,\n",
    "                      'Importance' : rf.feature_importances_\n",
    "                     }).sort_values(by = 'Importance').reset_index(drop = True)\n",
    "\n",
    "rf_fi.to_excel(output, 'Drivers_Binomial', startrow=2, startcol=1, index = False)\n",
    "plt.figure(figsize=(10,5))\n",
    "plt.barh(width = rf_fi.Importance, y = rf_fi.Features)\n",
    "plt.show()"
   ]
  },
  {
   "cell_type": "markdown",
   "metadata": {},
   "source": [
    "#### Evaluating model on test dataset"
   ]
  },
  {
   "cell_type": "code",
   "execution_count": 93,
   "metadata": {},
   "outputs": [],
   "source": [
    "rf_testfinal_pred = rf.predict(testdata[final_features])"
   ]
  },
  {
   "cell_type": "code",
   "execution_count": 94,
   "metadata": {
    "scrolled": false
   },
   "outputs": [
    {
     "name": "stdout",
     "output_type": "stream",
     "text": [
      "              precision    recall  f1-score   support\n",
      "\n",
      "           0       0.70      0.97      0.82      9711\n",
      "           1       0.97      0.69      0.81     12833\n",
      "\n",
      "    accuracy                           0.81     22544\n",
      "   macro avg       0.84      0.83      0.81     22544\n",
      "weighted avg       0.86      0.81      0.81     22544\n",
      "\n"
     ]
    }
   ],
   "source": [
    "# Getting classification metrics scores\n",
    "print(metrics.classification_report(testdata['attack'], rf_testfinal_pred))"
   ]
  },
  {
   "cell_type": "code",
   "execution_count": 95,
   "metadata": {
    "scrolled": false
   },
   "outputs": [
    {
     "data": {
      "image/png": "[encoded data removed]",
      "text/plain": [
       "<Figure size 432x288 with 2 Axes>"
      ]
     },
     "metadata": {
      "needs_background": "light"
     },
     "output_type": "display_data"
    }
   ],
   "source": [
    "# confusion matrix for testing data\n",
    "confusion_matrix = metrics.confusion_matrix(testdata['attack'], rf_testfinal_pred, labels = [0,1])\n",
    "sns.heatmap(confusion_matrix, annot = True, fmt = '.2f', \n",
    "            xticklabels = ['Normal', 'Attack'], \n",
    "            yticklabels = ['Normal', 'Attack'])\n",
    "plt.xlabel('Predicted Label')\n",
    "plt.ylabel('Actual Label')\n",
    "plt.show()"
   ]
  },
  {
   "cell_type": "code",
   "execution_count": 98,
   "metadata": {},
   "outputs": [],
   "source": [
    "trainout['rf_attack'] = rf.predict(traindata[final_features])\n",
    "testout['rf_attack'] = rf.predict(testdata[final_features])"
   ]
  },
  {
   "cell_type": "markdown",
   "metadata": {},
   "source": [
    "# Predictive Model \n",
    "## Multinomial Classification\n",
    "### Attack type prediction\n",
    "\n"
   ]
  },
  {
   "cell_type": "markdown",
   "metadata": {},
   "source": [
    "#### Getting Train and Test Datasets"
   ]
  },
  {
   "cell_type": "code",
   "execution_count": 101,
   "metadata": {},
   "outputs": [],
   "source": [
    "from imblearn.over_sampling import RandomOverSampler\n",
    "from imblearn.under_sampling import RandomUnderSampler\n",
    "from collections import Counter\n",
    "from sklearn.preprocessing import Normalizer, StandardScaler, LabelEncoder"
   ]
  },
  {
   "cell_type": "code",
   "execution_count": 102,
   "metadata": {},
   "outputs": [],
   "source": [
    "train_x, test_x, train_y, test_y = train_test_split(traindata[final_features], traindata['attack_class'], \n",
    "                                                    test_size = 0.3, \n",
    "                                                    random_state = 42)"
   ]
  },
  {
   "cell_type": "markdown",
   "metadata": {},
   "source": [
    "#### Data Sampling"
   ]
  },
  {
   "cell_type": "code",
   "execution_count": 103,
   "metadata": {},
   "outputs": [
    {
     "name": "stdout",
     "output_type": "stream",
     "text": [
      "Original dataset shape Counter({0: 47260, 1: 32102, 2: 8116, 3: 668, 4: 35})\n",
      "Oversampled dataset shape Counter({0: 47260, 1: 47260, 2: 47260, 3: 47260, 4: 47260})\n"
     ]
    }
   ],
   "source": [
    "# Using RandomOverSampler for rebalancing the data \n",
    "print('Original dataset shape {}'.format(Counter(train_y)))\n",
    "\n",
    "ros = RandomOverSampler(random_state = 42, sampling_strategy = 'auto')\n",
    "train_x, train_y = ros.fit_resample(train_x, train_y)\n",
    "\n",
    "print('Oversampled dataset shape {}'.format(Counter(train_y)))"
   ]
  },
  {
   "cell_type": "code",
   "execution_count": 104,
   "metadata": {},
   "outputs": [],
   "source": [
    "# Different models\n",
    "models = []\n",
    "models.append(('LR', LogisticRegression()))\n",
    "models.append(('RFC', RandomForestClassifier()))\n",
    "models.append(('CART', DecisionTreeClassifier()))\n",
    "models.append(('ADABC', AdaBoostClassifier()))\n",
    "models.append(('ETC', ExtraTreeClassifier()))\n",
    "models.append(('GBC', GradientBoostingClassifier()))\n",
    "models.append(('XGBC', XGBRFClassifier()))"
   ]
  },
  {
   "cell_type": "code",
   "execution_count": 105,
   "metadata": {
    "scrolled": true
   },
   "outputs": [
    {
     "name": "stdout",
     "output_type": "stream",
     "text": [
      "LR: 0.928532 (0.002733)\n",
      "RFC: 0.999691 (0.000034)\n",
      "CART: 0.999353 (0.000137)\n",
      "ADABC: 0.634321 (0.075698)\n",
      "ETC: 0.998709 (0.000176)\n",
      "GBC: 0.998041 (0.000208)\n",
      "XGBC: 0.995375 (0.000370)\n"
     ]
    }
   ],
   "source": [
    "# evaluate each model in turn\n",
    "names = []\n",
    "results = []\n",
    "\n",
    "for name, model in models:\n",
    "    kfold = StratifiedKFold(n_splits=5, random_state=42, shuffle=True)\n",
    "    cv_results = cross_val_score(model, train_x, train_y, cv=kfold,  n_jobs=-1)\n",
    "    names.append(name)\n",
    "    results.append(cv_results)\n",
    "    print('%s: %f (%f)' % (name, cv_results.mean(), cv_results.std()))"
   ]
  },
  {
   "cell_type": "code",
   "execution_count": 106,
   "metadata": {
    "scrolled": true
   },
   "outputs": [
    {
     "data": {
      "image/png": "[encoded data removed]",
      "text/plain": [
       "<Figure size 432x288 with 1 Axes>"
      ]
     },
     "metadata": {
      "needs_background": "light"
     },
     "output_type": "display_data"
    }
   ],
   "source": [
    "# Compare Algorithms\n",
    "plt.boxplot(results, labels=names)\n",
    "plt.title('Algorithm Comparison')\n",
    "plt.show()"
   ]
  },
  {
   "cell_type": "code",
   "execution_count": 107,
   "metadata": {},
   "outputs": [
    {
     "data": {
      "text/html": [
       "<div>\n",
       "<style scoped>\n",
       "    .dataframe tbody tr th:only-of-type {\n",
       "        vertical-align: middle;\n",
       "    }\n",
       "\n",
       "    .dataframe tbody tr th {\n",
       "        vertical-align: top;\n",
       "    }\n",
       "\n",
       "    .dataframe thead th {\n",
       "        text-align: right;\n",
       "    }\n",
       "</style>\n",
       "<table border=\"1\" class=\"dataframe\">\n",
       "  <thead>\n",
       "    <tr style=\"text-align: right;\">\n",
       "      <th></th>\n",
       "      <th>Model</th>\n",
       "      <th>Score</th>\n",
       "    </tr>\n",
       "  </thead>\n",
       "  <tbody>\n",
       "    <tr>\n",
       "      <th>0</th>\n",
       "      <td>RFC</td>\n",
       "      <td>99.9691</td>\n",
       "    </tr>\n",
       "    <tr>\n",
       "      <th>1</th>\n",
       "      <td>CART</td>\n",
       "      <td>99.9353</td>\n",
       "    </tr>\n",
       "    <tr>\n",
       "      <th>2</th>\n",
       "      <td>ETC</td>\n",
       "      <td>99.8709</td>\n",
       "    </tr>\n",
       "    <tr>\n",
       "      <th>3</th>\n",
       "      <td>GBC</td>\n",
       "      <td>99.8041</td>\n",
       "    </tr>\n",
       "    <tr>\n",
       "      <th>4</th>\n",
       "      <td>XGBC</td>\n",
       "      <td>99.5375</td>\n",
       "    </tr>\n",
       "    <tr>\n",
       "      <th>5</th>\n",
       "      <td>LR</td>\n",
       "      <td>92.8532</td>\n",
       "    </tr>\n",
       "    <tr>\n",
       "      <th>6</th>\n",
       "      <td>ADABC</td>\n",
       "      <td>63.4321</td>\n",
       "    </tr>\n",
       "  </tbody>\n",
       "</table>\n",
       "</div>"
      ],
      "text/plain": [
       "   Model    Score\n",
       "0    RFC  99.9691\n",
       "1   CART  99.9353\n",
       "2    ETC  99.8709\n",
       "3    GBC  99.8041\n",
       "4   XGBC  99.5375\n",
       "5     LR  92.8532\n",
       "6  ADABC  63.4321"
      ]
     },
     "execution_count": 107,
     "metadata": {},
     "output_type": "execute_result"
    }
   ],
   "source": [
    "models_df = pd.DataFrame({'Model': names, 'Score': [round(r.mean()*100,4) for r in results]})\n",
    "models_df.sort_values(by='Score', ascending=False, inplace=True, ignore_index=True)\n",
    "models_df"
   ]
  },
  {
   "cell_type": "markdown",
   "metadata": {},
   "source": [
    "# model"
   ]
  },
  {
   "cell_type": "code",
   "execution_count": 108,
   "metadata": {
    "scrolled": true
   },
   "outputs": [
    {
     "name": "stdout",
     "output_type": "stream",
     "text": [
      "Fitting 5 folds for each of 25 candidates, totalling 125 fits\n"
     ]
    },
    {
     "name": "stderr",
     "output_type": "stream",
     "text": [
      "[Parallel(n_jobs=-1)]: Using backend LokyBackend with 4 concurrent workers.\n",
      "[Parallel(n_jobs=-1)]: Done  10 tasks      | elapsed:  6.7min\n",
      "[Parallel(n_jobs=-1)]: Done  64 tasks      | elapsed: 72.4min\n",
      "[Parallel(n_jobs=-1)]: Done 125 out of 125 | elapsed: 169.1min finished\n"
     ]
    }
   ],
   "source": [
    "param = { 'n_estimators' : [400,500,600,700],\n",
    "         'max_depth' : [20,30,40]\n",
    "        }\n",
    "gscv_rf = GridSearchCV(estimator = RandomForestClassifier(random_state=42), \n",
    "                     param_grid = param,\n",
    "                     cv = 10,\n",
    "                     n_jobs = -1,\n",
    "                     verbose=5).fit(train_x, train_y)"
   ]
  },
  {
   "cell_type": "code",
   "execution_count": 109,
   "metadata": {
    "scrolled": true
   },
   "outputs": [
    {
     "data": {
      "text/plain": [
       "RandomForestClassifier(max_depth=30, n_estimators=500, random_state=42)"
      ]
     },
     "execution_count": 109,
     "metadata": {},
     "output_type": "execute_result"
    }
   ],
   "source": [
    "gscv_rf.best_estimator_"
   ]
  },
  {
   "cell_type": "code",
   "execution_count": 110,
   "metadata": {
    "scrolled": false
   },
   "outputs": [
    {
     "data": {
      "text/plain": [
       "0.9997079983072366"
      ]
     },
     "execution_count": 110,
     "metadata": {},
     "output_type": "execute_result"
    }
   ],
   "source": [
    "gscv_rf.best_score_"
   ]
  },
  {
   "cell_type": "code",
   "execution_count": 111,
   "metadata": {},
   "outputs": [
    {
     "name": "stdout",
     "output_type": "stream",
     "text": [
      "Log Loss train:  0.00041744840963254843\n",
      "Log Loss test:  0.005793477618873462\n"
     ]
    }
   ],
   "source": [
    "rf_multi = gscv_rf.best_estimator_\n",
    "rf_multi.fit(train_x, train_y)\n",
    "\n",
    "# Making prediction on train and test data\n",
    "rf_train_pred = rf_multi.predict(train_x)\n",
    "rf_test_pred = rf_multi.predict(test_x)\n",
    "\n",
    "# Calculating log loss\n",
    "print(\"Log Loss train: \", metrics.log_loss(train_y, rf_multi.predict_proba(train_x)))\n",
    "print(\"Log Loss test: \", metrics.log_loss(test_y, rf_multi.predict_proba(test_x)))"
   ]
  },
  {
   "cell_type": "code",
   "execution_count": 112,
   "metadata": {},
   "outputs": [
    {
     "name": "stdout",
     "output_type": "stream",
     "text": [
      "Model Performance\n",
      "Train Dataset\n",
      "Accuracy :  1.0\n",
      "AUC      :  1.0\n",
      "\n",
      "Test Dataset\n",
      "Accuracy :  0.9987034292972058\n",
      "AUC      :  0.9999800029920378\n"
     ]
    }
   ],
   "source": [
    "print(\"Model Performance\")\n",
    "print(\"Train Dataset\")\n",
    "print(\"Accuracy : \", metrics.accuracy_score(train_y, rf_train_pred))\n",
    "print(\"AUC      : \", metrics.roc_auc_score(train_y, rf_multi.predict_proba(train_x), multi_class = 'ovr'))\n",
    "print(\"\")\n",
    "print(\"Test Dataset\")\n",
    "print(\"Accuracy : \", metrics.accuracy_score(test_y, rf_test_pred))\n",
    "print(\"AUC      : \", metrics.roc_auc_score(test_y, rf_multi.predict_proba(test_x), multi_class = 'ovr'))"
   ]
  },
  {
   "cell_type": "code",
   "execution_count": 115,
   "metadata": {
    "scrolled": true
   },
   "outputs": [
    {
     "name": "stdout",
     "output_type": "stream",
     "text": [
      "              precision    recall  f1-score   support\n",
      "\n",
      "           0       1.00      1.00      1.00     20083\n",
      "           1       1.00      1.00      1.00     13825\n",
      "           2       1.00      1.00      1.00      3540\n",
      "           3       0.97      0.98      0.98       327\n",
      "           4       0.75      0.71      0.73        17\n",
      "\n",
      "    accuracy                           1.00     37792\n",
      "   macro avg       0.94      0.94      0.94     37792\n",
      "weighted avg       1.00      1.00      1.00     37792\n",
      "\n"
     ]
    }
   ],
   "source": [
    "# Getting classification metrics scores for testing\n",
    "print(metrics.classification_report(test_y, rf_test_pred))"
   ]
  },
  {
   "cell_type": "code",
   "execution_count": 116,
   "metadata": {
    "scrolled": false
   },
   "outputs": [
    {
     "data": {
      "image/png": "[encoded data removed]",
      "text/plain": [
       "<Figure size 576x288 with 2 Axes>"
      ]
     },
     "metadata": {
      "needs_background": "light"
     },
     "output_type": "display_data"
    }
   ],
   "source": [
    "# Confusion Matrix for testing\n",
    "plt.figure(figsize = (8,4))\n",
    "confusion_matrix = metrics.confusion_matrix(test_y, rf_test_pred, labels = [0,1,2,3,4])\n",
    "sns.heatmap(confusion_matrix, annot = True, fmt = '.2f',\n",
    "            xticklabels = ['Normal','DoS', 'Probe', 'R2L', 'U2R'],\n",
    "            yticklabels = ['Normal','DoS', 'Probe', 'R2L', 'U2R'] )\n",
    "plt.xlabel('Predicted Label')\n",
    "plt.ylabel('Actual Label')\n",
    "plt.show()"
   ]
  },
  {
   "cell_type": "code",
   "execution_count": 117,
   "metadata": {
    "scrolled": true
   },
   "outputs": [
    {
     "data": {
      "text/plain": [
       "0    20083\n",
       "1    13825\n",
       "2     3540\n",
       "3      327\n",
       "4       17\n",
       "Name: attack_class, dtype: int64"
      ]
     },
     "execution_count": 117,
     "metadata": {},
     "output_type": "execute_result"
    }
   ],
   "source": [
    "test_y.value_counts()"
   ]
  },
  {
   "cell_type": "code",
   "execution_count": 118,
   "metadata": {},
   "outputs": [
    {
     "data": {
      "image/png": "[encoded data removed]",
      "text/plain": [
       "<Figure size 720x360 with 1 Axes>"
      ]
     },
     "metadata": {
      "needs_background": "light"
     },
     "output_type": "display_data"
    }
   ],
   "source": [
    "# Feature Impotance \n",
    "rf_fi = pd.DataFrame({'Features' : train_x.columns ,\n",
    "                      'Importance' : rf_multi.feature_importances_\n",
    "                     }).sort_values(by = 'Importance').reset_index(drop = True)\n",
    "\n",
    "rf_fi.to_excel(output, 'Drivers_Multinomial', startrow=2, startcol=1, index = False)\n",
    "plt.figure(figsize=(10,5))\n",
    "plt.barh(width = rf_fi.Importance, y = rf_fi.Features)\n",
    "plt.show()"
   ]
  },
  {
   "cell_type": "markdown",
   "metadata": {},
   "source": [
    "#### Evaluating model on test dataset"
   ]
  },
  {
   "cell_type": "code",
   "execution_count": 119,
   "metadata": {},
   "outputs": [],
   "source": [
    "rf_testfinal_pred = rf_multi.predict(testdata[final_features])"
   ]
  },
  {
   "cell_type": "code",
   "execution_count": 120,
   "metadata": {
    "scrolled": true
   },
   "outputs": [
    {
     "name": "stdout",
     "output_type": "stream",
     "text": [
      "              precision    recall  f1-score   support\n",
      "\n",
      "           0       0.68      0.97      0.80     10004\n",
      "           1       0.96      0.82      0.88      7167\n",
      "           2       0.74      0.63      0.68      2421\n",
      "           3       0.73      0.01      0.02      2885\n",
      "           4       0.35      0.24      0.28        67\n",
      "\n",
      "    accuracy                           0.76     22544\n",
      "   macro avg       0.69      0.54      0.53     22544\n",
      "weighted avg       0.78      0.76      0.71     22544\n",
      "\n"
     ]
    }
   ],
   "source": [
    "# Getting classification metrics scores for testing\n",
    "print(metrics.classification_report(testdata['attack_class'], rf_testfinal_pred))"
   ]
  },
  {
   "cell_type": "code",
   "execution_count": 121,
   "metadata": {
    "scrolled": false
   },
   "outputs": [
    {
     "data": {
      "image/png": "[encoded data removed]",
      "text/plain": [
       "<Figure size 576x288 with 2 Axes>"
      ]
     },
     "metadata": {
      "needs_background": "light"
     },
     "output_type": "display_data"
    }
   ],
   "source": [
    "# Confusion Matrix for testing\n",
    "plt.figure(figsize = (8,4))\n",
    "confusion_matrix = metrics.confusion_matrix(testdata['attack_class'], rf_testfinal_pred, labels = [0,1,2,3,4])\n",
    "sns.heatmap(confusion_matrix, annot = True, fmt = '.2f',\n",
    "            xticklabels = ['Normal','DoS', 'Probe', 'R2L', 'U2R'],\n",
    "            yticklabels = ['Normal','DoS', 'Probe', 'R2L', 'U2R'] )\n",
    "plt.xlabel('Predicted Label')\n",
    "plt.ylabel('Actual Label')\n",
    "plt.show()"
   ]
  },
  {
   "cell_type": "code",
   "execution_count": 122,
   "metadata": {},
   "outputs": [],
   "source": [
    "trainout['rf_attack_class'] = rf_multi.predict(traindata[final_features])\n",
    "testout['rf_attack_class'] = rf_multi.predict(testdata[final_features])"
   ]
  },
  {
   "cell_type": "code",
   "execution_count": 123,
   "metadata": {},
   "outputs": [],
   "source": [
    "trainout.to_excel(output, 'training', startrow=2, startcol=0, index = False)\n",
    "testout.to_excel(output, 'testing', startrow=2, startcol=0, index = False)"
   ]
  },
  {
   "cell_type": "code",
   "execution_count": 124,
   "metadata": {},
   "outputs": [],
   "source": [
    "output.save()"
   ]
  },
  {
   "cell_type": "code",
   "execution_count": null,
   "metadata": {},
   "outputs": [],
   "source": []
  }
 ],
 "metadata": {
  "kernelspec": {
   "display_name": "Python 3",
   "language": "python",
   "name": "python3"
  },
  "language_info": {
   "codemirror_mode": {
    "name": "ipython",
    "version": 3
   },
   "file_extension": ".py",
   "mimetype": "text/x-python",
   "name": "python",
   "nbconvert_exporter": "python",
   "pygments_lexer": "ipython3",
   "version": "3.7.6"
  }
 },
 "nbformat": 4,
 "nbformat_minor": 4
}
